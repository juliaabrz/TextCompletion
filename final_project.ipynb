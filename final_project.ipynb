{
  "nbformat": 4,
  "nbformat_minor": 0,
  "metadata": {
    "colab": {
      "provenance": [],
      "toc_visible": true
    },
    "kernelspec": {
      "name": "python3",
      "display_name": "Python 3"
    },
    "language_info": {
      "name": "python"
    },
    "widgets": {
      "application/vnd.jupyter.widget-state+json": {
        "f3307343e4df4fffade8422fcb41edb1": {
          "model_module": "@jupyter-widgets/controls",
          "model_name": "TextareaModel",
          "model_module_version": "1.5.0",
          "state": {
            "_dom_classes": [],
            "_model_module": "@jupyter-widgets/controls",
            "_model_module_version": "1.5.0",
            "_model_name": "TextareaModel",
            "_view_count": null,
            "_view_module": "@jupyter-widgets/controls",
            "_view_module_version": "1.5.0",
            "_view_name": "TextareaView",
            "continuous_update": true,
            "description": "Start writing:",
            "description_tooltip": null,
            "disabled": false,
            "layout": "IPY_MODEL_f2083a56b98b4ae182eae26e4dd7fe8a",
            "placeholder": "​",
            "rows": null,
            "style": "IPY_MODEL_49e2b4e1397b482797732a0e2672474e",
            "value": "Once upon a did need guitar she'd"
          }
        },
        "f2083a56b98b4ae182eae26e4dd7fe8a": {
          "model_module": "@jupyter-widgets/base",
          "model_name": "LayoutModel",
          "model_module_version": "1.2.0",
          "state": {
            "_model_module": "@jupyter-widgets/base",
            "_model_module_version": "1.2.0",
            "_model_name": "LayoutModel",
            "_view_count": null,
            "_view_module": "@jupyter-widgets/base",
            "_view_module_version": "1.2.0",
            "_view_name": "LayoutView",
            "align_content": null,
            "align_items": null,
            "align_self": null,
            "border": null,
            "bottom": null,
            "display": null,
            "flex": null,
            "flex_flow": null,
            "grid_area": null,
            "grid_auto_columns": null,
            "grid_auto_flow": null,
            "grid_auto_rows": null,
            "grid_column": null,
            "grid_gap": null,
            "grid_row": null,
            "grid_template_areas": null,
            "grid_template_columns": null,
            "grid_template_rows": null,
            "height": null,
            "justify_content": null,
            "justify_items": null,
            "left": null,
            "margin": null,
            "max_height": null,
            "max_width": null,
            "min_height": null,
            "min_width": null,
            "object_fit": null,
            "object_position": null,
            "order": null,
            "overflow": null,
            "overflow_x": null,
            "overflow_y": null,
            "padding": null,
            "right": null,
            "top": null,
            "visibility": null,
            "width": null
          }
        },
        "49e2b4e1397b482797732a0e2672474e": {
          "model_module": "@jupyter-widgets/controls",
          "model_name": "DescriptionStyleModel",
          "model_module_version": "1.5.0",
          "state": {
            "_model_module": "@jupyter-widgets/controls",
            "_model_module_version": "1.5.0",
            "_model_name": "DescriptionStyleModel",
            "_view_count": null,
            "_view_module": "@jupyter-widgets/base",
            "_view_module_version": "1.2.0",
            "_view_name": "StyleView",
            "description_width": ""
          }
        },
        "50a553efdf0d4c228c1be7b7937d303a": {
          "model_module": "@jupyter-widgets/controls",
          "model_name": "ButtonModel",
          "model_module_version": "1.5.0",
          "state": {
            "_dom_classes": [],
            "_model_module": "@jupyter-widgets/controls",
            "_model_module_version": "1.5.0",
            "_model_name": "ButtonModel",
            "_view_count": null,
            "_view_module": "@jupyter-widgets/controls",
            "_view_module_version": "1.5.0",
            "_view_name": "ButtonView",
            "button_style": "success",
            "description": "Suggest",
            "disabled": false,
            "icon": "",
            "layout": "IPY_MODEL_5323905018b3446a85343a56b929bd44",
            "style": "IPY_MODEL_25572d50553b49a09b7a90f788ea7353",
            "tooltip": ""
          }
        },
        "5323905018b3446a85343a56b929bd44": {
          "model_module": "@jupyter-widgets/base",
          "model_name": "LayoutModel",
          "model_module_version": "1.2.0",
          "state": {
            "_model_module": "@jupyter-widgets/base",
            "_model_module_version": "1.2.0",
            "_model_name": "LayoutModel",
            "_view_count": null,
            "_view_module": "@jupyter-widgets/base",
            "_view_module_version": "1.2.0",
            "_view_name": "LayoutView",
            "align_content": null,
            "align_items": null,
            "align_self": null,
            "border": null,
            "bottom": null,
            "display": null,
            "flex": null,
            "flex_flow": null,
            "grid_area": null,
            "grid_auto_columns": null,
            "grid_auto_flow": null,
            "grid_auto_rows": null,
            "grid_column": null,
            "grid_gap": null,
            "grid_row": null,
            "grid_template_areas": null,
            "grid_template_columns": null,
            "grid_template_rows": null,
            "height": null,
            "justify_content": null,
            "justify_items": null,
            "left": null,
            "margin": null,
            "max_height": null,
            "max_width": null,
            "min_height": null,
            "min_width": null,
            "object_fit": null,
            "object_position": null,
            "order": null,
            "overflow": null,
            "overflow_x": null,
            "overflow_y": null,
            "padding": null,
            "right": null,
            "top": null,
            "visibility": null,
            "width": null
          }
        },
        "25572d50553b49a09b7a90f788ea7353": {
          "model_module": "@jupyter-widgets/controls",
          "model_name": "ButtonStyleModel",
          "model_module_version": "1.5.0",
          "state": {
            "_model_module": "@jupyter-widgets/controls",
            "_model_module_version": "1.5.0",
            "_model_name": "ButtonStyleModel",
            "_view_count": null,
            "_view_module": "@jupyter-widgets/base",
            "_view_module_version": "1.2.0",
            "_view_name": "StyleView",
            "button_color": null,
            "font_weight": ""
          }
        },
        "eeb86cb0e0714276a16128d4ef1e344e": {
          "model_module": "@jupyter-widgets/controls",
          "model_name": "ButtonModel",
          "model_module_version": "1.5.0",
          "state": {
            "_dom_classes": [],
            "_model_module": "@jupyter-widgets/controls",
            "_model_module_version": "1.5.0",
            "_model_name": "ButtonModel",
            "_view_count": null,
            "_view_module": "@jupyter-widgets/controls",
            "_view_module_version": "1.5.0",
            "_view_name": "ButtonView",
            "button_style": "info",
            "description": "New Line",
            "disabled": false,
            "icon": "",
            "layout": "IPY_MODEL_6dacc6cee81c45c99b8f3310a3ef95a2",
            "style": "IPY_MODEL_d00df0afb6ac4467af2cfdb51fe33ce5",
            "tooltip": ""
          }
        },
        "6dacc6cee81c45c99b8f3310a3ef95a2": {
          "model_module": "@jupyter-widgets/base",
          "model_name": "LayoutModel",
          "model_module_version": "1.2.0",
          "state": {
            "_model_module": "@jupyter-widgets/base",
            "_model_module_version": "1.2.0",
            "_model_name": "LayoutModel",
            "_view_count": null,
            "_view_module": "@jupyter-widgets/base",
            "_view_module_version": "1.2.0",
            "_view_name": "LayoutView",
            "align_content": null,
            "align_items": null,
            "align_self": null,
            "border": null,
            "bottom": null,
            "display": null,
            "flex": null,
            "flex_flow": null,
            "grid_area": null,
            "grid_auto_columns": null,
            "grid_auto_flow": null,
            "grid_auto_rows": null,
            "grid_column": null,
            "grid_gap": null,
            "grid_row": null,
            "grid_template_areas": null,
            "grid_template_columns": null,
            "grid_template_rows": null,
            "height": null,
            "justify_content": null,
            "justify_items": null,
            "left": null,
            "margin": null,
            "max_height": null,
            "max_width": null,
            "min_height": null,
            "min_width": null,
            "object_fit": null,
            "object_position": null,
            "order": null,
            "overflow": null,
            "overflow_x": null,
            "overflow_y": null,
            "padding": null,
            "right": null,
            "top": null,
            "visibility": null,
            "width": null
          }
        },
        "d00df0afb6ac4467af2cfdb51fe33ce5": {
          "model_module": "@jupyter-widgets/controls",
          "model_name": "ButtonStyleModel",
          "model_module_version": "1.5.0",
          "state": {
            "_model_module": "@jupyter-widgets/controls",
            "_model_module_version": "1.5.0",
            "_model_name": "ButtonStyleModel",
            "_view_count": null,
            "_view_module": "@jupyter-widgets/base",
            "_view_module_version": "1.2.0",
            "_view_name": "StyleView",
            "button_color": null,
            "font_weight": ""
          }
        },
        "5f803294262b431cbb10efab88bce357": {
          "model_module": "@jupyter-widgets/controls",
          "model_name": "ButtonModel",
          "model_module_version": "1.5.0",
          "state": {
            "_dom_classes": [],
            "_model_module": "@jupyter-widgets/controls",
            "_model_module_version": "1.5.0",
            "_model_name": "ButtonModel",
            "_view_count": null,
            "_view_module": "@jupyter-widgets/controls",
            "_view_module_version": "1.5.0",
            "_view_name": "ButtonView",
            "button_style": "danger",
            "description": "Quit",
            "disabled": false,
            "icon": "",
            "layout": "IPY_MODEL_708d6ed5ff384f1bbd38936e4f541721",
            "style": "IPY_MODEL_a1d17834200145679160a9282aff6dd5",
            "tooltip": ""
          }
        },
        "708d6ed5ff384f1bbd38936e4f541721": {
          "model_module": "@jupyter-widgets/base",
          "model_name": "LayoutModel",
          "model_module_version": "1.2.0",
          "state": {
            "_model_module": "@jupyter-widgets/base",
            "_model_module_version": "1.2.0",
            "_model_name": "LayoutModel",
            "_view_count": null,
            "_view_module": "@jupyter-widgets/base",
            "_view_module_version": "1.2.0",
            "_view_name": "LayoutView",
            "align_content": null,
            "align_items": null,
            "align_self": null,
            "border": null,
            "bottom": null,
            "display": null,
            "flex": null,
            "flex_flow": null,
            "grid_area": null,
            "grid_auto_columns": null,
            "grid_auto_flow": null,
            "grid_auto_rows": null,
            "grid_column": null,
            "grid_gap": null,
            "grid_row": null,
            "grid_template_areas": null,
            "grid_template_columns": null,
            "grid_template_rows": null,
            "height": null,
            "justify_content": null,
            "justify_items": null,
            "left": null,
            "margin": null,
            "max_height": null,
            "max_width": null,
            "min_height": null,
            "min_width": null,
            "object_fit": null,
            "object_position": null,
            "order": null,
            "overflow": null,
            "overflow_x": null,
            "overflow_y": null,
            "padding": null,
            "right": null,
            "top": null,
            "visibility": null,
            "width": null
          }
        },
        "a1d17834200145679160a9282aff6dd5": {
          "model_module": "@jupyter-widgets/controls",
          "model_name": "ButtonStyleModel",
          "model_module_version": "1.5.0",
          "state": {
            "_model_module": "@jupyter-widgets/controls",
            "_model_module_version": "1.5.0",
            "_model_name": "ButtonStyleModel",
            "_view_count": null,
            "_view_module": "@jupyter-widgets/base",
            "_view_module_version": "1.2.0",
            "_view_name": "StyleView",
            "button_color": null,
            "font_weight": ""
          }
        },
        "339f5903548d4eff94cc5fe824956aab": {
          "model_module": "@jupyter-widgets/controls",
          "model_name": "ButtonModel",
          "model_module_version": "1.5.0",
          "state": {
            "_dom_classes": [],
            "_model_module": "@jupyter-widgets/controls",
            "_model_module_version": "1.5.0",
            "_model_name": "ButtonModel",
            "_view_count": null,
            "_view_module": "@jupyter-widgets/controls",
            "_view_module_version": "1.5.0",
            "_view_name": "ButtonView",
            "button_style": "",
            "description": "did",
            "disabled": false,
            "icon": "",
            "layout": "IPY_MODEL_dac0be55035a49f0a54f9cd16482ac8e",
            "style": "IPY_MODEL_1a130ad858304a9087e8e1a8f3171d57",
            "tooltip": ""
          }
        },
        "dac0be55035a49f0a54f9cd16482ac8e": {
          "model_module": "@jupyter-widgets/base",
          "model_name": "LayoutModel",
          "model_module_version": "1.2.0",
          "state": {
            "_model_module": "@jupyter-widgets/base",
            "_model_module_version": "1.2.0",
            "_model_name": "LayoutModel",
            "_view_count": null,
            "_view_module": "@jupyter-widgets/base",
            "_view_module_version": "1.2.0",
            "_view_name": "LayoutView",
            "align_content": null,
            "align_items": null,
            "align_self": null,
            "border": null,
            "bottom": null,
            "display": null,
            "flex": null,
            "flex_flow": null,
            "grid_area": null,
            "grid_auto_columns": null,
            "grid_auto_flow": null,
            "grid_auto_rows": null,
            "grid_column": null,
            "grid_gap": null,
            "grid_row": null,
            "grid_template_areas": null,
            "grid_template_columns": null,
            "grid_template_rows": null,
            "height": null,
            "justify_content": null,
            "justify_items": null,
            "left": null,
            "margin": null,
            "max_height": null,
            "max_width": null,
            "min_height": null,
            "min_width": null,
            "object_fit": null,
            "object_position": null,
            "order": null,
            "overflow": null,
            "overflow_x": null,
            "overflow_y": null,
            "padding": null,
            "right": null,
            "top": null,
            "visibility": null,
            "width": null
          }
        },
        "1a130ad858304a9087e8e1a8f3171d57": {
          "model_module": "@jupyter-widgets/controls",
          "model_name": "ButtonStyleModel",
          "model_module_version": "1.5.0",
          "state": {
            "_model_module": "@jupyter-widgets/controls",
            "_model_module_version": "1.5.0",
            "_model_name": "ButtonStyleModel",
            "_view_count": null,
            "_view_module": "@jupyter-widgets/base",
            "_view_module_version": "1.2.0",
            "_view_name": "StyleView",
            "button_color": null,
            "font_weight": ""
          }
        },
        "f42cebf0b3344b52889629e9f555d501": {
          "model_module": "@jupyter-widgets/controls",
          "model_name": "ButtonModel",
          "model_module_version": "1.5.0",
          "state": {
            "_dom_classes": [],
            "_model_module": "@jupyter-widgets/controls",
            "_model_module_version": "1.5.0",
            "_model_name": "ButtonModel",
            "_view_count": null,
            "_view_module": "@jupyter-widgets/controls",
            "_view_module_version": "1.5.0",
            "_view_name": "ButtonView",
            "button_style": "",
            "description": "them",
            "disabled": false,
            "icon": "",
            "layout": "IPY_MODEL_dfcf9b1cbc144564a899e8adf421947a",
            "style": "IPY_MODEL_09fecc1c1e204364bd5b5f00b75b0b23",
            "tooltip": ""
          }
        },
        "dfcf9b1cbc144564a899e8adf421947a": {
          "model_module": "@jupyter-widgets/base",
          "model_name": "LayoutModel",
          "model_module_version": "1.2.0",
          "state": {
            "_model_module": "@jupyter-widgets/base",
            "_model_module_version": "1.2.0",
            "_model_name": "LayoutModel",
            "_view_count": null,
            "_view_module": "@jupyter-widgets/base",
            "_view_module_version": "1.2.0",
            "_view_name": "LayoutView",
            "align_content": null,
            "align_items": null,
            "align_self": null,
            "border": null,
            "bottom": null,
            "display": null,
            "flex": null,
            "flex_flow": null,
            "grid_area": null,
            "grid_auto_columns": null,
            "grid_auto_flow": null,
            "grid_auto_rows": null,
            "grid_column": null,
            "grid_gap": null,
            "grid_row": null,
            "grid_template_areas": null,
            "grid_template_columns": null,
            "grid_template_rows": null,
            "height": null,
            "justify_content": null,
            "justify_items": null,
            "left": null,
            "margin": null,
            "max_height": null,
            "max_width": null,
            "min_height": null,
            "min_width": null,
            "object_fit": null,
            "object_position": null,
            "order": null,
            "overflow": null,
            "overflow_x": null,
            "overflow_y": null,
            "padding": null,
            "right": null,
            "top": null,
            "visibility": null,
            "width": null
          }
        },
        "09fecc1c1e204364bd5b5f00b75b0b23": {
          "model_module": "@jupyter-widgets/controls",
          "model_name": "ButtonStyleModel",
          "model_module_version": "1.5.0",
          "state": {
            "_model_module": "@jupyter-widgets/controls",
            "_model_module_version": "1.5.0",
            "_model_name": "ButtonStyleModel",
            "_view_count": null,
            "_view_module": "@jupyter-widgets/base",
            "_view_module_version": "1.2.0",
            "_view_name": "StyleView",
            "button_color": null,
            "font_weight": ""
          }
        },
        "d10c7b58f25a4810bcb9e01f277db4d3": {
          "model_module": "@jupyter-widgets/controls",
          "model_name": "ButtonModel",
          "model_module_version": "1.5.0",
          "state": {
            "_dom_classes": [],
            "_model_module": "@jupyter-widgets/controls",
            "_model_module_version": "1.5.0",
            "_model_name": "ButtonModel",
            "_view_count": null,
            "_view_module": "@jupyter-widgets/controls",
            "_view_module_version": "1.5.0",
            "_view_name": "ButtonView",
            "button_style": "",
            "description": "shade",
            "disabled": false,
            "icon": "",
            "layout": "IPY_MODEL_248919d237c845629eb323ed9a4c2c9e",
            "style": "IPY_MODEL_f0047a0691e843a3ada686d628914992",
            "tooltip": ""
          }
        },
        "248919d237c845629eb323ed9a4c2c9e": {
          "model_module": "@jupyter-widgets/base",
          "model_name": "LayoutModel",
          "model_module_version": "1.2.0",
          "state": {
            "_model_module": "@jupyter-widgets/base",
            "_model_module_version": "1.2.0",
            "_model_name": "LayoutModel",
            "_view_count": null,
            "_view_module": "@jupyter-widgets/base",
            "_view_module_version": "1.2.0",
            "_view_name": "LayoutView",
            "align_content": null,
            "align_items": null,
            "align_self": null,
            "border": null,
            "bottom": null,
            "display": null,
            "flex": null,
            "flex_flow": null,
            "grid_area": null,
            "grid_auto_columns": null,
            "grid_auto_flow": null,
            "grid_auto_rows": null,
            "grid_column": null,
            "grid_gap": null,
            "grid_row": null,
            "grid_template_areas": null,
            "grid_template_columns": null,
            "grid_template_rows": null,
            "height": null,
            "justify_content": null,
            "justify_items": null,
            "left": null,
            "margin": null,
            "max_height": null,
            "max_width": null,
            "min_height": null,
            "min_width": null,
            "object_fit": null,
            "object_position": null,
            "order": null,
            "overflow": null,
            "overflow_x": null,
            "overflow_y": null,
            "padding": null,
            "right": null,
            "top": null,
            "visibility": null,
            "width": null
          }
        },
        "f0047a0691e843a3ada686d628914992": {
          "model_module": "@jupyter-widgets/controls",
          "model_name": "ButtonStyleModel",
          "model_module_version": "1.5.0",
          "state": {
            "_model_module": "@jupyter-widgets/controls",
            "_model_module_version": "1.5.0",
            "_model_name": "ButtonStyleModel",
            "_view_count": null,
            "_view_module": "@jupyter-widgets/base",
            "_view_module_version": "1.2.0",
            "_view_name": "StyleView",
            "button_color": null,
            "font_weight": ""
          }
        },
        "8a7f88be4b494ff68bca83e59e114c88": {
          "model_module": "@jupyter-widgets/controls",
          "model_name": "ButtonModel",
          "model_module_version": "1.5.0",
          "state": {
            "_dom_classes": [],
            "_model_module": "@jupyter-widgets/controls",
            "_model_module_version": "1.5.0",
            "_model_name": "ButtonModel",
            "_view_count": null,
            "_view_module": "@jupyter-widgets/controls",
            "_view_module_version": "1.5.0",
            "_view_name": "ButtonView",
            "button_style": "",
            "description": "trying",
            "disabled": false,
            "icon": "",
            "layout": "IPY_MODEL_64eaa155e6174a7d8b3c32e7db4f60ee",
            "style": "IPY_MODEL_62491bb2cc6b4ecba6d7452f35542559",
            "tooltip": ""
          }
        },
        "64eaa155e6174a7d8b3c32e7db4f60ee": {
          "model_module": "@jupyter-widgets/base",
          "model_name": "LayoutModel",
          "model_module_version": "1.2.0",
          "state": {
            "_model_module": "@jupyter-widgets/base",
            "_model_module_version": "1.2.0",
            "_model_name": "LayoutModel",
            "_view_count": null,
            "_view_module": "@jupyter-widgets/base",
            "_view_module_version": "1.2.0",
            "_view_name": "LayoutView",
            "align_content": null,
            "align_items": null,
            "align_self": null,
            "border": null,
            "bottom": null,
            "display": null,
            "flex": null,
            "flex_flow": null,
            "grid_area": null,
            "grid_auto_columns": null,
            "grid_auto_flow": null,
            "grid_auto_rows": null,
            "grid_column": null,
            "grid_gap": null,
            "grid_row": null,
            "grid_template_areas": null,
            "grid_template_columns": null,
            "grid_template_rows": null,
            "height": null,
            "justify_content": null,
            "justify_items": null,
            "left": null,
            "margin": null,
            "max_height": null,
            "max_width": null,
            "min_height": null,
            "min_width": null,
            "object_fit": null,
            "object_position": null,
            "order": null,
            "overflow": null,
            "overflow_x": null,
            "overflow_y": null,
            "padding": null,
            "right": null,
            "top": null,
            "visibility": null,
            "width": null
          }
        },
        "62491bb2cc6b4ecba6d7452f35542559": {
          "model_module": "@jupyter-widgets/controls",
          "model_name": "ButtonStyleModel",
          "model_module_version": "1.5.0",
          "state": {
            "_model_module": "@jupyter-widgets/controls",
            "_model_module_version": "1.5.0",
            "_model_name": "ButtonStyleModel",
            "_view_count": null,
            "_view_module": "@jupyter-widgets/base",
            "_view_module_version": "1.2.0",
            "_view_name": "StyleView",
            "button_color": null,
            "font_weight": ""
          }
        },
        "06f2a7e4f3b2494b916aabac01fe4393": {
          "model_module": "@jupyter-widgets/controls",
          "model_name": "ButtonModel",
          "model_module_version": "1.5.0",
          "state": {
            "_dom_classes": [],
            "_model_module": "@jupyter-widgets/controls",
            "_model_module_version": "1.5.0",
            "_model_name": "ButtonModel",
            "_view_count": null,
            "_view_module": "@jupyter-widgets/controls",
            "_view_module_version": "1.5.0",
            "_view_name": "ButtonView",
            "button_style": "",
            "description": "need",
            "disabled": false,
            "icon": "",
            "layout": "IPY_MODEL_3d7b291c03df48309497500b64ecf6a5",
            "style": "IPY_MODEL_312fe38890f34ba1879f2b1d933d9555",
            "tooltip": ""
          }
        },
        "3d7b291c03df48309497500b64ecf6a5": {
          "model_module": "@jupyter-widgets/base",
          "model_name": "LayoutModel",
          "model_module_version": "1.2.0",
          "state": {
            "_model_module": "@jupyter-widgets/base",
            "_model_module_version": "1.2.0",
            "_model_name": "LayoutModel",
            "_view_count": null,
            "_view_module": "@jupyter-widgets/base",
            "_view_module_version": "1.2.0",
            "_view_name": "LayoutView",
            "align_content": null,
            "align_items": null,
            "align_self": null,
            "border": null,
            "bottom": null,
            "display": null,
            "flex": null,
            "flex_flow": null,
            "grid_area": null,
            "grid_auto_columns": null,
            "grid_auto_flow": null,
            "grid_auto_rows": null,
            "grid_column": null,
            "grid_gap": null,
            "grid_row": null,
            "grid_template_areas": null,
            "grid_template_columns": null,
            "grid_template_rows": null,
            "height": null,
            "justify_content": null,
            "justify_items": null,
            "left": null,
            "margin": null,
            "max_height": null,
            "max_width": null,
            "min_height": null,
            "min_width": null,
            "object_fit": null,
            "object_position": null,
            "order": null,
            "overflow": null,
            "overflow_x": null,
            "overflow_y": null,
            "padding": null,
            "right": null,
            "top": null,
            "visibility": null,
            "width": null
          }
        },
        "312fe38890f34ba1879f2b1d933d9555": {
          "model_module": "@jupyter-widgets/controls",
          "model_name": "ButtonStyleModel",
          "model_module_version": "1.5.0",
          "state": {
            "_model_module": "@jupyter-widgets/controls",
            "_model_module_version": "1.5.0",
            "_model_name": "ButtonStyleModel",
            "_view_count": null,
            "_view_module": "@jupyter-widgets/base",
            "_view_module_version": "1.2.0",
            "_view_name": "StyleView",
            "button_color": null,
            "font_weight": ""
          }
        },
        "6094f0b81dab410e8643a4b84345a5e3": {
          "model_module": "@jupyter-widgets/controls",
          "model_name": "ButtonModel",
          "model_module_version": "1.5.0",
          "state": {
            "_dom_classes": [],
            "_model_module": "@jupyter-widgets/controls",
            "_model_module_version": "1.5.0",
            "_model_name": "ButtonModel",
            "_view_count": null,
            "_view_module": "@jupyter-widgets/controls",
            "_view_module_version": "1.5.0",
            "_view_name": "ButtonView",
            "button_style": "",
            "description": "taken",
            "disabled": false,
            "icon": "",
            "layout": "IPY_MODEL_34f434effb6c4424a6cc2492e709c494",
            "style": "IPY_MODEL_0bb0f3f7c3c0457f97cafa1035d0360e",
            "tooltip": ""
          }
        },
        "34f434effb6c4424a6cc2492e709c494": {
          "model_module": "@jupyter-widgets/base",
          "model_name": "LayoutModel",
          "model_module_version": "1.2.0",
          "state": {
            "_model_module": "@jupyter-widgets/base",
            "_model_module_version": "1.2.0",
            "_model_name": "LayoutModel",
            "_view_count": null,
            "_view_module": "@jupyter-widgets/base",
            "_view_module_version": "1.2.0",
            "_view_name": "LayoutView",
            "align_content": null,
            "align_items": null,
            "align_self": null,
            "border": null,
            "bottom": null,
            "display": null,
            "flex": null,
            "flex_flow": null,
            "grid_area": null,
            "grid_auto_columns": null,
            "grid_auto_flow": null,
            "grid_auto_rows": null,
            "grid_column": null,
            "grid_gap": null,
            "grid_row": null,
            "grid_template_areas": null,
            "grid_template_columns": null,
            "grid_template_rows": null,
            "height": null,
            "justify_content": null,
            "justify_items": null,
            "left": null,
            "margin": null,
            "max_height": null,
            "max_width": null,
            "min_height": null,
            "min_width": null,
            "object_fit": null,
            "object_position": null,
            "order": null,
            "overflow": null,
            "overflow_x": null,
            "overflow_y": null,
            "padding": null,
            "right": null,
            "top": null,
            "visibility": null,
            "width": null
          }
        },
        "0bb0f3f7c3c0457f97cafa1035d0360e": {
          "model_module": "@jupyter-widgets/controls",
          "model_name": "ButtonStyleModel",
          "model_module_version": "1.5.0",
          "state": {
            "_model_module": "@jupyter-widgets/controls",
            "_model_module_version": "1.5.0",
            "_model_name": "ButtonStyleModel",
            "_view_count": null,
            "_view_module": "@jupyter-widgets/base",
            "_view_module_version": "1.2.0",
            "_view_name": "StyleView",
            "button_color": null,
            "font_weight": ""
          }
        },
        "beca9ebab2294df1b4b6d247891e4ecb": {
          "model_module": "@jupyter-widgets/controls",
          "model_name": "ButtonModel",
          "model_module_version": "1.5.0",
          "state": {
            "_dom_classes": [],
            "_model_module": "@jupyter-widgets/controls",
            "_model_module_version": "1.5.0",
            "_model_name": "ButtonModel",
            "_view_count": null,
            "_view_module": "@jupyter-widgets/controls",
            "_view_module_version": "1.5.0",
            "_view_name": "ButtonView",
            "button_style": "",
            "description": "he's",
            "disabled": false,
            "icon": "",
            "layout": "IPY_MODEL_c5c2ed4b8eb24adc84c70be8f43323fe",
            "style": "IPY_MODEL_7849f76ec7d447ef84e7fe8cfb5871b3",
            "tooltip": ""
          }
        },
        "c5c2ed4b8eb24adc84c70be8f43323fe": {
          "model_module": "@jupyter-widgets/base",
          "model_name": "LayoutModel",
          "model_module_version": "1.2.0",
          "state": {
            "_model_module": "@jupyter-widgets/base",
            "_model_module_version": "1.2.0",
            "_model_name": "LayoutModel",
            "_view_count": null,
            "_view_module": "@jupyter-widgets/base",
            "_view_module_version": "1.2.0",
            "_view_name": "LayoutView",
            "align_content": null,
            "align_items": null,
            "align_self": null,
            "border": null,
            "bottom": null,
            "display": null,
            "flex": null,
            "flex_flow": null,
            "grid_area": null,
            "grid_auto_columns": null,
            "grid_auto_flow": null,
            "grid_auto_rows": null,
            "grid_column": null,
            "grid_gap": null,
            "grid_row": null,
            "grid_template_areas": null,
            "grid_template_columns": null,
            "grid_template_rows": null,
            "height": null,
            "justify_content": null,
            "justify_items": null,
            "left": null,
            "margin": null,
            "max_height": null,
            "max_width": null,
            "min_height": null,
            "min_width": null,
            "object_fit": null,
            "object_position": null,
            "order": null,
            "overflow": null,
            "overflow_x": null,
            "overflow_y": null,
            "padding": null,
            "right": null,
            "top": null,
            "visibility": null,
            "width": null
          }
        },
        "7849f76ec7d447ef84e7fe8cfb5871b3": {
          "model_module": "@jupyter-widgets/controls",
          "model_name": "ButtonStyleModel",
          "model_module_version": "1.5.0",
          "state": {
            "_model_module": "@jupyter-widgets/controls",
            "_model_module_version": "1.5.0",
            "_model_name": "ButtonStyleModel",
            "_view_count": null,
            "_view_module": "@jupyter-widgets/base",
            "_view_module_version": "1.2.0",
            "_view_name": "StyleView",
            "button_color": null,
            "font_weight": ""
          }
        },
        "fb47766b9dca4785876e325e7759a349": {
          "model_module": "@jupyter-widgets/controls",
          "model_name": "ButtonModel",
          "model_module_version": "1.5.0",
          "state": {
            "_dom_classes": [],
            "_model_module": "@jupyter-widgets/controls",
            "_model_module_version": "1.5.0",
            "_model_name": "ButtonModel",
            "_view_count": null,
            "_view_module": "@jupyter-widgets/controls",
            "_view_module_version": "1.5.0",
            "_view_name": "ButtonView",
            "button_style": "",
            "description": "guitar",
            "disabled": false,
            "icon": "",
            "layout": "IPY_MODEL_ae4cdbf2242f4f318d907adbd7bfde82",
            "style": "IPY_MODEL_48367afff5334ff5a877f609b6d498db",
            "tooltip": ""
          }
        },
        "ae4cdbf2242f4f318d907adbd7bfde82": {
          "model_module": "@jupyter-widgets/base",
          "model_name": "LayoutModel",
          "model_module_version": "1.2.0",
          "state": {
            "_model_module": "@jupyter-widgets/base",
            "_model_module_version": "1.2.0",
            "_model_name": "LayoutModel",
            "_view_count": null,
            "_view_module": "@jupyter-widgets/base",
            "_view_module_version": "1.2.0",
            "_view_name": "LayoutView",
            "align_content": null,
            "align_items": null,
            "align_self": null,
            "border": null,
            "bottom": null,
            "display": null,
            "flex": null,
            "flex_flow": null,
            "grid_area": null,
            "grid_auto_columns": null,
            "grid_auto_flow": null,
            "grid_auto_rows": null,
            "grid_column": null,
            "grid_gap": null,
            "grid_row": null,
            "grid_template_areas": null,
            "grid_template_columns": null,
            "grid_template_rows": null,
            "height": null,
            "justify_content": null,
            "justify_items": null,
            "left": null,
            "margin": null,
            "max_height": null,
            "max_width": null,
            "min_height": null,
            "min_width": null,
            "object_fit": null,
            "object_position": null,
            "order": null,
            "overflow": null,
            "overflow_x": null,
            "overflow_y": null,
            "padding": null,
            "right": null,
            "top": null,
            "visibility": null,
            "width": null
          }
        },
        "48367afff5334ff5a877f609b6d498db": {
          "model_module": "@jupyter-widgets/controls",
          "model_name": "ButtonStyleModel",
          "model_module_version": "1.5.0",
          "state": {
            "_model_module": "@jupyter-widgets/controls",
            "_model_module_version": "1.5.0",
            "_model_name": "ButtonStyleModel",
            "_view_count": null,
            "_view_module": "@jupyter-widgets/base",
            "_view_module_version": "1.2.0",
            "_view_name": "StyleView",
            "button_color": null,
            "font_weight": ""
          }
        },
        "81527367db1842cfa6305107bd1ce03a": {
          "model_module": "@jupyter-widgets/controls",
          "model_name": "ButtonModel",
          "model_module_version": "1.5.0",
          "state": {
            "_dom_classes": [],
            "_model_module": "@jupyter-widgets/controls",
            "_model_module_version": "1.5.0",
            "_model_name": "ButtonModel",
            "_view_count": null,
            "_view_module": "@jupyter-widgets/controls",
            "_view_module_version": "1.5.0",
            "_view_name": "ButtonView",
            "button_style": "",
            "description": "teardrops",
            "disabled": false,
            "icon": "",
            "layout": "IPY_MODEL_bd03984ad9f34cd9a5c4140c086fc277",
            "style": "IPY_MODEL_29be23b3fbb74e8299806e912c43026e",
            "tooltip": ""
          }
        },
        "bd03984ad9f34cd9a5c4140c086fc277": {
          "model_module": "@jupyter-widgets/base",
          "model_name": "LayoutModel",
          "model_module_version": "1.2.0",
          "state": {
            "_model_module": "@jupyter-widgets/base",
            "_model_module_version": "1.2.0",
            "_model_name": "LayoutModel",
            "_view_count": null,
            "_view_module": "@jupyter-widgets/base",
            "_view_module_version": "1.2.0",
            "_view_name": "LayoutView",
            "align_content": null,
            "align_items": null,
            "align_self": null,
            "border": null,
            "bottom": null,
            "display": null,
            "flex": null,
            "flex_flow": null,
            "grid_area": null,
            "grid_auto_columns": null,
            "grid_auto_flow": null,
            "grid_auto_rows": null,
            "grid_column": null,
            "grid_gap": null,
            "grid_row": null,
            "grid_template_areas": null,
            "grid_template_columns": null,
            "grid_template_rows": null,
            "height": null,
            "justify_content": null,
            "justify_items": null,
            "left": null,
            "margin": null,
            "max_height": null,
            "max_width": null,
            "min_height": null,
            "min_width": null,
            "object_fit": null,
            "object_position": null,
            "order": null,
            "overflow": null,
            "overflow_x": null,
            "overflow_y": null,
            "padding": null,
            "right": null,
            "top": null,
            "visibility": null,
            "width": null
          }
        },
        "29be23b3fbb74e8299806e912c43026e": {
          "model_module": "@jupyter-widgets/controls",
          "model_name": "ButtonStyleModel",
          "model_module_version": "1.5.0",
          "state": {
            "_model_module": "@jupyter-widgets/controls",
            "_model_module_version": "1.5.0",
            "_model_name": "ButtonStyleModel",
            "_view_count": null,
            "_view_module": "@jupyter-widgets/base",
            "_view_module_version": "1.2.0",
            "_view_name": "StyleView",
            "button_color": null,
            "font_weight": ""
          }
        },
        "065d38f606724af2b22699c563a0b460": {
          "model_module": "@jupyter-widgets/controls",
          "model_name": "ButtonModel",
          "model_module_version": "1.5.0",
          "state": {
            "_dom_classes": [],
            "_model_module": "@jupyter-widgets/controls",
            "_model_module_version": "1.5.0",
            "_model_name": "ButtonModel",
            "_view_count": null,
            "_view_module": "@jupyter-widgets/controls",
            "_view_module_version": "1.5.0",
            "_view_name": "ButtonView",
            "button_style": "",
            "description": "she'd",
            "disabled": false,
            "icon": "",
            "layout": "IPY_MODEL_933cb567aee54833a697918c31fa8edc",
            "style": "IPY_MODEL_44df46de2d154b1097173983276a9535",
            "tooltip": ""
          }
        },
        "933cb567aee54833a697918c31fa8edc": {
          "model_module": "@jupyter-widgets/base",
          "model_name": "LayoutModel",
          "model_module_version": "1.2.0",
          "state": {
            "_model_module": "@jupyter-widgets/base",
            "_model_module_version": "1.2.0",
            "_model_name": "LayoutModel",
            "_view_count": null,
            "_view_module": "@jupyter-widgets/base",
            "_view_module_version": "1.2.0",
            "_view_name": "LayoutView",
            "align_content": null,
            "align_items": null,
            "align_self": null,
            "border": null,
            "bottom": null,
            "display": null,
            "flex": null,
            "flex_flow": null,
            "grid_area": null,
            "grid_auto_columns": null,
            "grid_auto_flow": null,
            "grid_auto_rows": null,
            "grid_column": null,
            "grid_gap": null,
            "grid_row": null,
            "grid_template_areas": null,
            "grid_template_columns": null,
            "grid_template_rows": null,
            "height": null,
            "justify_content": null,
            "justify_items": null,
            "left": null,
            "margin": null,
            "max_height": null,
            "max_width": null,
            "min_height": null,
            "min_width": null,
            "object_fit": null,
            "object_position": null,
            "order": null,
            "overflow": null,
            "overflow_x": null,
            "overflow_y": null,
            "padding": null,
            "right": null,
            "top": null,
            "visibility": null,
            "width": null
          }
        },
        "44df46de2d154b1097173983276a9535": {
          "model_module": "@jupyter-widgets/controls",
          "model_name": "ButtonStyleModel",
          "model_module_version": "1.5.0",
          "state": {
            "_model_module": "@jupyter-widgets/controls",
            "_model_module_version": "1.5.0",
            "_model_name": "ButtonStyleModel",
            "_view_count": null,
            "_view_module": "@jupyter-widgets/base",
            "_view_module_version": "1.2.0",
            "_view_name": "StyleView",
            "button_color": null,
            "font_weight": ""
          }
        },
        "1ebaab9664fb4479bd6e5d2c7ffab4d4": {
          "model_module": "@jupyter-widgets/controls",
          "model_name": "ButtonModel",
          "model_module_version": "1.5.0",
          "state": {
            "_dom_classes": [],
            "_model_module": "@jupyter-widgets/controls",
            "_model_module_version": "1.5.0",
            "_model_name": "ButtonModel",
            "_view_count": null,
            "_view_module": "@jupyter-widgets/controls",
            "_view_module_version": "1.5.0",
            "_view_name": "ButtonView",
            "button_style": "",
            "description": "wish",
            "disabled": false,
            "icon": "",
            "layout": "IPY_MODEL_f42c597d63444759883cca9fee2df128",
            "style": "IPY_MODEL_e7570789f5eb46a9bbf362e89054cdc8",
            "tooltip": ""
          }
        },
        "f42c597d63444759883cca9fee2df128": {
          "model_module": "@jupyter-widgets/base",
          "model_name": "LayoutModel",
          "model_module_version": "1.2.0",
          "state": {
            "_model_module": "@jupyter-widgets/base",
            "_model_module_version": "1.2.0",
            "_model_name": "LayoutModel",
            "_view_count": null,
            "_view_module": "@jupyter-widgets/base",
            "_view_module_version": "1.2.0",
            "_view_name": "LayoutView",
            "align_content": null,
            "align_items": null,
            "align_self": null,
            "border": null,
            "bottom": null,
            "display": null,
            "flex": null,
            "flex_flow": null,
            "grid_area": null,
            "grid_auto_columns": null,
            "grid_auto_flow": null,
            "grid_auto_rows": null,
            "grid_column": null,
            "grid_gap": null,
            "grid_row": null,
            "grid_template_areas": null,
            "grid_template_columns": null,
            "grid_template_rows": null,
            "height": null,
            "justify_content": null,
            "justify_items": null,
            "left": null,
            "margin": null,
            "max_height": null,
            "max_width": null,
            "min_height": null,
            "min_width": null,
            "object_fit": null,
            "object_position": null,
            "order": null,
            "overflow": null,
            "overflow_x": null,
            "overflow_y": null,
            "padding": null,
            "right": null,
            "top": null,
            "visibility": null,
            "width": null
          }
        },
        "e7570789f5eb46a9bbf362e89054cdc8": {
          "model_module": "@jupyter-widgets/controls",
          "model_name": "ButtonStyleModel",
          "model_module_version": "1.5.0",
          "state": {
            "_model_module": "@jupyter-widgets/controls",
            "_model_module_version": "1.5.0",
            "_model_name": "ButtonStyleModel",
            "_view_count": null,
            "_view_module": "@jupyter-widgets/base",
            "_view_module_version": "1.2.0",
            "_view_name": "StyleView",
            "button_color": null,
            "font_weight": ""
          }
        },
        "80d4c7a5040544e792155a878224855d": {
          "model_module": "@jupyter-widgets/controls",
          "model_name": "ButtonModel",
          "model_module_version": "1.5.0",
          "state": {
            "_dom_classes": [],
            "_model_module": "@jupyter-widgets/controls",
            "_model_module_version": "1.5.0",
            "_model_name": "ButtonModel",
            "_view_count": null,
            "_view_module": "@jupyter-widgets/controls",
            "_view_module_version": "1.5.0",
            "_view_name": "ButtonView",
            "button_style": "",
            "description": "flawless",
            "disabled": false,
            "icon": "",
            "layout": "IPY_MODEL_a5caa277db2048378290b877c5b7920f",
            "style": "IPY_MODEL_58128fecce6040a9b7d4824111925a50",
            "tooltip": ""
          }
        },
        "a5caa277db2048378290b877c5b7920f": {
          "model_module": "@jupyter-widgets/base",
          "model_name": "LayoutModel",
          "model_module_version": "1.2.0",
          "state": {
            "_model_module": "@jupyter-widgets/base",
            "_model_module_version": "1.2.0",
            "_model_name": "LayoutModel",
            "_view_count": null,
            "_view_module": "@jupyter-widgets/base",
            "_view_module_version": "1.2.0",
            "_view_name": "LayoutView",
            "align_content": null,
            "align_items": null,
            "align_self": null,
            "border": null,
            "bottom": null,
            "display": null,
            "flex": null,
            "flex_flow": null,
            "grid_area": null,
            "grid_auto_columns": null,
            "grid_auto_flow": null,
            "grid_auto_rows": null,
            "grid_column": null,
            "grid_gap": null,
            "grid_row": null,
            "grid_template_areas": null,
            "grid_template_columns": null,
            "grid_template_rows": null,
            "height": null,
            "justify_content": null,
            "justify_items": null,
            "left": null,
            "margin": null,
            "max_height": null,
            "max_width": null,
            "min_height": null,
            "min_width": null,
            "object_fit": null,
            "object_position": null,
            "order": null,
            "overflow": null,
            "overflow_x": null,
            "overflow_y": null,
            "padding": null,
            "right": null,
            "top": null,
            "visibility": null,
            "width": null
          }
        },
        "58128fecce6040a9b7d4824111925a50": {
          "model_module": "@jupyter-widgets/controls",
          "model_name": "ButtonStyleModel",
          "model_module_version": "1.5.0",
          "state": {
            "_model_module": "@jupyter-widgets/controls",
            "_model_module_version": "1.5.0",
            "_model_name": "ButtonStyleModel",
            "_view_count": null,
            "_view_module": "@jupyter-widgets/base",
            "_view_module_version": "1.2.0",
            "_view_name": "StyleView",
            "button_color": null,
            "font_weight": ""
          }
        },
        "93e0dc2d84b546f1ae811cf688123ba5": {
          "model_module": "@jupyter-widgets/controls",
          "model_name": "ButtonModel",
          "model_module_version": "1.5.0",
          "state": {
            "_dom_classes": [],
            "_model_module": "@jupyter-widgets/controls",
            "_model_module_version": "1.5.0",
            "_model_name": "ButtonModel",
            "_view_count": null,
            "_view_module": "@jupyter-widgets/controls",
            "_view_module_version": "1.5.0",
            "_view_name": "ButtonView",
            "button_style": "",
            "description": "walks",
            "disabled": false,
            "icon": "",
            "layout": "IPY_MODEL_32fa4f09fd544e43a4ec73c2afc0fb1a",
            "style": "IPY_MODEL_6c541dc1b063476c9eddd095b6305c0c",
            "tooltip": ""
          }
        },
        "32fa4f09fd544e43a4ec73c2afc0fb1a": {
          "model_module": "@jupyter-widgets/base",
          "model_name": "LayoutModel",
          "model_module_version": "1.2.0",
          "state": {
            "_model_module": "@jupyter-widgets/base",
            "_model_module_version": "1.2.0",
            "_model_name": "LayoutModel",
            "_view_count": null,
            "_view_module": "@jupyter-widgets/base",
            "_view_module_version": "1.2.0",
            "_view_name": "LayoutView",
            "align_content": null,
            "align_items": null,
            "align_self": null,
            "border": null,
            "bottom": null,
            "display": null,
            "flex": null,
            "flex_flow": null,
            "grid_area": null,
            "grid_auto_columns": null,
            "grid_auto_flow": null,
            "grid_auto_rows": null,
            "grid_column": null,
            "grid_gap": null,
            "grid_row": null,
            "grid_template_areas": null,
            "grid_template_columns": null,
            "grid_template_rows": null,
            "height": null,
            "justify_content": null,
            "justify_items": null,
            "left": null,
            "margin": null,
            "max_height": null,
            "max_width": null,
            "min_height": null,
            "min_width": null,
            "object_fit": null,
            "object_position": null,
            "order": null,
            "overflow": null,
            "overflow_x": null,
            "overflow_y": null,
            "padding": null,
            "right": null,
            "top": null,
            "visibility": null,
            "width": null
          }
        },
        "6c541dc1b063476c9eddd095b6305c0c": {
          "model_module": "@jupyter-widgets/controls",
          "model_name": "ButtonStyleModel",
          "model_module_version": "1.5.0",
          "state": {
            "_model_module": "@jupyter-widgets/controls",
            "_model_module_version": "1.5.0",
            "_model_name": "ButtonStyleModel",
            "_view_count": null,
            "_view_module": "@jupyter-widgets/base",
            "_view_module_version": "1.2.0",
            "_view_name": "StyleView",
            "button_color": null,
            "font_weight": ""
          }
        },
        "a8d4f9aa721c46bb909f5773a93a9c7e": {
          "model_module": "@jupyter-widgets/controls",
          "model_name": "ButtonModel",
          "model_module_version": "1.5.0",
          "state": {
            "_dom_classes": [],
            "_model_module": "@jupyter-widgets/controls",
            "_model_module_version": "1.5.0",
            "_model_name": "ButtonModel",
            "_view_count": null,
            "_view_module": "@jupyter-widgets/controls",
            "_view_module_version": "1.5.0",
            "_view_name": "ButtonView",
            "button_style": "",
            "description": "breathe",
            "disabled": false,
            "icon": "",
            "layout": "IPY_MODEL_7d7e76eb72e648438fe6769730426424",
            "style": "IPY_MODEL_afa7c39853964863aa298c41496de389",
            "tooltip": ""
          }
        },
        "7d7e76eb72e648438fe6769730426424": {
          "model_module": "@jupyter-widgets/base",
          "model_name": "LayoutModel",
          "model_module_version": "1.2.0",
          "state": {
            "_model_module": "@jupyter-widgets/base",
            "_model_module_version": "1.2.0",
            "_model_name": "LayoutModel",
            "_view_count": null,
            "_view_module": "@jupyter-widgets/base",
            "_view_module_version": "1.2.0",
            "_view_name": "LayoutView",
            "align_content": null,
            "align_items": null,
            "align_self": null,
            "border": null,
            "bottom": null,
            "display": null,
            "flex": null,
            "flex_flow": null,
            "grid_area": null,
            "grid_auto_columns": null,
            "grid_auto_flow": null,
            "grid_auto_rows": null,
            "grid_column": null,
            "grid_gap": null,
            "grid_row": null,
            "grid_template_areas": null,
            "grid_template_columns": null,
            "grid_template_rows": null,
            "height": null,
            "justify_content": null,
            "justify_items": null,
            "left": null,
            "margin": null,
            "max_height": null,
            "max_width": null,
            "min_height": null,
            "min_width": null,
            "object_fit": null,
            "object_position": null,
            "order": null,
            "overflow": null,
            "overflow_x": null,
            "overflow_y": null,
            "padding": null,
            "right": null,
            "top": null,
            "visibility": null,
            "width": null
          }
        },
        "afa7c39853964863aa298c41496de389": {
          "model_module": "@jupyter-widgets/controls",
          "model_name": "ButtonStyleModel",
          "model_module_version": "1.5.0",
          "state": {
            "_model_module": "@jupyter-widgets/controls",
            "_model_module_version": "1.5.0",
            "_model_name": "ButtonStyleModel",
            "_view_count": null,
            "_view_module": "@jupyter-widgets/base",
            "_view_module_version": "1.2.0",
            "_view_name": "StyleView",
            "button_color": null,
            "font_weight": ""
          }
        },
        "9d85842779f646288439a5a28d55320a": {
          "model_module": "@jupyter-widgets/controls",
          "model_name": "ButtonModel",
          "model_module_version": "1.5.0",
          "state": {
            "_dom_classes": [],
            "_model_module": "@jupyter-widgets/controls",
            "_model_module_version": "1.5.0",
            "_model_name": "ButtonModel",
            "_view_count": null,
            "_view_module": "@jupyter-widgets/controls",
            "_view_module_version": "1.5.0",
            "_view_name": "ButtonView",
            "button_style": "",
            "description": "can",
            "disabled": false,
            "icon": "",
            "layout": "IPY_MODEL_ac639c3aedd64e07afe192cf93a4466a",
            "style": "IPY_MODEL_c8c20ed3b0224aabbcc5afcd92032560",
            "tooltip": ""
          }
        },
        "ac639c3aedd64e07afe192cf93a4466a": {
          "model_module": "@jupyter-widgets/base",
          "model_name": "LayoutModel",
          "model_module_version": "1.2.0",
          "state": {
            "_model_module": "@jupyter-widgets/base",
            "_model_module_version": "1.2.0",
            "_model_name": "LayoutModel",
            "_view_count": null,
            "_view_module": "@jupyter-widgets/base",
            "_view_module_version": "1.2.0",
            "_view_name": "LayoutView",
            "align_content": null,
            "align_items": null,
            "align_self": null,
            "border": null,
            "bottom": null,
            "display": null,
            "flex": null,
            "flex_flow": null,
            "grid_area": null,
            "grid_auto_columns": null,
            "grid_auto_flow": null,
            "grid_auto_rows": null,
            "grid_column": null,
            "grid_gap": null,
            "grid_row": null,
            "grid_template_areas": null,
            "grid_template_columns": null,
            "grid_template_rows": null,
            "height": null,
            "justify_content": null,
            "justify_items": null,
            "left": null,
            "margin": null,
            "max_height": null,
            "max_width": null,
            "min_height": null,
            "min_width": null,
            "object_fit": null,
            "object_position": null,
            "order": null,
            "overflow": null,
            "overflow_x": null,
            "overflow_y": null,
            "padding": null,
            "right": null,
            "top": null,
            "visibility": null,
            "width": null
          }
        },
        "c8c20ed3b0224aabbcc5afcd92032560": {
          "model_module": "@jupyter-widgets/controls",
          "model_name": "ButtonStyleModel",
          "model_module_version": "1.5.0",
          "state": {
            "_model_module": "@jupyter-widgets/controls",
            "_model_module_version": "1.5.0",
            "_model_name": "ButtonStyleModel",
            "_view_count": null,
            "_view_module": "@jupyter-widgets/base",
            "_view_module_version": "1.2.0",
            "_view_name": "StyleView",
            "button_color": null,
            "font_weight": ""
          }
        }
      }
    }
  },
  "cells": [
    {
      "cell_type": "code",
      "execution_count": 1,
      "metadata": {
        "id": "1hwBE1iAPzOF",
        "colab": {
          "base_uri": "https://localhost:8080/",
          "height": 263
        },
        "outputId": "6a1c23d9-fd89-42f6-87ab-f745126c0021"
      },
      "outputs": [
        {
          "output_type": "stream",
          "name": "stdout",
          "text": [
            "TensorFlow version: 2.13.0\n"
          ]
        },
        {
          "output_type": "error",
          "ename": "FileNotFoundError",
          "evalue": "ignored",
          "traceback": [
            "\u001b[0;31m---------------------------------------------------------------------------\u001b[0m",
            "\u001b[0;31mFileNotFoundError\u001b[0m                         Traceback (most recent call last)",
            "\u001b[0;32m<ipython-input-1-7505195872dd>\u001b[0m in \u001b[0;36m<cell line: 41>\u001b[0;34m()\u001b[0m\n\u001b[1;32m     39\u001b[0m \u001b[0;34m\u001b[0m\u001b[0m\n\u001b[1;32m     40\u001b[0m \u001b[0;31m# open lyric file with data\u001b[0m\u001b[0;34m\u001b[0m\u001b[0;34m\u001b[0m\u001b[0m\n\u001b[0;32m---> 41\u001b[0;31m \u001b[0mfile\u001b[0m \u001b[0;34m=\u001b[0m \u001b[0mopen\u001b[0m\u001b[0;34m(\u001b[0m\u001b[0;34m\"all-songs.txt\"\u001b[0m\u001b[0;34m,\u001b[0m \u001b[0;34m\"r\"\u001b[0m\u001b[0;34m,\u001b[0m \u001b[0mencoding\u001b[0m \u001b[0;34m=\u001b[0m \u001b[0;34m\"utf8\"\u001b[0m\u001b[0;34m)\u001b[0m\u001b[0;34m\u001b[0m\u001b[0;34m\u001b[0m\u001b[0m\n\u001b[0m\u001b[1;32m     42\u001b[0m \u001b[0mlines\u001b[0m\u001b[0;34m=\u001b[0m\u001b[0;34m[\u001b[0m\u001b[0;34m]\u001b[0m\u001b[0;34m\u001b[0m\u001b[0;34m\u001b[0m\u001b[0m\n\u001b[1;32m     43\u001b[0m \u001b[0;34m\u001b[0m\u001b[0m\n",
            "\u001b[0;31mFileNotFoundError\u001b[0m: [Errno 2] No such file or directory: 'all-songs.txt'"
          ]
        }
      ],
      "source": [
        "#########################################\n",
        "#          TEXT PREDICTION              #\n",
        "#     Part One: Creating the Model      #\n",
        "#         Julia Brzustowski             #\n",
        "#########################################\n",
        "\n",
        "####################\n",
        "# import libraries #\n",
        "####################\n",
        "\n",
        "# tensorflow for keras and neural network\n",
        "import tensorflow as tf\n",
        "print (\"TensorFlow version:\", tf.__version__)\n",
        "\n",
        "# keras neural network libraries\n",
        "from tensorflow import keras\n",
        "from tensorflow.keras import layers\n",
        "from sklearn.model_selection import train_test_split\n",
        "from sklearn.preprocessing import MinMaxScaler\n",
        "from tensorflow.keras.models import Model\n",
        "from tensorflow.keras.layers import Input\n",
        "from tensorflow.keras.layers import Dense\n",
        "\n",
        "# libraries for display widgets\n",
        "from google.colab import widgets\n",
        "import ipywidgets\n",
        "from ipywidgets import Button\n",
        "from IPython.display import display, clear_output\n",
        "\n",
        "# numpy for dealing with arrays\n",
        "import numpy as np\n",
        "\n",
        "import matplotlib.pyplot as plt\n",
        "\n",
        "\n",
        "####################\n",
        "#   Prepare Data   #\n",
        "####################\n",
        "\n",
        "# open lyric file with data\n",
        "file = open(\"all-songs.txt\", \"r\", encoding = \"utf8\")\n",
        "lines=[]\n",
        "\n",
        "\n",
        "# CREATE DICTIONARY and prepare dataset\n",
        "# add words to variable\n",
        "for i in file:\n",
        "  lines.append(i)\n",
        "\n",
        "data = ' '.join(lines)\n",
        "\n",
        "# remove any unnecessary characters - leaving in '\\n', newline character will be useful to consider as its own word\n",
        "data = data.replace('\"','').replace(',','')\n",
        "data = data.lower()\n",
        "\n",
        "# remove any repeats - need to create index so only one of each word is needed\n",
        "z = []\n",
        "for w in data.split():\n",
        "  if w not in z:\n",
        "    z.append(w)\n",
        "\n",
        "dictionary = ' '.join(z)\n",
        "\n",
        "# use keras tokenizer to create a dictionary of all words\n",
        "tokenizer = tf.keras.preprocessing.text.Tokenizer()\n",
        "tokenizer.fit_on_texts([dictionary])\n",
        "\n",
        "# convert the lyrics to numbers based on dictionary index\n",
        "sequence_data = tokenizer.texts_to_sequences([data])[0]\n",
        "\n",
        "# store sequences of words (previous three words + word) in a list\n",
        "sequences = []\n",
        "\n",
        "for i in range (1, len(sequence_data)):\n",
        "  words = sequence_data [i-3:i+1]\n",
        "  sequences.append (words)\n",
        "\n",
        "#scale inputs so that they are in between 0 and 1\n",
        "scaler=MinMaxScaler()\n",
        "\n",
        "scaler.fit(sequences[2:len(sequences)])\n",
        "sequences=scaler.transform(sequences[2:len(sequences)])\n",
        "\n",
        "\n",
        "# split data figure out what data is training data and what is testing\n",
        "train, test = train_test_split(sequences,test_size=0.2,random_state=1)\n",
        "\n",
        "# create 3 input variables and 1 and output variable\n",
        "xtrain = []\n",
        "ytrain = []\n",
        "\n",
        "xtest = []\n",
        "ytest = []\n",
        "\n",
        "count=0\n",
        "# loop through each sequence\n",
        "for i in train[2:len(train)]:\n",
        "  # store previous 3 word in their own input variables, current word in output\n",
        "  # this will be used for training\n",
        "  xtrain.append([])\n",
        "  xtrain[count].append(i[0])\n",
        "  xtrain[count].append(i[1])\n",
        "  xtrain[count].append(i[2])\n",
        "  ytrain.append(i[3])\n",
        "  count+=1\n",
        "\n",
        "count=0\n",
        "# loop through each sequence\n",
        "for i in test:\n",
        "  # store previous 3 word in their own input variables, current word in output\n",
        "  # this will be used for training\n",
        "  xtest.append([])\n",
        "  xtest[count].append(i[0])\n",
        "  xtest[count].append(i[1])\n",
        "  xtest[count].append(i[2])\n",
        "  ytest.append(i[3])\n",
        "  count+=1\n",
        "\n",
        "\n",
        "\n",
        "################################################\n",
        "#                MODEL TIME                    #\n",
        "################################################\n",
        "\n",
        "# CREATE FUNCTIONAL API MODEL - NEURAL NETWORK using keras\n",
        "# create and define an input layer\n",
        "inputLayer = Input (shape=(3,), name='inputLayer')\n",
        "# connect the layers\n",
        "# create hidden layers using dense\n",
        "layer1 = Dense (1000, activation = \"relu\", name = 'layer1')(inputLayer)\n",
        "layer2 = Dense (1000, activation = \"relu\", name = 'layer2')(layer1)\n",
        "# create output layer\n",
        "w1output = Dense(1, activation = \"linear\", name = 'w1output')(layer2)\n",
        "# create branched layer for multiple outputs\n",
        "branchedLayer1 = Dense (1000, activation = \"relu\", name = 'branchedLayer1')(layer2)\n",
        "w2output = Dense (1, activation = \"linear\", name = 'w2output')(branchedLayer1)\n",
        "branchedLayer2 = Dense (1000, activation = \"relu\", name = 'branchedLayer2')(layer2)\n",
        "w3output = Dense (1, activation = \"linear\", name = 'w3output')(branchedLayer2)\n",
        "# create and define a model using model class\n",
        "model = Model(inputs=inputLayer, outputs = [w1output,w2output,w3output])\n",
        "# display model summary for debugging - model.summary()\n",
        "print (model.summary())\n",
        "\n",
        "# import callbacks\n",
        "from tensorflow.keras.callbacks import ModelCheckpoint\n",
        "from tensorflow.keras.callbacks import ReduceLROnPlateau\n",
        "from tensorflow.keras.callbacks import TensorBoard\n",
        "# modelCheckpoint used to store best weights\n",
        "checkpoint = ModelCheckpoint('models.h5', monitor='loss',verbose=1, save_best_only=True,mode='auto' )\n",
        "# Reduce learning rate used when the accuracy doesn't improve after 3 times through the dataset\n",
        "reduceLR = ReduceLROnPlateau(monitor='loss', factor=0.2, patience=5, min_lr=0.001, verbose=1)\n",
        "#visualize loss\n",
        "TBvisual=TensorBoard(log_dir='logs')\n",
        "\n",
        "#compile the model\n",
        "model.compile(optimizer='adam',loss={'w1output':'mse','w2output':'mse','w3output':'mse'})\n",
        "model.fit(xtrain, ytrain, epochs=10, batch_size=64, callbacks=[checkpoint, reduceLR, TBvisual])\n",
        "\n",
        "# evaluate the model for accuracy - only in debug/model preparation\n",
        "# run predictions with test portion of data\n",
        "predictions = model.predict(xtest)[0]\n",
        "#predictions = scaler.inverse_transform(predictions)\n",
        "\n",
        "#ytest=scaler.inverse_transform(ytest)\n",
        "plt.scatter(ytest,predictions)\n",
        "plt.xlabel('actual word')\n",
        "plt.ylabel('predicted word')\n",
        "\n"
      ]
    },
    {
      "cell_type": "code",
      "source": [
        "#########################################\n",
        "#          TEXT PREDICTION              #\n",
        "#    Part Two: Integrating the Model    #\n",
        "#         Julia Brzustowski             #\n",
        "#########################################\n",
        "\n",
        "# import libraries\n",
        "import tensorflow as tf\n",
        "from tensorflow import keras\n",
        "from tensorflow.keras import layers\n",
        "from sklearn.preprocessing import MinMaxScaler\n",
        "\n",
        "# load model from other cell\n",
        "model = keras. models.load_model(\"models.h5\")\n",
        "\n",
        "# numpy for dealing with arrays\n",
        "import numpy as np\n",
        "\n",
        "# math for rounding\n",
        "import math\n",
        "\n",
        "# libraries for display widgets\n",
        "from google.colab import widgets\n",
        "import ipywidgets\n",
        "from ipywidgets import Button\n",
        "from IPython.display import display, clear_output\n",
        "import time\n",
        "\n",
        "\n",
        "####################################\n",
        "#   Prepare DICTIONARY and SCALER  #\n",
        "####################################\n",
        "\n",
        "# open lyric file with data\n",
        "file = open(\"all-songs.txt\", \"r\", encoding = \"utf8\")\n",
        "lines=[]\n",
        "\n",
        "# CREATE DICTIONARY and prepare dataset\n",
        "# add words to variable\n",
        "for i in file:\n",
        "  lines.append(i)\n",
        "\n",
        "data = ' '.join(lines)\n",
        "\n",
        "# remove any unnecessary characters - leaving in '\\n', newline character will be useful to consider as its own word\n",
        "data=data.replace('\"','').replace(',','').replace('?','').replace('.','').replace('(','').replace(')','')\n",
        "data = data.lower()\n",
        "\n",
        "# remove any repeats - need to create index so only one of each word is needed\n",
        "z = []\n",
        "for w in data.split():\n",
        "  if w not in z:\n",
        "    z.append(w)\n",
        "\n",
        "dictionary = ' '.join(z)\n",
        "\n",
        "# use keras tokenizer to create a dictionary of all words\n",
        "tokenizer = tf.keras.preprocessing.text.Tokenizer()\n",
        "tokenizer.fit_on_texts([dictionary])\n",
        "\n",
        "# convert the lyrics to numbers based on dictionary index\n",
        "sequence_data = tokenizer.texts_to_sequences([data])[0]\n",
        "\n",
        "# store sequences of words (previous three words + word) in a list\n",
        "sequences = []\n",
        "\n",
        "for i in range (1, len(sequence_data)):\n",
        "  words = sequence_data [i-3:i]\n",
        "  sequences.append (words)\n",
        "wordSeq=tokenizer.sequences_to_texts(sequences)\n",
        "\n",
        "#scale inputs so that they are in between 0 and 1\n",
        "scaler=MinMaxScaler()\n",
        "\n",
        "scaler.fit(sequences[2:len(sequences)])\n",
        "sequences=scaler.transform(sequences[2:len(sequences)])\n",
        "\n",
        "# create 3 input variables and 1 and output variable\n",
        "x = []\n",
        "y = []\n",
        "\n",
        "count=0\n",
        "# loop through each sequence\n",
        "for i in sequences[2:len(sequences)]:\n",
        "  # store previous 3 word in their own input variables, current word in output\n",
        "  # this will be used for training\n",
        "  x.append([])\n",
        "  x[count].append(i[0])\n",
        "  x[count].append(i[1])\n",
        "  x[count].append(i[2])\n",
        "  #y.append(i[3])\n",
        "  count+=1\n",
        "\n",
        "###########################\n",
        "#        Buttons          #\n",
        "###########################\n",
        "def makeLayout (grid):\n",
        "  # make quit button\n",
        "  qButton = ipywidgets.widgets.Button(description = \"Quit\",button_style='danger')\n",
        "  qButton.on_click(qButton_clicked)\n",
        "\n",
        "  # make newline button\n",
        "  nlButton = ipywidgets.widgets.Button(description = \"New Line\",button_style='info')\n",
        "  nlButton.on_click(nlButton_clicked)\n",
        "\n",
        "  # make suggest button\n",
        "  suggestButton = ipywidgets.widgets.Button(description = \"Suggest\",button_style='success')\n",
        "  suggestButton.on_click(suggestButton_clicked)\n",
        "\n",
        "  # display buttons in grid\n",
        "  for (row,col) in grid:\n",
        "    if col==0 and row==0:\n",
        "      display(iWindow)\n",
        "    if col==1 and row==0:\n",
        "      display (suggestButton)\n",
        "    elif col==2 and row==0:\n",
        "      display (nlButton)\n",
        "    elif col==3 and row==0:\n",
        "      display (qButton)\n",
        "\n",
        "# function for when buttons are clicked\n",
        "def sButton_clicked(b):\n",
        "  # display the word from description\n",
        "  for (row,col) in grid:\n",
        "    if col == 0 and row ==1:\n",
        "      # if there's a space, I don't need to add one\n",
        "      if iWindow.value[len(iWindow.value)-1] == \" \":\n",
        "        print (iWindow.value,b.description, sep='')\n",
        "        iWindow.value = iWindow.value + b.description\n",
        "      else:\n",
        "        print (iWindow.value,b.description)\n",
        "        iWindow.value = iWindow.value + ' ' + b.description\n",
        "  # pretend they clicked suggest again so that it updates live\n",
        "  suggestButton_clicked(b)\n",
        "\n",
        "# function for suggest button\n",
        "def suggestButton_clicked(b):\n",
        "  # get input from text window\n",
        "  input=iWindow.value[::-1]\n",
        "  #print (input)\n",
        "  threeWords=[]\n",
        "  currWord=''\n",
        "  count=0\n",
        "  for i in range(len(input)): # split input into three words\n",
        "    if count==3:\n",
        "      break\n",
        "    if input[i]==' ' and i!=0:\n",
        "      threeWords.insert(0,currWord[::-1])\n",
        "      currWord=''\n",
        "      count+=1\n",
        "    elif i==len(input)-1:\n",
        "      currWord+=input[i]\n",
        "      threeWords.insert(0,currWord[::-1])\n",
        "      currWord=''\n",
        "      count+=1\n",
        "    else:\n",
        "      currWord+=input[i]\n",
        "  if count<3: # if they didn't enter enough words, wait for more\n",
        "    print (\"Please enter more words!\",end='')\n",
        "    time.sleep(3)\n",
        "    print (\"\\r\",' ')\n",
        "    return -1\n",
        "  else:\n",
        "    # if enough words, call preprocessing function with them\n",
        "    IN = prepareWords (threeWords)\n",
        "    if IN[1] == False: # make sure all words went through\n",
        "      print (\"Hmm. I don't recognize that word.\",end='')\n",
        "      time.sleep(3)\n",
        "      print (\"\\r\",' ')\n",
        "    else:\n",
        "      # if words went through, get the predictions\n",
        "      suggestions = predict(IN[0])\n",
        "      # reset the suggestion buttons\n",
        "      makeSuggests(suggestions,grid)\n",
        "\n",
        "# function for quit button\n",
        "def qButton_clicked(b):\n",
        "  writtenLines.append(iWindow.value)\n",
        "  print (\"\\n\", \"Writing complete.\", sep = \"\")\n",
        "  print ('')\n",
        "  print (\"YOUR PROSE:\")\n",
        "  print ('')\n",
        "  for i in writtenLines:\n",
        "    print (i)\n",
        "  writtenLines.clear()\n",
        "\n",
        "# function for newline button\n",
        "def nlButton_clicked(b):\n",
        "  writtenLines.append(iWindow.value)\n",
        "  # clear iWindow\n",
        "  iWindow.value = ''\n",
        "  # add a new line\n",
        "  for (row,col) in grid:\n",
        "    if col == 0 and row ==1:\n",
        "      print ('')\n",
        "    # reset suggestions\n",
        "    if col >= 1 and row ==1:\n",
        "      if once == True:\n",
        "        sButtons[col-1].close()\n",
        "\n",
        "# function to prepare input\n",
        "def prepareWords (words):\n",
        "  # prepare each word\n",
        "  for x in range (len(words)):\n",
        "    words[x]=words[x].replace('\"','').replace(',','').replace(' ','').replace('\\n','').replace('?','').replace('.','').replace('(','').replace(')','')\n",
        "    words[x] = words[x].lower()\n",
        "  try: # try to convert to number, won't work if there's a typo\n",
        "    inputSeq = tokenizer.texts_to_sequences([words])[0]\n",
        "    #reshape to convert to between 0 and 1\n",
        "    inputSeq=np.reshape(inputSeq,(-1,3))\n",
        "    inputSeq=scaler.transform(inputSeq)\n",
        "    return (inputSeq,True)\n",
        "  except:\n",
        "    return ('fail',False)\n",
        "\n",
        "# function that gets predictions from model\n",
        "def predict (input):\n",
        "  # call model to predict\n",
        "  predictions = model.predict(input)\n",
        "  # reshape and convert back to index number\n",
        "  predictions = np.reshape(predictions,(-1,3))\n",
        "  predictions = scaler.inverse_transform(predictions)\n",
        "  #print (predictions)\n",
        "\n",
        "  # round number to closest integer\n",
        "  roundedP=[[]]\n",
        "  for i in range(len(predictions)):\n",
        "    for j in range(len(predictions[i])):\n",
        "      roundedP[0].append(round(predictions[i][j]))\n",
        "  newWord=tokenizer.sequences_to_texts(roundedP)\n",
        "\n",
        "  #convert words to seperate list items\n",
        "  currWord=''\n",
        "  finalWords=[]\n",
        "  for i in range (len(newWord[0])):\n",
        "    if newWord[0][i]==' ':\n",
        "      finalWords.append(currWord)\n",
        "      currWord=''\n",
        "    elif i==len(newWord[0])-1:\n",
        "      currWord+=newWord[0][i]\n",
        "      finalWords.append(currWord)\n",
        "      currWord=''\n",
        "    else:\n",
        "      currWord+=newWord[0][i]\n",
        "  # return the final word predictions\n",
        "  return (finalWords)\n",
        "\n",
        "def makeSuggests (words,grid):\n",
        "  global once\n",
        "  global sButtons\n",
        "\n",
        "  #check if buttons are already there and delete them if they are\n",
        "  for (row,col) in grid:\n",
        "    if col >= 1 and row ==1:\n",
        "      if once == True:\n",
        "        sButtons[col-1].close()\n",
        "  # make 3 buttons and add to list\n",
        "  for i in range(0,3):\n",
        "    # if not new\n",
        "    if once:\n",
        "      sButtons[i] = ipywidgets.widgets.Button(description=words[i])\n",
        "      sButtons[i].on_click(sButton_clicked)\n",
        "    else:\n",
        "      sbutton = ipywidgets.widgets.Button(description=words[i])\n",
        "      sbutton.on_click(sButton_clicked)\n",
        "      sButtons.append(sbutton)\n",
        "\n",
        "  # display buttons in grid\n",
        "  for (row,col) in grid:\n",
        "    if col >= 1 and row ==1:\n",
        "      display(sButtons[col-1])\n",
        "  # change once variable so program knows to delete old buttons\n",
        "  once = True\n",
        "\n",
        "# rounding function\n",
        "def round (num):\n",
        "  num+=0.5\n",
        "  num=math.floor(num)\n",
        "  return num\n",
        "\n",
        "#############################\n",
        "#          Main Area        #\n",
        "#############################\n",
        "grid=widgets.Grid(2,4)\n",
        "iWindow = ipywidgets.Textarea (description='Start writing:',continuous_update=True)\n",
        "once = False\n",
        "sButtons=[]\n",
        "makeLayout (grid)\n",
        "print ('')\n",
        "writtenLines = []\n",
        "\n"
      ],
      "metadata": {
        "id": "uAJY06z7rFn-",
        "colab": {
          "base_uri": "https://localhost:8080/",
          "height": 248,
          "referenced_widgets": [
            "f3307343e4df4fffade8422fcb41edb1",
            "f2083a56b98b4ae182eae26e4dd7fe8a",
            "49e2b4e1397b482797732a0e2672474e",
            "50a553efdf0d4c228c1be7b7937d303a",
            "5323905018b3446a85343a56b929bd44",
            "25572d50553b49a09b7a90f788ea7353",
            "eeb86cb0e0714276a16128d4ef1e344e",
            "6dacc6cee81c45c99b8f3310a3ef95a2",
            "d00df0afb6ac4467af2cfdb51fe33ce5",
            "5f803294262b431cbb10efab88bce357",
            "708d6ed5ff384f1bbd38936e4f541721",
            "a1d17834200145679160a9282aff6dd5",
            "339f5903548d4eff94cc5fe824956aab",
            "dac0be55035a49f0a54f9cd16482ac8e",
            "1a130ad858304a9087e8e1a8f3171d57",
            "f42cebf0b3344b52889629e9f555d501",
            "dfcf9b1cbc144564a899e8adf421947a",
            "09fecc1c1e204364bd5b5f00b75b0b23",
            "d10c7b58f25a4810bcb9e01f277db4d3",
            "248919d237c845629eb323ed9a4c2c9e",
            "f0047a0691e843a3ada686d628914992",
            "8a7f88be4b494ff68bca83e59e114c88",
            "64eaa155e6174a7d8b3c32e7db4f60ee",
            "62491bb2cc6b4ecba6d7452f35542559",
            "06f2a7e4f3b2494b916aabac01fe4393",
            "3d7b291c03df48309497500b64ecf6a5",
            "312fe38890f34ba1879f2b1d933d9555",
            "6094f0b81dab410e8643a4b84345a5e3",
            "34f434effb6c4424a6cc2492e709c494",
            "0bb0f3f7c3c0457f97cafa1035d0360e",
            "beca9ebab2294df1b4b6d247891e4ecb",
            "c5c2ed4b8eb24adc84c70be8f43323fe",
            "7849f76ec7d447ef84e7fe8cfb5871b3",
            "fb47766b9dca4785876e325e7759a349",
            "ae4cdbf2242f4f318d907adbd7bfde82",
            "48367afff5334ff5a877f609b6d498db",
            "81527367db1842cfa6305107bd1ce03a",
            "bd03984ad9f34cd9a5c4140c086fc277",
            "29be23b3fbb74e8299806e912c43026e",
            "065d38f606724af2b22699c563a0b460",
            "933cb567aee54833a697918c31fa8edc",
            "44df46de2d154b1097173983276a9535",
            "1ebaab9664fb4479bd6e5d2c7ffab4d4",
            "f42c597d63444759883cca9fee2df128",
            "e7570789f5eb46a9bbf362e89054cdc8",
            "80d4c7a5040544e792155a878224855d",
            "a5caa277db2048378290b877c5b7920f",
            "58128fecce6040a9b7d4824111925a50",
            "93e0dc2d84b546f1ae811cf688123ba5",
            "32fa4f09fd544e43a4ec73c2afc0fb1a",
            "6c541dc1b063476c9eddd095b6305c0c",
            "a8d4f9aa721c46bb909f5773a93a9c7e",
            "7d7e76eb72e648438fe6769730426424",
            "afa7c39853964863aa298c41496de389",
            "9d85842779f646288439a5a28d55320a",
            "ac639c3aedd64e07afe192cf93a4466a",
            "c8c20ed3b0224aabbcc5afcd92032560"
          ]
        },
        "outputId": "c97e5edd-a539-430b-de19-1f5243114237"
      },
      "execution_count": null,
      "outputs": [
        {
          "output_type": "display_data",
          "data": {
            "text/plain": [
              "<IPython.core.display.HTML object>"
            ],
            "text/html": [
              "<style>\n",
              "       table#id2, #id2 > tbody > tr > th, #id2 > tbody > tr > td {\n",
              "         border: 1px solid lightgray;\n",
              "         border-collapse:collapse;\n",
              "         \n",
              "        }</style>"
            ]
          },
          "metadata": {}
        },
        {
          "output_type": "display_data",
          "data": {
            "text/plain": [
              "<IPython.core.display.HTML object>"
            ],
            "text/html": [
              "<table id=id2><tr><td id=id2-0-0></td><td id=id2-0-1></td><td id=id2-0-2></td><td id=id2-0-3></td></tr><tr><td id=id2-1-0></td><td id=id2-1-1></td><td id=id2-1-2></td><td id=id2-1-3></td></tr></table>"
            ]
          },
          "metadata": {}
        },
        {
          "output_type": "display_data",
          "data": {
            "text/plain": [
              "<IPython.core.display.Javascript object>"
            ],
            "application/javascript": [
              "window[\"cd6a651e-968c-11ed-a061-0242ac1c0002\"] = google.colab.output.getActiveOutputArea();\n",
              "//# sourceURL=js_13af89648f"
            ]
          },
          "metadata": {}
        },
        {
          "output_type": "display_data",
          "data": {
            "text/plain": [
              "<IPython.core.display.Javascript object>"
            ],
            "application/javascript": [
              "window[\"cd6b6dd8-968c-11ed-a061-0242ac1c0002\"] = document.querySelector(\"#id2-0-0\");\n",
              "//# sourceURL=js_9e6686026a"
            ]
          },
          "metadata": {}
        },
        {
          "output_type": "display_data",
          "data": {
            "text/plain": [
              "<IPython.core.display.Javascript object>"
            ],
            "application/javascript": [
              "window[\"cd6bda20-968c-11ed-a061-0242ac1c0002\"] = google.colab.output.setActiveOutputArea(window[\"cd6b6dd8-968c-11ed-a061-0242ac1c0002\"]);\n",
              "//# sourceURL=js_9beb9e16e9"
            ]
          },
          "metadata": {}
        },
        {
          "output_type": "display_data",
          "data": {
            "text/plain": [
              "Textarea(value='', description='Start writing:')"
            ],
            "application/vnd.jupyter.widget-view+json": {
              "version_major": 2,
              "version_minor": 0,
              "model_id": "f3307343e4df4fffade8422fcb41edb1"
            }
          },
          "metadata": {}
        },
        {
          "output_type": "display_data",
          "data": {
            "text/plain": [
              "<IPython.core.display.Javascript object>"
            ],
            "application/javascript": [
              "window[\"cd6de32e-968c-11ed-a061-0242ac1c0002\"] = google.colab.output.setActiveOutputArea(window[\"cd6a651e-968c-11ed-a061-0242ac1c0002\"]);\n",
              "//# sourceURL=js_2dacdbeb7d"
            ]
          },
          "metadata": {}
        },
        {
          "output_type": "display_data",
          "data": {
            "text/plain": [
              "<IPython.core.display.Javascript object>"
            ],
            "application/javascript": [
              "window[\"cd70bfc2-968c-11ed-a061-0242ac1c0002\"] = google.colab.output.getActiveOutputArea();\n",
              "//# sourceURL=js_6f3bf66527"
            ]
          },
          "metadata": {}
        },
        {
          "output_type": "display_data",
          "data": {
            "text/plain": [
              "<IPython.core.display.Javascript object>"
            ],
            "application/javascript": [
              "window[\"cd711e0e-968c-11ed-a061-0242ac1c0002\"] = document.querySelector(\"#id2-0-1\");\n",
              "//# sourceURL=js_a50d6e6ea1"
            ]
          },
          "metadata": {}
        },
        {
          "output_type": "display_data",
          "data": {
            "text/plain": [
              "<IPython.core.display.Javascript object>"
            ],
            "application/javascript": [
              "window[\"cd715892-968c-11ed-a061-0242ac1c0002\"] = google.colab.output.setActiveOutputArea(window[\"cd711e0e-968c-11ed-a061-0242ac1c0002\"]);\n",
              "//# sourceURL=js_0daea63a68"
            ]
          },
          "metadata": {}
        },
        {
          "output_type": "display_data",
          "data": {
            "text/plain": [
              "Button(button_style='success', description='Suggest', style=ButtonStyle())"
            ],
            "application/vnd.jupyter.widget-view+json": {
              "version_major": 2,
              "version_minor": 0,
              "model_id": "50a553efdf0d4c228c1be7b7937d303a"
            }
          },
          "metadata": {}
        },
        {
          "output_type": "display_data",
          "data": {
            "text/plain": [
              "<IPython.core.display.Javascript object>"
            ],
            "application/javascript": [
              "window[\"cd726c1e-968c-11ed-a061-0242ac1c0002\"] = google.colab.output.setActiveOutputArea(window[\"cd70bfc2-968c-11ed-a061-0242ac1c0002\"]);\n",
              "//# sourceURL=js_c2bd7e7183"
            ]
          },
          "metadata": {}
        },
        {
          "output_type": "display_data",
          "data": {
            "text/plain": [
              "<IPython.core.display.Javascript object>"
            ],
            "application/javascript": [
              "window[\"cd73e09e-968c-11ed-a061-0242ac1c0002\"] = google.colab.output.getActiveOutputArea();\n",
              "//# sourceURL=js_51bbaf4b4d"
            ]
          },
          "metadata": {}
        },
        {
          "output_type": "display_data",
          "data": {
            "text/plain": [
              "<IPython.core.display.Javascript object>"
            ],
            "application/javascript": [
              "window[\"cd741f6e-968c-11ed-a061-0242ac1c0002\"] = document.querySelector(\"#id2-0-2\");\n",
              "//# sourceURL=js_5a44f56ac8"
            ]
          },
          "metadata": {}
        },
        {
          "output_type": "display_data",
          "data": {
            "text/plain": [
              "<IPython.core.display.Javascript object>"
            ],
            "application/javascript": [
              "window[\"cd745ace-968c-11ed-a061-0242ac1c0002\"] = google.colab.output.setActiveOutputArea(window[\"cd741f6e-968c-11ed-a061-0242ac1c0002\"]);\n",
              "//# sourceURL=js_3607cdb70b"
            ]
          },
          "metadata": {}
        },
        {
          "output_type": "display_data",
          "data": {
            "text/plain": [
              "Button(button_style='info', description='New Line', style=ButtonStyle())"
            ],
            "application/vnd.jupyter.widget-view+json": {
              "version_major": 2,
              "version_minor": 0,
              "model_id": "eeb86cb0e0714276a16128d4ef1e344e"
            }
          },
          "metadata": {}
        },
        {
          "output_type": "display_data",
          "data": {
            "text/plain": [
              "<IPython.core.display.Javascript object>"
            ],
            "application/javascript": [
              "window[\"cd75686a-968c-11ed-a061-0242ac1c0002\"] = google.colab.output.setActiveOutputArea(window[\"cd73e09e-968c-11ed-a061-0242ac1c0002\"]);\n",
              "//# sourceURL=js_540546dc4d"
            ]
          },
          "metadata": {}
        },
        {
          "output_type": "display_data",
          "data": {
            "text/plain": [
              "<IPython.core.display.Javascript object>"
            ],
            "application/javascript": [
              "window[\"cd76d178-968c-11ed-a061-0242ac1c0002\"] = google.colab.output.getActiveOutputArea();\n",
              "//# sourceURL=js_542a31334b"
            ]
          },
          "metadata": {}
        },
        {
          "output_type": "display_data",
          "data": {
            "text/plain": [
              "<IPython.core.display.Javascript object>"
            ],
            "application/javascript": [
              "window[\"cd77003a-968c-11ed-a061-0242ac1c0002\"] = document.querySelector(\"#id2-0-3\");\n",
              "//# sourceURL=js_84d54a48a1"
            ]
          },
          "metadata": {}
        },
        {
          "output_type": "display_data",
          "data": {
            "text/plain": [
              "<IPython.core.display.Javascript object>"
            ],
            "application/javascript": [
              "window[\"cd7739a6-968c-11ed-a061-0242ac1c0002\"] = google.colab.output.setActiveOutputArea(window[\"cd77003a-968c-11ed-a061-0242ac1c0002\"]);\n",
              "//# sourceURL=js_6934f4d06b"
            ]
          },
          "metadata": {}
        },
        {
          "output_type": "display_data",
          "data": {
            "text/plain": [
              "Button(button_style='danger', description='Quit', style=ButtonStyle())"
            ],
            "application/vnd.jupyter.widget-view+json": {
              "version_major": 2,
              "version_minor": 0,
              "model_id": "5f803294262b431cbb10efab88bce357"
            }
          },
          "metadata": {}
        },
        {
          "output_type": "display_data",
          "data": {
            "text/plain": [
              "<IPython.core.display.Javascript object>"
            ],
            "application/javascript": [
              "window[\"cd78337e-968c-11ed-a061-0242ac1c0002\"] = google.colab.output.setActiveOutputArea(window[\"cd76d178-968c-11ed-a061-0242ac1c0002\"]);\n",
              "//# sourceURL=js_5c3e56322d"
            ]
          },
          "metadata": {}
        },
        {
          "output_type": "display_data",
          "data": {
            "text/plain": [
              "<IPython.core.display.Javascript object>"
            ],
            "application/javascript": [
              "window[\"cd7a3f66-968c-11ed-a061-0242ac1c0002\"] = google.colab.output.getActiveOutputArea();\n",
              "//# sourceURL=js_55e8c4bb02"
            ]
          },
          "metadata": {}
        },
        {
          "output_type": "display_data",
          "data": {
            "text/plain": [
              "<IPython.core.display.Javascript object>"
            ],
            "application/javascript": [
              "window[\"cd7a823c-968c-11ed-a061-0242ac1c0002\"] = document.querySelector(\"#id2-1-0\");\n",
              "//# sourceURL=js_9885f290f1"
            ]
          },
          "metadata": {}
        },
        {
          "output_type": "display_data",
          "data": {
            "text/plain": [
              "<IPython.core.display.Javascript object>"
            ],
            "application/javascript": [
              "window[\"cd7acb48-968c-11ed-a061-0242ac1c0002\"] = google.colab.output.setActiveOutputArea(window[\"cd7a823c-968c-11ed-a061-0242ac1c0002\"]);\n",
              "//# sourceURL=js_cc6c985b17"
            ]
          },
          "metadata": {}
        },
        {
          "output_type": "display_data",
          "data": {
            "text/plain": [
              "<IPython.core.display.Javascript object>"
            ],
            "application/javascript": [
              "window[\"cd7ba946-968c-11ed-a061-0242ac1c0002\"] = google.colab.output.setActiveOutputArea(window[\"cd7a3f66-968c-11ed-a061-0242ac1c0002\"]);\n",
              "//# sourceURL=js_92f92a92b2"
            ]
          },
          "metadata": {}
        },
        {
          "output_type": "display_data",
          "data": {
            "text/plain": [
              "<IPython.core.display.Javascript object>"
            ],
            "application/javascript": [
              "window[\"cd7d20aa-968c-11ed-a061-0242ac1c0002\"] = google.colab.output.getActiveOutputArea();\n",
              "//# sourceURL=js_bb26f86b76"
            ]
          },
          "metadata": {}
        },
        {
          "output_type": "display_data",
          "data": {
            "text/plain": [
              "<IPython.core.display.Javascript object>"
            ],
            "application/javascript": [
              "window[\"cd7d5bc4-968c-11ed-a061-0242ac1c0002\"] = document.querySelector(\"#id2-1-1\");\n",
              "//# sourceURL=js_bafed01a05"
            ]
          },
          "metadata": {}
        },
        {
          "output_type": "display_data",
          "data": {
            "text/plain": [
              "<IPython.core.display.Javascript object>"
            ],
            "application/javascript": [
              "window[\"cd7d9666-968c-11ed-a061-0242ac1c0002\"] = google.colab.output.setActiveOutputArea(window[\"cd7d5bc4-968c-11ed-a061-0242ac1c0002\"]);\n",
              "//# sourceURL=js_b9d35ab7bb"
            ]
          },
          "metadata": {}
        },
        {
          "output_type": "display_data",
          "data": {
            "text/plain": [
              "<IPython.core.display.Javascript object>"
            ],
            "application/javascript": [
              "window[\"cd7e6992-968c-11ed-a061-0242ac1c0002\"] = google.colab.output.setActiveOutputArea(window[\"cd7d20aa-968c-11ed-a061-0242ac1c0002\"]);\n",
              "//# sourceURL=js_788d9e1944"
            ]
          },
          "metadata": {}
        },
        {
          "output_type": "display_data",
          "data": {
            "text/plain": [
              "<IPython.core.display.Javascript object>"
            ],
            "application/javascript": [
              "window[\"cd7fea10-968c-11ed-a061-0242ac1c0002\"] = google.colab.output.getActiveOutputArea();\n",
              "//# sourceURL=js_7b69394ca8"
            ]
          },
          "metadata": {}
        },
        {
          "output_type": "display_data",
          "data": {
            "text/plain": [
              "<IPython.core.display.Javascript object>"
            ],
            "application/javascript": [
              "window[\"cd80280e-968c-11ed-a061-0242ac1c0002\"] = document.querySelector(\"#id2-1-2\");\n",
              "//# sourceURL=js_e204b879dc"
            ]
          },
          "metadata": {}
        },
        {
          "output_type": "display_data",
          "data": {
            "text/plain": [
              "<IPython.core.display.Javascript object>"
            ],
            "application/javascript": [
              "window[\"cd806576-968c-11ed-a061-0242ac1c0002\"] = google.colab.output.setActiveOutputArea(window[\"cd80280e-968c-11ed-a061-0242ac1c0002\"]);\n",
              "//# sourceURL=js_b06d091879"
            ]
          },
          "metadata": {}
        },
        {
          "output_type": "display_data",
          "data": {
            "text/plain": [
              "<IPython.core.display.Javascript object>"
            ],
            "application/javascript": [
              "window[\"cd8168d6-968c-11ed-a061-0242ac1c0002\"] = google.colab.output.setActiveOutputArea(window[\"cd7fea10-968c-11ed-a061-0242ac1c0002\"]);\n",
              "//# sourceURL=js_6f74332407"
            ]
          },
          "metadata": {}
        },
        {
          "output_type": "display_data",
          "data": {
            "text/plain": [
              "<IPython.core.display.Javascript object>"
            ],
            "application/javascript": [
              "window[\"cd82e65c-968c-11ed-a061-0242ac1c0002\"] = google.colab.output.getActiveOutputArea();\n",
              "//# sourceURL=js_d3d062c862"
            ]
          },
          "metadata": {}
        },
        {
          "output_type": "display_data",
          "data": {
            "text/plain": [
              "<IPython.core.display.Javascript object>"
            ],
            "application/javascript": [
              "window[\"cd832694-968c-11ed-a061-0242ac1c0002\"] = document.querySelector(\"#id2-1-3\");\n",
              "//# sourceURL=js_a302320da3"
            ]
          },
          "metadata": {}
        },
        {
          "output_type": "display_data",
          "data": {
            "text/plain": [
              "<IPython.core.display.Javascript object>"
            ],
            "application/javascript": [
              "window[\"cd836424-968c-11ed-a061-0242ac1c0002\"] = google.colab.output.setActiveOutputArea(window[\"cd832694-968c-11ed-a061-0242ac1c0002\"]);\n",
              "//# sourceURL=js_0951b7372d"
            ]
          },
          "metadata": {}
        },
        {
          "output_type": "display_data",
          "data": {
            "text/plain": [
              "<IPython.core.display.Javascript object>"
            ],
            "application/javascript": [
              "window[\"cd8440f6-968c-11ed-a061-0242ac1c0002\"] = google.colab.output.setActiveOutputArea(window[\"cd82e65c-968c-11ed-a061-0242ac1c0002\"]);\n",
              "//# sourceURL=js_bad4debd15"
            ]
          },
          "metadata": {}
        },
        {
          "output_type": "stream",
          "name": "stdout",
          "text": [
            "\n",
            "1/1 [==============================] - 0s 58ms/step\n"
          ]
        },
        {
          "output_type": "display_data",
          "data": {
            "text/plain": [
              "<IPython.core.display.Javascript object>"
            ],
            "application/javascript": [
              "window[\"d8d73418-968c-11ed-a061-0242ac1c0002\"] = google.colab.output.getActiveOutputArea();\n",
              "//# sourceURL=js_033196c903"
            ]
          },
          "metadata": {}
        },
        {
          "output_type": "display_data",
          "data": {
            "text/plain": [
              "<IPython.core.display.Javascript object>"
            ],
            "application/javascript": [
              "window[\"d8d80492-968c-11ed-a061-0242ac1c0002\"] = document.querySelector(\"#id2-0-0\");\n",
              "//# sourceURL=js_c8327148ef"
            ]
          },
          "metadata": {}
        },
        {
          "output_type": "display_data",
          "data": {
            "text/plain": [
              "<IPython.core.display.Javascript object>"
            ],
            "application/javascript": [
              "window[\"d8d85140-968c-11ed-a061-0242ac1c0002\"] = google.colab.output.setActiveOutputArea(window[\"d8d80492-968c-11ed-a061-0242ac1c0002\"]);\n",
              "//# sourceURL=js_c76a7e2bdb"
            ]
          },
          "metadata": {}
        },
        {
          "output_type": "display_data",
          "data": {
            "text/plain": [
              "<IPython.core.display.Javascript object>"
            ],
            "application/javascript": [
              "window[\"d8d95928-968c-11ed-a061-0242ac1c0002\"] = google.colab.output.setActiveOutputArea(window[\"d8d73418-968c-11ed-a061-0242ac1c0002\"]);\n",
              "//# sourceURL=js_52b218880d"
            ]
          },
          "metadata": {}
        },
        {
          "output_type": "display_data",
          "data": {
            "text/plain": [
              "<IPython.core.display.Javascript object>"
            ],
            "application/javascript": [
              "window[\"d8dbc848-968c-11ed-a061-0242ac1c0002\"] = google.colab.output.getActiveOutputArea();\n",
              "//# sourceURL=js_a306f0689f"
            ]
          },
          "metadata": {}
        },
        {
          "output_type": "display_data",
          "data": {
            "text/plain": [
              "<IPython.core.display.Javascript object>"
            ],
            "application/javascript": [
              "window[\"d8dc20cc-968c-11ed-a061-0242ac1c0002\"] = document.querySelector(\"#id2-0-1\");\n",
              "//# sourceURL=js_2622a10870"
            ]
          },
          "metadata": {}
        },
        {
          "output_type": "display_data",
          "data": {
            "text/plain": [
              "<IPython.core.display.Javascript object>"
            ],
            "application/javascript": [
              "window[\"d8dc5d94-968c-11ed-a061-0242ac1c0002\"] = google.colab.output.setActiveOutputArea(window[\"d8dc20cc-968c-11ed-a061-0242ac1c0002\"]);\n",
              "//# sourceURL=js_cdfcf3df89"
            ]
          },
          "metadata": {}
        },
        {
          "output_type": "display_data",
          "data": {
            "text/plain": [
              "<IPython.core.display.Javascript object>"
            ],
            "application/javascript": [
              "window[\"d8dd8a84-968c-11ed-a061-0242ac1c0002\"] = google.colab.output.setActiveOutputArea(window[\"d8dbc848-968c-11ed-a061-0242ac1c0002\"]);\n",
              "//# sourceURL=js_debca53066"
            ]
          },
          "metadata": {}
        },
        {
          "output_type": "display_data",
          "data": {
            "text/plain": [
              "<IPython.core.display.Javascript object>"
            ],
            "application/javascript": [
              "window[\"d8df66ce-968c-11ed-a061-0242ac1c0002\"] = google.colab.output.getActiveOutputArea();\n",
              "//# sourceURL=js_9fa2a6cff3"
            ]
          },
          "metadata": {}
        },
        {
          "output_type": "display_data",
          "data": {
            "text/plain": [
              "<IPython.core.display.Javascript object>"
            ],
            "application/javascript": [
              "window[\"d8dfae0e-968c-11ed-a061-0242ac1c0002\"] = document.querySelector(\"#id2-0-2\");\n",
              "//# sourceURL=js_cb341a2490"
            ]
          },
          "metadata": {}
        },
        {
          "output_type": "display_data",
          "data": {
            "text/plain": [
              "<IPython.core.display.Javascript object>"
            ],
            "application/javascript": [
              "window[\"d8dff454-968c-11ed-a061-0242ac1c0002\"] = google.colab.output.setActiveOutputArea(window[\"d8dfae0e-968c-11ed-a061-0242ac1c0002\"]);\n",
              "//# sourceURL=js_f97da03689"
            ]
          },
          "metadata": {}
        },
        {
          "output_type": "display_data",
          "data": {
            "text/plain": [
              "<IPython.core.display.Javascript object>"
            ],
            "application/javascript": [
              "window[\"d8e11d8e-968c-11ed-a061-0242ac1c0002\"] = google.colab.output.setActiveOutputArea(window[\"d8df66ce-968c-11ed-a061-0242ac1c0002\"]);\n",
              "//# sourceURL=js_64656d4f87"
            ]
          },
          "metadata": {}
        },
        {
          "output_type": "display_data",
          "data": {
            "text/plain": [
              "<IPython.core.display.Javascript object>"
            ],
            "application/javascript": [
              "window[\"d8e3068a-968c-11ed-a061-0242ac1c0002\"] = google.colab.output.getActiveOutputArea();\n",
              "//# sourceURL=js_46005cff33"
            ]
          },
          "metadata": {}
        },
        {
          "output_type": "display_data",
          "data": {
            "text/plain": [
              "<IPython.core.display.Javascript object>"
            ],
            "application/javascript": [
              "window[\"d8e357b6-968c-11ed-a061-0242ac1c0002\"] = document.querySelector(\"#id2-0-3\");\n",
              "//# sourceURL=js_c27d293e4f"
            ]
          },
          "metadata": {}
        },
        {
          "output_type": "display_data",
          "data": {
            "text/plain": [
              "<IPython.core.display.Javascript object>"
            ],
            "application/javascript": [
              "window[\"d8e39e74-968c-11ed-a061-0242ac1c0002\"] = google.colab.output.setActiveOutputArea(window[\"d8e357b6-968c-11ed-a061-0242ac1c0002\"]);\n",
              "//# sourceURL=js_824011d49c"
            ]
          },
          "metadata": {}
        },
        {
          "output_type": "display_data",
          "data": {
            "text/plain": [
              "<IPython.core.display.Javascript object>"
            ],
            "application/javascript": [
              "window[\"d8e496da-968c-11ed-a061-0242ac1c0002\"] = google.colab.output.setActiveOutputArea(window[\"d8e3068a-968c-11ed-a061-0242ac1c0002\"]);\n",
              "//# sourceURL=js_6538e418b6"
            ]
          },
          "metadata": {}
        },
        {
          "output_type": "display_data",
          "data": {
            "text/plain": [
              "<IPython.core.display.Javascript object>"
            ],
            "application/javascript": [
              "window[\"d8e64d5e-968c-11ed-a061-0242ac1c0002\"] = google.colab.output.getActiveOutputArea();\n",
              "//# sourceURL=js_8b49fe4806"
            ]
          },
          "metadata": {}
        },
        {
          "output_type": "display_data",
          "data": {
            "text/plain": [
              "<IPython.core.display.Javascript object>"
            ],
            "application/javascript": [
              "window[\"d8e69d68-968c-11ed-a061-0242ac1c0002\"] = document.querySelector(\"#id2-1-0\");\n",
              "//# sourceURL=js_4eeb408058"
            ]
          },
          "metadata": {}
        },
        {
          "output_type": "display_data",
          "data": {
            "text/plain": [
              "<IPython.core.display.Javascript object>"
            ],
            "application/javascript": [
              "window[\"d8e704f6-968c-11ed-a061-0242ac1c0002\"] = google.colab.output.setActiveOutputArea(window[\"d8e69d68-968c-11ed-a061-0242ac1c0002\"]);\n",
              "//# sourceURL=js_39eade864e"
            ]
          },
          "metadata": {}
        },
        {
          "output_type": "display_data",
          "data": {
            "text/plain": [
              "<IPython.core.display.Javascript object>"
            ],
            "application/javascript": [
              "window[\"d8e84294-968c-11ed-a061-0242ac1c0002\"] = google.colab.output.setActiveOutputArea(window[\"d8e64d5e-968c-11ed-a061-0242ac1c0002\"]);\n",
              "//# sourceURL=js_bfa7822e41"
            ]
          },
          "metadata": {}
        },
        {
          "output_type": "display_data",
          "data": {
            "text/plain": [
              "<IPython.core.display.Javascript object>"
            ],
            "application/javascript": [
              "window[\"d8e9e46e-968c-11ed-a061-0242ac1c0002\"] = google.colab.output.getActiveOutputArea();\n",
              "//# sourceURL=js_08733e673d"
            ]
          },
          "metadata": {}
        },
        {
          "output_type": "display_data",
          "data": {
            "text/plain": [
              "<IPython.core.display.Javascript object>"
            ],
            "application/javascript": [
              "window[\"d8ea3626-968c-11ed-a061-0242ac1c0002\"] = document.querySelector(\"#id2-1-1\");\n",
              "//# sourceURL=js_870b08a3b5"
            ]
          },
          "metadata": {}
        },
        {
          "output_type": "display_data",
          "data": {
            "text/plain": [
              "<IPython.core.display.Javascript object>"
            ],
            "application/javascript": [
              "window[\"d8ea7dde-968c-11ed-a061-0242ac1c0002\"] = google.colab.output.setActiveOutputArea(window[\"d8ea3626-968c-11ed-a061-0242ac1c0002\"]);\n",
              "//# sourceURL=js_b896a62105"
            ]
          },
          "metadata": {}
        },
        {
          "output_type": "display_data",
          "data": {
            "text/plain": [
              "<IPython.core.display.Javascript object>"
            ],
            "application/javascript": [
              "window[\"d8eb73ba-968c-11ed-a061-0242ac1c0002\"] = google.colab.output.setActiveOutputArea(window[\"d8e9e46e-968c-11ed-a061-0242ac1c0002\"]);\n",
              "//# sourceURL=js_1214a1fc4f"
            ]
          },
          "metadata": {}
        },
        {
          "output_type": "display_data",
          "data": {
            "text/plain": [
              "<IPython.core.display.Javascript object>"
            ],
            "application/javascript": [
              "window[\"d8ed38da-968c-11ed-a061-0242ac1c0002\"] = google.colab.output.getActiveOutputArea();\n",
              "//# sourceURL=js_86d6f78aa4"
            ]
          },
          "metadata": {}
        },
        {
          "output_type": "display_data",
          "data": {
            "text/plain": [
              "<IPython.core.display.Javascript object>"
            ],
            "application/javascript": [
              "window[\"d8edb6a2-968c-11ed-a061-0242ac1c0002\"] = document.querySelector(\"#id2-1-2\");\n",
              "//# sourceURL=js_d32b0c22b3"
            ]
          },
          "metadata": {}
        },
        {
          "output_type": "display_data",
          "data": {
            "text/plain": [
              "<IPython.core.display.Javascript object>"
            ],
            "application/javascript": [
              "window[\"d8ee0c24-968c-11ed-a061-0242ac1c0002\"] = google.colab.output.setActiveOutputArea(window[\"d8edb6a2-968c-11ed-a061-0242ac1c0002\"]);\n",
              "//# sourceURL=js_cbb19899e9"
            ]
          },
          "metadata": {}
        },
        {
          "output_type": "display_data",
          "data": {
            "text/plain": [
              "<IPython.core.display.Javascript object>"
            ],
            "application/javascript": [
              "window[\"d8ef06f6-968c-11ed-a061-0242ac1c0002\"] = google.colab.output.setActiveOutputArea(window[\"d8ed38da-968c-11ed-a061-0242ac1c0002\"]);\n",
              "//# sourceURL=js_d18d57f23b"
            ]
          },
          "metadata": {}
        },
        {
          "output_type": "display_data",
          "data": {
            "text/plain": [
              "<IPython.core.display.Javascript object>"
            ],
            "application/javascript": [
              "window[\"d8f0c568-968c-11ed-a061-0242ac1c0002\"] = google.colab.output.getActiveOutputArea();\n",
              "//# sourceURL=js_1d57811a44"
            ]
          },
          "metadata": {}
        },
        {
          "output_type": "display_data",
          "data": {
            "text/plain": [
              "<IPython.core.display.Javascript object>"
            ],
            "application/javascript": [
              "window[\"d8f10ce4-968c-11ed-a061-0242ac1c0002\"] = document.querySelector(\"#id2-1-3\");\n",
              "//# sourceURL=js_936bf9fbd4"
            ]
          },
          "metadata": {}
        },
        {
          "output_type": "display_data",
          "data": {
            "text/plain": [
              "<IPython.core.display.Javascript object>"
            ],
            "application/javascript": [
              "window[\"d8f14ff6-968c-11ed-a061-0242ac1c0002\"] = google.colab.output.setActiveOutputArea(window[\"d8f10ce4-968c-11ed-a061-0242ac1c0002\"]);\n",
              "//# sourceURL=js_41e00c178e"
            ]
          },
          "metadata": {}
        },
        {
          "output_type": "display_data",
          "data": {
            "text/plain": [
              "<IPython.core.display.Javascript object>"
            ],
            "application/javascript": [
              "window[\"d8f248ac-968c-11ed-a061-0242ac1c0002\"] = google.colab.output.setActiveOutputArea(window[\"d8f0c568-968c-11ed-a061-0242ac1c0002\"]);\n",
              "//# sourceURL=js_c2921a1b27"
            ]
          },
          "metadata": {}
        },
        {
          "output_type": "display_data",
          "data": {
            "text/plain": [
              "<IPython.core.display.Javascript object>"
            ],
            "application/javascript": [
              "window[\"d9028492-968c-11ed-a061-0242ac1c0002\"] = google.colab.output.getActiveOutputArea();\n",
              "//# sourceURL=js_a9f1e562a6"
            ]
          },
          "metadata": {}
        },
        {
          "output_type": "display_data",
          "data": {
            "text/plain": [
              "<IPython.core.display.Javascript object>"
            ],
            "application/javascript": [
              "window[\"d90309a8-968c-11ed-a061-0242ac1c0002\"] = document.querySelector(\"#id2-0-0\");\n",
              "//# sourceURL=js_a78bac82b6"
            ]
          },
          "metadata": {}
        },
        {
          "output_type": "display_data",
          "data": {
            "text/plain": [
              "<IPython.core.display.Javascript object>"
            ],
            "application/javascript": [
              "window[\"d90357a0-968c-11ed-a061-0242ac1c0002\"] = google.colab.output.setActiveOutputArea(window[\"d90309a8-968c-11ed-a061-0242ac1c0002\"]);\n",
              "//# sourceURL=js_6bff5a2a94"
            ]
          },
          "metadata": {}
        },
        {
          "output_type": "display_data",
          "data": {
            "text/plain": [
              "<IPython.core.display.Javascript object>"
            ],
            "application/javascript": [
              "window[\"d9049502-968c-11ed-a061-0242ac1c0002\"] = google.colab.output.setActiveOutputArea(window[\"d9028492-968c-11ed-a061-0242ac1c0002\"]);\n",
              "//# sourceURL=js_2dd371ff5d"
            ]
          },
          "metadata": {}
        },
        {
          "output_type": "display_data",
          "data": {
            "text/plain": [
              "<IPython.core.display.Javascript object>"
            ],
            "application/javascript": [
              "window[\"d9076386-968c-11ed-a061-0242ac1c0002\"] = google.colab.output.getActiveOutputArea();\n",
              "//# sourceURL=js_7a8839e7fb"
            ]
          },
          "metadata": {}
        },
        {
          "output_type": "display_data",
          "data": {
            "text/plain": [
              "<IPython.core.display.Javascript object>"
            ],
            "application/javascript": [
              "window[\"d907f3fa-968c-11ed-a061-0242ac1c0002\"] = document.querySelector(\"#id2-0-1\");\n",
              "//# sourceURL=js_7d1ae7bc36"
            ]
          },
          "metadata": {}
        },
        {
          "output_type": "display_data",
          "data": {
            "text/plain": [
              "<IPython.core.display.Javascript object>"
            ],
            "application/javascript": [
              "window[\"d9086b28-968c-11ed-a061-0242ac1c0002\"] = google.colab.output.setActiveOutputArea(window[\"d907f3fa-968c-11ed-a061-0242ac1c0002\"]);\n",
              "//# sourceURL=js_021249fb31"
            ]
          },
          "metadata": {}
        },
        {
          "output_type": "display_data",
          "data": {
            "text/plain": [
              "<IPython.core.display.Javascript object>"
            ],
            "application/javascript": [
              "window[\"d90a2738-968c-11ed-a061-0242ac1c0002\"] = google.colab.output.setActiveOutputArea(window[\"d9076386-968c-11ed-a061-0242ac1c0002\"]);\n",
              "//# sourceURL=js_8a48c52eef"
            ]
          },
          "metadata": {}
        },
        {
          "output_type": "display_data",
          "data": {
            "text/plain": [
              "<IPython.core.display.Javascript object>"
            ],
            "application/javascript": [
              "window[\"d90dce60-968c-11ed-a061-0242ac1c0002\"] = google.colab.output.getActiveOutputArea();\n",
              "//# sourceURL=js_96e12ace03"
            ]
          },
          "metadata": {}
        },
        {
          "output_type": "display_data",
          "data": {
            "text/plain": [
              "<IPython.core.display.Javascript object>"
            ],
            "application/javascript": [
              "window[\"d90efa74-968c-11ed-a061-0242ac1c0002\"] = document.querySelector(\"#id2-0-2\");\n",
              "//# sourceURL=js_5622b5ae95"
            ]
          },
          "metadata": {}
        },
        {
          "output_type": "display_data",
          "data": {
            "text/plain": [
              "<IPython.core.display.Javascript object>"
            ],
            "application/javascript": [
              "window[\"d91049ce-968c-11ed-a061-0242ac1c0002\"] = google.colab.output.setActiveOutputArea(window[\"d90efa74-968c-11ed-a061-0242ac1c0002\"]);\n",
              "//# sourceURL=js_730a5d3456"
            ]
          },
          "metadata": {}
        },
        {
          "output_type": "display_data",
          "data": {
            "text/plain": [
              "<IPython.core.display.Javascript object>"
            ],
            "application/javascript": [
              "window[\"d91132e4-968c-11ed-a061-0242ac1c0002\"] = google.colab.output.setActiveOutputArea(window[\"d90dce60-968c-11ed-a061-0242ac1c0002\"]);\n",
              "//# sourceURL=js_855b47ba51"
            ]
          },
          "metadata": {}
        },
        {
          "output_type": "display_data",
          "data": {
            "text/plain": [
              "<IPython.core.display.Javascript object>"
            ],
            "application/javascript": [
              "window[\"d912da54-968c-11ed-a061-0242ac1c0002\"] = google.colab.output.getActiveOutputArea();\n",
              "//# sourceURL=js_33f6cb8d8e"
            ]
          },
          "metadata": {}
        },
        {
          "output_type": "display_data",
          "data": {
            "text/plain": [
              "<IPython.core.display.Javascript object>"
            ],
            "application/javascript": [
              "window[\"d91318f2-968c-11ed-a061-0242ac1c0002\"] = document.querySelector(\"#id2-0-3\");\n",
              "//# sourceURL=js_2fd46a5e0a"
            ]
          },
          "metadata": {}
        },
        {
          "output_type": "display_data",
          "data": {
            "text/plain": [
              "<IPython.core.display.Javascript object>"
            ],
            "application/javascript": [
              "window[\"d913536c-968c-11ed-a061-0242ac1c0002\"] = google.colab.output.setActiveOutputArea(window[\"d91318f2-968c-11ed-a061-0242ac1c0002\"]);\n",
              "//# sourceURL=js_99d6384fce"
            ]
          },
          "metadata": {}
        },
        {
          "output_type": "display_data",
          "data": {
            "text/plain": [
              "<IPython.core.display.Javascript object>"
            ],
            "application/javascript": [
              "window[\"d91423f0-968c-11ed-a061-0242ac1c0002\"] = google.colab.output.setActiveOutputArea(window[\"d912da54-968c-11ed-a061-0242ac1c0002\"]);\n",
              "//# sourceURL=js_89ff0dce65"
            ]
          },
          "metadata": {}
        },
        {
          "output_type": "display_data",
          "data": {
            "text/plain": [
              "<IPython.core.display.Javascript object>"
            ],
            "application/javascript": [
              "window[\"d91591d6-968c-11ed-a061-0242ac1c0002\"] = google.colab.output.getActiveOutputArea();\n",
              "//# sourceURL=js_d0cd7e338c"
            ]
          },
          "metadata": {}
        },
        {
          "output_type": "display_data",
          "data": {
            "text/plain": [
              "<IPython.core.display.Javascript object>"
            ],
            "application/javascript": [
              "window[\"d915d448-968c-11ed-a061-0242ac1c0002\"] = document.querySelector(\"#id2-1-0\");\n",
              "//# sourceURL=js_9f56a9e8ce"
            ]
          },
          "metadata": {}
        },
        {
          "output_type": "display_data",
          "data": {
            "text/plain": [
              "<IPython.core.display.Javascript object>"
            ],
            "application/javascript": [
              "window[\"d916107a-968c-11ed-a061-0242ac1c0002\"] = google.colab.output.setActiveOutputArea(window[\"d915d448-968c-11ed-a061-0242ac1c0002\"]);\n",
              "//# sourceURL=js_44497ac55d"
            ]
          },
          "metadata": {}
        },
        {
          "output_type": "display_data",
          "data": {
            "text/plain": [
              "<IPython.core.display.Javascript object>"
            ],
            "application/javascript": [
              "window[\"d916e5cc-968c-11ed-a061-0242ac1c0002\"] = google.colab.output.setActiveOutputArea(window[\"d91591d6-968c-11ed-a061-0242ac1c0002\"]);\n",
              "//# sourceURL=js_7baee01190"
            ]
          },
          "metadata": {}
        },
        {
          "output_type": "display_data",
          "data": {
            "text/plain": [
              "<IPython.core.display.Javascript object>"
            ],
            "application/javascript": [
              "window[\"d9185ad8-968c-11ed-a061-0242ac1c0002\"] = google.colab.output.getActiveOutputArea();\n",
              "//# sourceURL=js_77cece8110"
            ]
          },
          "metadata": {}
        },
        {
          "output_type": "display_data",
          "data": {
            "text/plain": [
              "<IPython.core.display.Javascript object>"
            ],
            "application/javascript": [
              "window[\"d9189c5a-968c-11ed-a061-0242ac1c0002\"] = document.querySelector(\"#id2-1-1\");\n",
              "//# sourceURL=js_7201ff9c46"
            ]
          },
          "metadata": {}
        },
        {
          "output_type": "display_data",
          "data": {
            "text/plain": [
              "<IPython.core.display.Javascript object>"
            ],
            "application/javascript": [
              "window[\"d919316a-968c-11ed-a061-0242ac1c0002\"] = google.colab.output.setActiveOutputArea(window[\"d9189c5a-968c-11ed-a061-0242ac1c0002\"]);\n",
              "//# sourceURL=js_d5ccec9bcc"
            ]
          },
          "metadata": {}
        },
        {
          "output_type": "display_data",
          "data": {
            "text/plain": [
              "Button(description='did', style=ButtonStyle())"
            ],
            "application/vnd.jupyter.widget-view+json": {
              "version_major": 2,
              "version_minor": 0,
              "model_id": "339f5903548d4eff94cc5fe824956aab"
            }
          },
          "metadata": {}
        },
        {
          "output_type": "display_data",
          "data": {
            "text/plain": [
              "<IPython.core.display.Javascript object>"
            ],
            "application/javascript": [
              "window[\"d91a4ec4-968c-11ed-a061-0242ac1c0002\"] = google.colab.output.setActiveOutputArea(window[\"d9185ad8-968c-11ed-a061-0242ac1c0002\"]);\n",
              "//# sourceURL=js_626802f51a"
            ]
          },
          "metadata": {}
        },
        {
          "output_type": "display_data",
          "data": {
            "text/plain": [
              "<IPython.core.display.Javascript object>"
            ],
            "application/javascript": [
              "window[\"d91bc286-968c-11ed-a061-0242ac1c0002\"] = google.colab.output.getActiveOutputArea();\n",
              "//# sourceURL=js_5d8a88a628"
            ]
          },
          "metadata": {}
        },
        {
          "output_type": "display_data",
          "data": {
            "text/plain": [
              "<IPython.core.display.Javascript object>"
            ],
            "application/javascript": [
              "window[\"d91c00ca-968c-11ed-a061-0242ac1c0002\"] = document.querySelector(\"#id2-1-2\");\n",
              "//# sourceURL=js_1ecf705af5"
            ]
          },
          "metadata": {}
        },
        {
          "output_type": "display_data",
          "data": {
            "text/plain": [
              "<IPython.core.display.Javascript object>"
            ],
            "application/javascript": [
              "window[\"d91c3e96-968c-11ed-a061-0242ac1c0002\"] = google.colab.output.setActiveOutputArea(window[\"d91c00ca-968c-11ed-a061-0242ac1c0002\"]);\n",
              "//# sourceURL=js_c8ea370360"
            ]
          },
          "metadata": {}
        },
        {
          "output_type": "display_data",
          "data": {
            "text/plain": [
              "Button(description='them', style=ButtonStyle())"
            ],
            "application/vnd.jupyter.widget-view+json": {
              "version_major": 2,
              "version_minor": 0,
              "model_id": "f42cebf0b3344b52889629e9f555d501"
            }
          },
          "metadata": {}
        },
        {
          "output_type": "display_data",
          "data": {
            "text/plain": [
              "<IPython.core.display.Javascript object>"
            ],
            "application/javascript": [
              "window[\"d91d4e1c-968c-11ed-a061-0242ac1c0002\"] = google.colab.output.setActiveOutputArea(window[\"d91bc286-968c-11ed-a061-0242ac1c0002\"]);\n",
              "//# sourceURL=js_15f6e5331b"
            ]
          },
          "metadata": {}
        },
        {
          "output_type": "display_data",
          "data": {
            "text/plain": [
              "<IPython.core.display.Javascript object>"
            ],
            "application/javascript": [
              "window[\"d91ec6f2-968c-11ed-a061-0242ac1c0002\"] = google.colab.output.getActiveOutputArea();\n",
              "//# sourceURL=js_78f054003b"
            ]
          },
          "metadata": {}
        },
        {
          "output_type": "display_data",
          "data": {
            "text/plain": [
              "<IPython.core.display.Javascript object>"
            ],
            "application/javascript": [
              "window[\"d91f5d06-968c-11ed-a061-0242ac1c0002\"] = document.querySelector(\"#id2-1-3\");\n",
              "//# sourceURL=js_87530b898e"
            ]
          },
          "metadata": {}
        },
        {
          "output_type": "display_data",
          "data": {
            "text/plain": [
              "<IPython.core.display.Javascript object>"
            ],
            "application/javascript": [
              "window[\"d91fa644-968c-11ed-a061-0242ac1c0002\"] = google.colab.output.setActiveOutputArea(window[\"d91f5d06-968c-11ed-a061-0242ac1c0002\"]);\n",
              "//# sourceURL=js_2b1d38a802"
            ]
          },
          "metadata": {}
        },
        {
          "output_type": "display_data",
          "data": {
            "text/plain": [
              "Button(description='shade', style=ButtonStyle())"
            ],
            "application/vnd.jupyter.widget-view+json": {
              "version_major": 2,
              "version_minor": 0,
              "model_id": "d10c7b58f25a4810bcb9e01f277db4d3"
            }
          },
          "metadata": {}
        },
        {
          "output_type": "display_data",
          "data": {
            "text/plain": [
              "<IPython.core.display.Javascript object>"
            ],
            "application/javascript": [
              "window[\"d920dc08-968c-11ed-a061-0242ac1c0002\"] = google.colab.output.setActiveOutputArea(window[\"d91ec6f2-968c-11ed-a061-0242ac1c0002\"]);\n",
              "//# sourceURL=js_6a43bf36e8"
            ]
          },
          "metadata": {}
        },
        {
          "output_type": "display_data",
          "data": {
            "text/plain": [
              "<IPython.core.display.Javascript object>"
            ],
            "application/javascript": [
              "window[\"dc2a61da-968c-11ed-a061-0242ac1c0002\"] = google.colab.output.getActiveOutputArea();\n",
              "//# sourceURL=js_bb47086033"
            ]
          },
          "metadata": {}
        },
        {
          "output_type": "display_data",
          "data": {
            "text/plain": [
              "<IPython.core.display.Javascript object>"
            ],
            "application/javascript": [
              "window[\"dc2acefe-968c-11ed-a061-0242ac1c0002\"] = document.querySelector(\"#id2-0-0\");\n",
              "//# sourceURL=js_4315cadc51"
            ]
          },
          "metadata": {}
        },
        {
          "output_type": "display_data",
          "data": {
            "text/plain": [
              "<IPython.core.display.Javascript object>"
            ],
            "application/javascript": [
              "window[\"dc2b453c-968c-11ed-a061-0242ac1c0002\"] = google.colab.output.setActiveOutputArea(window[\"dc2acefe-968c-11ed-a061-0242ac1c0002\"]);\n",
              "//# sourceURL=js_69cfe9044a"
            ]
          },
          "metadata": {}
        },
        {
          "output_type": "display_data",
          "data": {
            "text/plain": [
              "<IPython.core.display.Javascript object>"
            ],
            "application/javascript": [
              "window[\"dc2d1042-968c-11ed-a061-0242ac1c0002\"] = google.colab.output.setActiveOutputArea(window[\"dc2a61da-968c-11ed-a061-0242ac1c0002\"]);\n",
              "//# sourceURL=js_bb7ebc5bf5"
            ]
          },
          "metadata": {}
        },
        {
          "output_type": "display_data",
          "data": {
            "text/plain": [
              "<IPython.core.display.Javascript object>"
            ],
            "application/javascript": [
              "window[\"dc3025ac-968c-11ed-a061-0242ac1c0002\"] = google.colab.output.getActiveOutputArea();\n",
              "//# sourceURL=js_7ae5da5a3f"
            ]
          },
          "metadata": {}
        },
        {
          "output_type": "display_data",
          "data": {
            "text/plain": [
              "<IPython.core.display.Javascript object>"
            ],
            "application/javascript": [
              "window[\"dc30852e-968c-11ed-a061-0242ac1c0002\"] = document.querySelector(\"#id2-0-1\");\n",
              "//# sourceURL=js_8443d9c247"
            ]
          },
          "metadata": {}
        },
        {
          "output_type": "display_data",
          "data": {
            "text/plain": [
              "<IPython.core.display.Javascript object>"
            ],
            "application/javascript": [
              "window[\"dc30d02e-968c-11ed-a061-0242ac1c0002\"] = google.colab.output.setActiveOutputArea(window[\"dc30852e-968c-11ed-a061-0242ac1c0002\"]);\n",
              "//# sourceURL=js_fbd48e25bd"
            ]
          },
          "metadata": {}
        },
        {
          "output_type": "display_data",
          "data": {
            "text/plain": [
              "<IPython.core.display.Javascript object>"
            ],
            "application/javascript": [
              "window[\"dc31fdfa-968c-11ed-a061-0242ac1c0002\"] = google.colab.output.setActiveOutputArea(window[\"dc3025ac-968c-11ed-a061-0242ac1c0002\"]);\n",
              "//# sourceURL=js_b68ff01bd5"
            ]
          },
          "metadata": {}
        },
        {
          "output_type": "display_data",
          "data": {
            "text/plain": [
              "<IPython.core.display.Javascript object>"
            ],
            "application/javascript": [
              "window[\"dc339e80-968c-11ed-a061-0242ac1c0002\"] = google.colab.output.getActiveOutputArea();\n",
              "//# sourceURL=js_736e6227aa"
            ]
          },
          "metadata": {}
        },
        {
          "output_type": "display_data",
          "data": {
            "text/plain": [
              "<IPython.core.display.Javascript object>"
            ],
            "application/javascript": [
              "window[\"dc33e430-968c-11ed-a061-0242ac1c0002\"] = document.querySelector(\"#id2-0-2\");\n",
              "//# sourceURL=js_d33fcc503d"
            ]
          },
          "metadata": {}
        },
        {
          "output_type": "display_data",
          "data": {
            "text/plain": [
              "<IPython.core.display.Javascript object>"
            ],
            "application/javascript": [
              "window[\"dc3425bc-968c-11ed-a061-0242ac1c0002\"] = google.colab.output.setActiveOutputArea(window[\"dc33e430-968c-11ed-a061-0242ac1c0002\"]);\n",
              "//# sourceURL=js_b8dd1f5b49"
            ]
          },
          "metadata": {}
        },
        {
          "output_type": "display_data",
          "data": {
            "text/plain": [
              "<IPython.core.display.Javascript object>"
            ],
            "application/javascript": [
              "window[\"dc356760-968c-11ed-a061-0242ac1c0002\"] = google.colab.output.setActiveOutputArea(window[\"dc339e80-968c-11ed-a061-0242ac1c0002\"]);\n",
              "//# sourceURL=js_826784cc88"
            ]
          },
          "metadata": {}
        },
        {
          "output_type": "display_data",
          "data": {
            "text/plain": [
              "<IPython.core.display.Javascript object>"
            ],
            "application/javascript": [
              "window[\"dc36e892-968c-11ed-a061-0242ac1c0002\"] = google.colab.output.getActiveOutputArea();\n",
              "//# sourceURL=js_ebd5970b26"
            ]
          },
          "metadata": {}
        },
        {
          "output_type": "display_data",
          "data": {
            "text/plain": [
              "<IPython.core.display.Javascript object>"
            ],
            "application/javascript": [
              "window[\"dc372b9a-968c-11ed-a061-0242ac1c0002\"] = document.querySelector(\"#id2-0-3\");\n",
              "//# sourceURL=js_a9e6baaefc"
            ]
          },
          "metadata": {}
        },
        {
          "output_type": "display_data",
          "data": {
            "text/plain": [
              "<IPython.core.display.Javascript object>"
            ],
            "application/javascript": [
              "window[\"dc376c04-968c-11ed-a061-0242ac1c0002\"] = google.colab.output.setActiveOutputArea(window[\"dc372b9a-968c-11ed-a061-0242ac1c0002\"]);\n",
              "//# sourceURL=js_cd3d3014e0"
            ]
          },
          "metadata": {}
        },
        {
          "output_type": "display_data",
          "data": {
            "text/plain": [
              "<IPython.core.display.Javascript object>"
            ],
            "application/javascript": [
              "window[\"dc384e80-968c-11ed-a061-0242ac1c0002\"] = google.colab.output.setActiveOutputArea(window[\"dc36e892-968c-11ed-a061-0242ac1c0002\"]);\n",
              "//# sourceURL=js_623c9a527e"
            ]
          },
          "metadata": {}
        },
        {
          "output_type": "display_data",
          "data": {
            "text/plain": [
              "<IPython.core.display.Javascript object>"
            ],
            "application/javascript": [
              "window[\"dc39d0f2-968c-11ed-a061-0242ac1c0002\"] = google.colab.output.getActiveOutputArea();\n",
              "//# sourceURL=js_8c630b5ddc"
            ]
          },
          "metadata": {}
        },
        {
          "output_type": "display_data",
          "data": {
            "text/plain": [
              "<IPython.core.display.Javascript object>"
            ],
            "application/javascript": [
              "window[\"dc3a168e-968c-11ed-a061-0242ac1c0002\"] = document.querySelector(\"#id2-1-0\");\n",
              "//# sourceURL=js_e365f38a84"
            ]
          },
          "metadata": {}
        },
        {
          "output_type": "display_data",
          "data": {
            "text/plain": [
              "<IPython.core.display.Javascript object>"
            ],
            "application/javascript": [
              "window[\"dc3a596e-968c-11ed-a061-0242ac1c0002\"] = google.colab.output.setActiveOutputArea(window[\"dc3a168e-968c-11ed-a061-0242ac1c0002\"]);\n",
              "//# sourceURL=js_dfd2fe4979"
            ]
          },
          "metadata": {}
        },
        {
          "output_type": "stream",
          "name": "stdout",
          "text": [
            "Once upon a did\n"
          ]
        },
        {
          "output_type": "display_data",
          "data": {
            "text/plain": [
              "<IPython.core.display.Javascript object>"
            ],
            "application/javascript": [
              "window[\"dc3bd83e-968c-11ed-a061-0242ac1c0002\"] = google.colab.output.setActiveOutputArea(window[\"dc39d0f2-968c-11ed-a061-0242ac1c0002\"]);\n",
              "//# sourceURL=js_edfdbc37f8"
            ]
          },
          "metadata": {}
        },
        {
          "output_type": "display_data",
          "data": {
            "text/plain": [
              "<IPython.core.display.Javascript object>"
            ],
            "application/javascript": [
              "window[\"dc3d6910-968c-11ed-a061-0242ac1c0002\"] = google.colab.output.getActiveOutputArea();\n",
              "//# sourceURL=js_d0c9a50b9d"
            ]
          },
          "metadata": {}
        },
        {
          "output_type": "display_data",
          "data": {
            "text/plain": [
              "<IPython.core.display.Javascript object>"
            ],
            "application/javascript": [
              "window[\"dc3da98e-968c-11ed-a061-0242ac1c0002\"] = document.querySelector(\"#id2-1-1\");\n",
              "//# sourceURL=js_c2bfd0ccb0"
            ]
          },
          "metadata": {}
        },
        {
          "output_type": "display_data",
          "data": {
            "text/plain": [
              "<IPython.core.display.Javascript object>"
            ],
            "application/javascript": [
              "window[\"dc3de7e6-968c-11ed-a061-0242ac1c0002\"] = google.colab.output.setActiveOutputArea(window[\"dc3da98e-968c-11ed-a061-0242ac1c0002\"]);\n",
              "//# sourceURL=js_6f0af14bce"
            ]
          },
          "metadata": {}
        },
        {
          "output_type": "display_data",
          "data": {
            "text/plain": [
              "<IPython.core.display.Javascript object>"
            ],
            "application/javascript": [
              "window[\"dc3ec076-968c-11ed-a061-0242ac1c0002\"] = google.colab.output.setActiveOutputArea(window[\"dc3d6910-968c-11ed-a061-0242ac1c0002\"]);\n",
              "//# sourceURL=js_c2f1e1f30a"
            ]
          },
          "metadata": {}
        },
        {
          "output_type": "display_data",
          "data": {
            "text/plain": [
              "<IPython.core.display.Javascript object>"
            ],
            "application/javascript": [
              "window[\"dc405b3e-968c-11ed-a061-0242ac1c0002\"] = google.colab.output.getActiveOutputArea();\n",
              "//# sourceURL=js_c882bfafda"
            ]
          },
          "metadata": {}
        },
        {
          "output_type": "display_data",
          "data": {
            "text/plain": [
              "<IPython.core.display.Javascript object>"
            ],
            "application/javascript": [
              "window[\"dc409a4a-968c-11ed-a061-0242ac1c0002\"] = document.querySelector(\"#id2-1-2\");\n",
              "//# sourceURL=js_e0972af72e"
            ]
          },
          "metadata": {}
        },
        {
          "output_type": "display_data",
          "data": {
            "text/plain": [
              "<IPython.core.display.Javascript object>"
            ],
            "application/javascript": [
              "window[\"dc40d7bc-968c-11ed-a061-0242ac1c0002\"] = google.colab.output.setActiveOutputArea(window[\"dc409a4a-968c-11ed-a061-0242ac1c0002\"]);\n",
              "//# sourceURL=js_528d5cd983"
            ]
          },
          "metadata": {}
        },
        {
          "output_type": "display_data",
          "data": {
            "text/plain": [
              "<IPython.core.display.Javascript object>"
            ],
            "application/javascript": [
              "window[\"dc420844-968c-11ed-a061-0242ac1c0002\"] = google.colab.output.setActiveOutputArea(window[\"dc405b3e-968c-11ed-a061-0242ac1c0002\"]);\n",
              "//# sourceURL=js_ac27bc9828"
            ]
          },
          "metadata": {}
        },
        {
          "output_type": "display_data",
          "data": {
            "text/plain": [
              "<IPython.core.display.Javascript object>"
            ],
            "application/javascript": [
              "window[\"dc4392ae-968c-11ed-a061-0242ac1c0002\"] = google.colab.output.getActiveOutputArea();\n",
              "//# sourceURL=js_cfd6f34305"
            ]
          },
          "metadata": {}
        },
        {
          "output_type": "display_data",
          "data": {
            "text/plain": [
              "<IPython.core.display.Javascript object>"
            ],
            "application/javascript": [
              "window[\"dc43d37c-968c-11ed-a061-0242ac1c0002\"] = document.querySelector(\"#id2-1-3\");\n",
              "//# sourceURL=js_67e43266ee"
            ]
          },
          "metadata": {}
        },
        {
          "output_type": "display_data",
          "data": {
            "text/plain": [
              "<IPython.core.display.Javascript object>"
            ],
            "application/javascript": [
              "window[\"dc4414ae-968c-11ed-a061-0242ac1c0002\"] = google.colab.output.setActiveOutputArea(window[\"dc43d37c-968c-11ed-a061-0242ac1c0002\"]);\n",
              "//# sourceURL=js_131ed6b5aa"
            ]
          },
          "metadata": {}
        },
        {
          "output_type": "display_data",
          "data": {
            "text/plain": [
              "<IPython.core.display.Javascript object>"
            ],
            "application/javascript": [
              "window[\"dc44f040-968c-11ed-a061-0242ac1c0002\"] = google.colab.output.setActiveOutputArea(window[\"dc4392ae-968c-11ed-a061-0242ac1c0002\"]);\n",
              "//# sourceURL=js_861ae88b1e"
            ]
          },
          "metadata": {}
        },
        {
          "output_type": "stream",
          "name": "stdout",
          "text": [
            "1/1 [==============================] - 0s 15ms/step\n"
          ]
        },
        {
          "output_type": "display_data",
          "data": {
            "text/plain": [
              "<IPython.core.display.Javascript object>"
            ],
            "application/javascript": [
              "window[\"dc5825e8-968c-11ed-a061-0242ac1c0002\"] = google.colab.output.getActiveOutputArea();\n",
              "//# sourceURL=js_620e3b8232"
            ]
          },
          "metadata": {}
        },
        {
          "output_type": "display_data",
          "data": {
            "text/plain": [
              "<IPython.core.display.Javascript object>"
            ],
            "application/javascript": [
              "window[\"dc58695e-968c-11ed-a061-0242ac1c0002\"] = document.querySelector(\"#id2-0-0\");\n",
              "//# sourceURL=js_26077e4c55"
            ]
          },
          "metadata": {}
        },
        {
          "output_type": "display_data",
          "data": {
            "text/plain": [
              "<IPython.core.display.Javascript object>"
            ],
            "application/javascript": [
              "window[\"dc58a504-968c-11ed-a061-0242ac1c0002\"] = google.colab.output.setActiveOutputArea(window[\"dc58695e-968c-11ed-a061-0242ac1c0002\"]);\n",
              "//# sourceURL=js_4bb8635b79"
            ]
          },
          "metadata": {}
        },
        {
          "output_type": "display_data",
          "data": {
            "text/plain": [
              "<IPython.core.display.Javascript object>"
            ],
            "application/javascript": [
              "window[\"dc599b08-968c-11ed-a061-0242ac1c0002\"] = google.colab.output.setActiveOutputArea(window[\"dc5825e8-968c-11ed-a061-0242ac1c0002\"]);\n",
              "//# sourceURL=js_6e60007f36"
            ]
          },
          "metadata": {}
        },
        {
          "output_type": "display_data",
          "data": {
            "text/plain": [
              "<IPython.core.display.Javascript object>"
            ],
            "application/javascript": [
              "window[\"dc5b3dbe-968c-11ed-a061-0242ac1c0002\"] = google.colab.output.getActiveOutputArea();\n",
              "//# sourceURL=js_27df1dbde3"
            ]
          },
          "metadata": {}
        },
        {
          "output_type": "display_data",
          "data": {
            "text/plain": [
              "<IPython.core.display.Javascript object>"
            ],
            "application/javascript": [
              "window[\"dc5b7702-968c-11ed-a061-0242ac1c0002\"] = document.querySelector(\"#id2-0-1\");\n",
              "//# sourceURL=js_432d04b16c"
            ]
          },
          "metadata": {}
        },
        {
          "output_type": "display_data",
          "data": {
            "text/plain": [
              "<IPython.core.display.Javascript object>"
            ],
            "application/javascript": [
              "window[\"dc5bb848-968c-11ed-a061-0242ac1c0002\"] = google.colab.output.setActiveOutputArea(window[\"dc5b7702-968c-11ed-a061-0242ac1c0002\"]);\n",
              "//# sourceURL=js_4137e1fcbe"
            ]
          },
          "metadata": {}
        },
        {
          "output_type": "display_data",
          "data": {
            "text/plain": [
              "<IPython.core.display.Javascript object>"
            ],
            "application/javascript": [
              "window[\"dc5c9ad8-968c-11ed-a061-0242ac1c0002\"] = google.colab.output.setActiveOutputArea(window[\"dc5b3dbe-968c-11ed-a061-0242ac1c0002\"]);\n",
              "//# sourceURL=js_549ac61980"
            ]
          },
          "metadata": {}
        },
        {
          "output_type": "display_data",
          "data": {
            "text/plain": [
              "<IPython.core.display.Javascript object>"
            ],
            "application/javascript": [
              "window[\"dc61cb16-968c-11ed-a061-0242ac1c0002\"] = google.colab.output.getActiveOutputArea();\n",
              "//# sourceURL=js_e6f95f69ff"
            ]
          },
          "metadata": {}
        },
        {
          "output_type": "display_data",
          "data": {
            "text/plain": [
              "<IPython.core.display.Javascript object>"
            ],
            "application/javascript": [
              "window[\"dc6201bc-968c-11ed-a061-0242ac1c0002\"] = document.querySelector(\"#id2-0-2\");\n",
              "//# sourceURL=js_faaada02a9"
            ]
          },
          "metadata": {}
        },
        {
          "output_type": "display_data",
          "data": {
            "text/plain": [
              "<IPython.core.display.Javascript object>"
            ],
            "application/javascript": [
              "window[\"dc625194-968c-11ed-a061-0242ac1c0002\"] = google.colab.output.setActiveOutputArea(window[\"dc6201bc-968c-11ed-a061-0242ac1c0002\"]);\n",
              "//# sourceURL=js_6a63b3c7ea"
            ]
          },
          "metadata": {}
        },
        {
          "output_type": "display_data",
          "data": {
            "text/plain": [
              "<IPython.core.display.Javascript object>"
            ],
            "application/javascript": [
              "window[\"dc636e58-968c-11ed-a061-0242ac1c0002\"] = google.colab.output.setActiveOutputArea(window[\"dc61cb16-968c-11ed-a061-0242ac1c0002\"]);\n",
              "//# sourceURL=js_79f49eaff2"
            ]
          },
          "metadata": {}
        },
        {
          "output_type": "display_data",
          "data": {
            "text/plain": [
              "<IPython.core.display.Javascript object>"
            ],
            "application/javascript": [
              "window[\"dc681110-968c-11ed-a061-0242ac1c0002\"] = google.colab.output.getActiveOutputArea();\n",
              "//# sourceURL=js_941b1bd03f"
            ]
          },
          "metadata": {}
        },
        {
          "output_type": "display_data",
          "data": {
            "text/plain": [
              "<IPython.core.display.Javascript object>"
            ],
            "application/javascript": [
              "window[\"dc689572-968c-11ed-a061-0242ac1c0002\"] = document.querySelector(\"#id2-0-3\");\n",
              "//# sourceURL=js_ff152ade74"
            ]
          },
          "metadata": {}
        },
        {
          "output_type": "display_data",
          "data": {
            "text/plain": [
              "<IPython.core.display.Javascript object>"
            ],
            "application/javascript": [
              "window[\"dc6928a2-968c-11ed-a061-0242ac1c0002\"] = google.colab.output.setActiveOutputArea(window[\"dc689572-968c-11ed-a061-0242ac1c0002\"]);\n",
              "//# sourceURL=js_a5f78d63f5"
            ]
          },
          "metadata": {}
        },
        {
          "output_type": "display_data",
          "data": {
            "text/plain": [
              "<IPython.core.display.Javascript object>"
            ],
            "application/javascript": [
              "window[\"dc6d3122-968c-11ed-a061-0242ac1c0002\"] = google.colab.output.setActiveOutputArea(window[\"dc681110-968c-11ed-a061-0242ac1c0002\"]);\n",
              "//# sourceURL=js_e2c7b0b2b4"
            ]
          },
          "metadata": {}
        },
        {
          "output_type": "display_data",
          "data": {
            "text/plain": [
              "<IPython.core.display.Javascript object>"
            ],
            "application/javascript": [
              "window[\"dc6fa5e2-968c-11ed-a061-0242ac1c0002\"] = google.colab.output.getActiveOutputArea();\n",
              "//# sourceURL=js_70675e3ea0"
            ]
          },
          "metadata": {}
        },
        {
          "output_type": "display_data",
          "data": {
            "text/plain": [
              "<IPython.core.display.Javascript object>"
            ],
            "application/javascript": [
              "window[\"dc7009a6-968c-11ed-a061-0242ac1c0002\"] = document.querySelector(\"#id2-1-0\");\n",
              "//# sourceURL=js_145195a489"
            ]
          },
          "metadata": {}
        },
        {
          "output_type": "display_data",
          "data": {
            "text/plain": [
              "<IPython.core.display.Javascript object>"
            ],
            "application/javascript": [
              "window[\"dc704970-968c-11ed-a061-0242ac1c0002\"] = google.colab.output.setActiveOutputArea(window[\"dc7009a6-968c-11ed-a061-0242ac1c0002\"]);\n",
              "//# sourceURL=js_f3d5df097f"
            ]
          },
          "metadata": {}
        },
        {
          "output_type": "display_data",
          "data": {
            "text/plain": [
              "<IPython.core.display.Javascript object>"
            ],
            "application/javascript": [
              "window[\"dc714c62-968c-11ed-a061-0242ac1c0002\"] = google.colab.output.setActiveOutputArea(window[\"dc6fa5e2-968c-11ed-a061-0242ac1c0002\"]);\n",
              "//# sourceURL=js_a1fa20b878"
            ]
          },
          "metadata": {}
        },
        {
          "output_type": "display_data",
          "data": {
            "text/plain": [
              "<IPython.core.display.Javascript object>"
            ],
            "application/javascript": [
              "window[\"dc72cd6c-968c-11ed-a061-0242ac1c0002\"] = google.colab.output.getActiveOutputArea();\n",
              "//# sourceURL=js_d8a35ceda6"
            ]
          },
          "metadata": {}
        },
        {
          "output_type": "display_data",
          "data": {
            "text/plain": [
              "<IPython.core.display.Javascript object>"
            ],
            "application/javascript": [
              "window[\"dc7303c2-968c-11ed-a061-0242ac1c0002\"] = document.querySelector(\"#id2-1-1\");\n",
              "//# sourceURL=js_c50c0e2379"
            ]
          },
          "metadata": {}
        },
        {
          "output_type": "display_data",
          "data": {
            "text/plain": [
              "<IPython.core.display.Javascript object>"
            ],
            "application/javascript": [
              "window[\"dc73427e-968c-11ed-a061-0242ac1c0002\"] = google.colab.output.setActiveOutputArea(window[\"dc7303c2-968c-11ed-a061-0242ac1c0002\"]);\n",
              "//# sourceURL=js_c064756fe5"
            ]
          },
          "metadata": {}
        },
        {
          "output_type": "display_data",
          "data": {
            "text/plain": [
              "<IPython.core.display.Javascript object>"
            ],
            "application/javascript": [
              "window[\"dc7449e4-968c-11ed-a061-0242ac1c0002\"] = google.colab.output.setActiveOutputArea(window[\"dc72cd6c-968c-11ed-a061-0242ac1c0002\"]);\n",
              "//# sourceURL=js_171087c00d"
            ]
          },
          "metadata": {}
        },
        {
          "output_type": "display_data",
          "data": {
            "text/plain": [
              "<IPython.core.display.Javascript object>"
            ],
            "application/javascript": [
              "window[\"dc75cc4c-968c-11ed-a061-0242ac1c0002\"] = google.colab.output.getActiveOutputArea();\n",
              "//# sourceURL=js_dcdf8b6697"
            ]
          },
          "metadata": {}
        },
        {
          "output_type": "display_data",
          "data": {
            "text/plain": [
              "<IPython.core.display.Javascript object>"
            ],
            "application/javascript": [
              "window[\"dc760496-968c-11ed-a061-0242ac1c0002\"] = document.querySelector(\"#id2-1-2\");\n",
              "//# sourceURL=js_f1622191e8"
            ]
          },
          "metadata": {}
        },
        {
          "output_type": "display_data",
          "data": {
            "text/plain": [
              "<IPython.core.display.Javascript object>"
            ],
            "application/javascript": [
              "window[\"dc7644e2-968c-11ed-a061-0242ac1c0002\"] = google.colab.output.setActiveOutputArea(window[\"dc760496-968c-11ed-a061-0242ac1c0002\"]);\n",
              "//# sourceURL=js_0d8b96c755"
            ]
          },
          "metadata": {}
        },
        {
          "output_type": "display_data",
          "data": {
            "text/plain": [
              "<IPython.core.display.Javascript object>"
            ],
            "application/javascript": [
              "window[\"dc77605c-968c-11ed-a061-0242ac1c0002\"] = google.colab.output.setActiveOutputArea(window[\"dc75cc4c-968c-11ed-a061-0242ac1c0002\"]);\n",
              "//# sourceURL=js_1e18c1b94e"
            ]
          },
          "metadata": {}
        },
        {
          "output_type": "display_data",
          "data": {
            "text/plain": [
              "<IPython.core.display.Javascript object>"
            ],
            "application/javascript": [
              "window[\"dc792c7a-968c-11ed-a061-0242ac1c0002\"] = google.colab.output.getActiveOutputArea();\n",
              "//# sourceURL=js_ddff38fa1e"
            ]
          },
          "metadata": {}
        },
        {
          "output_type": "display_data",
          "data": {
            "text/plain": [
              "<IPython.core.display.Javascript object>"
            ],
            "application/javascript": [
              "window[\"dc7971c6-968c-11ed-a061-0242ac1c0002\"] = document.querySelector(\"#id2-1-3\");\n",
              "//# sourceURL=js_1a1c3d7c9f"
            ]
          },
          "metadata": {}
        },
        {
          "output_type": "display_data",
          "data": {
            "text/plain": [
              "<IPython.core.display.Javascript object>"
            ],
            "application/javascript": [
              "window[\"dc79b23a-968c-11ed-a061-0242ac1c0002\"] = google.colab.output.setActiveOutputArea(window[\"dc7971c6-968c-11ed-a061-0242ac1c0002\"]);\n",
              "//# sourceURL=js_2beaa9a51e"
            ]
          },
          "metadata": {}
        },
        {
          "output_type": "display_data",
          "data": {
            "text/plain": [
              "<IPython.core.display.Javascript object>"
            ],
            "application/javascript": [
              "window[\"dc7aa8e8-968c-11ed-a061-0242ac1c0002\"] = google.colab.output.setActiveOutputArea(window[\"dc792c7a-968c-11ed-a061-0242ac1c0002\"]);\n",
              "//# sourceURL=js_a9d01a20e3"
            ]
          },
          "metadata": {}
        },
        {
          "output_type": "display_data",
          "data": {
            "text/plain": [
              "<IPython.core.display.Javascript object>"
            ],
            "application/javascript": [
              "window[\"dc7eb4a6-968c-11ed-a061-0242ac1c0002\"] = google.colab.output.getActiveOutputArea();\n",
              "//# sourceURL=js_621605d0bf"
            ]
          },
          "metadata": {}
        },
        {
          "output_type": "display_data",
          "data": {
            "text/plain": [
              "<IPython.core.display.Javascript object>"
            ],
            "application/javascript": [
              "window[\"dc7ef826-968c-11ed-a061-0242ac1c0002\"] = document.querySelector(\"#id2-0-0\");\n",
              "//# sourceURL=js_d46fe496b8"
            ]
          },
          "metadata": {}
        },
        {
          "output_type": "display_data",
          "data": {
            "text/plain": [
              "<IPython.core.display.Javascript object>"
            ],
            "application/javascript": [
              "window[\"dc7f3066-968c-11ed-a061-0242ac1c0002\"] = google.colab.output.setActiveOutputArea(window[\"dc7ef826-968c-11ed-a061-0242ac1c0002\"]);\n",
              "//# sourceURL=js_00b811d2e2"
            ]
          },
          "metadata": {}
        },
        {
          "output_type": "display_data",
          "data": {
            "text/plain": [
              "<IPython.core.display.Javascript object>"
            ],
            "application/javascript": [
              "window[\"dc8020ac-968c-11ed-a061-0242ac1c0002\"] = google.colab.output.setActiveOutputArea(window[\"dc7eb4a6-968c-11ed-a061-0242ac1c0002\"]);\n",
              "//# sourceURL=js_aaf1cdb279"
            ]
          },
          "metadata": {}
        },
        {
          "output_type": "display_data",
          "data": {
            "text/plain": [
              "<IPython.core.display.Javascript object>"
            ],
            "application/javascript": [
              "window[\"dc81b20a-968c-11ed-a061-0242ac1c0002\"] = google.colab.output.getActiveOutputArea();\n",
              "//# sourceURL=js_25c7b10551"
            ]
          },
          "metadata": {}
        },
        {
          "output_type": "display_data",
          "data": {
            "text/plain": [
              "<IPython.core.display.Javascript object>"
            ],
            "application/javascript": [
              "window[\"dc81f7d8-968c-11ed-a061-0242ac1c0002\"] = document.querySelector(\"#id2-0-1\");\n",
              "//# sourceURL=js_7db6760dc1"
            ]
          },
          "metadata": {}
        },
        {
          "output_type": "display_data",
          "data": {
            "text/plain": [
              "<IPython.core.display.Javascript object>"
            ],
            "application/javascript": [
              "window[\"dc824d46-968c-11ed-a061-0242ac1c0002\"] = google.colab.output.setActiveOutputArea(window[\"dc81f7d8-968c-11ed-a061-0242ac1c0002\"]);\n",
              "//# sourceURL=js_9d7c70183f"
            ]
          },
          "metadata": {}
        },
        {
          "output_type": "display_data",
          "data": {
            "text/plain": [
              "<IPython.core.display.Javascript object>"
            ],
            "application/javascript": [
              "window[\"dc831690-968c-11ed-a061-0242ac1c0002\"] = google.colab.output.setActiveOutputArea(window[\"dc81b20a-968c-11ed-a061-0242ac1c0002\"]);\n",
              "//# sourceURL=js_3afbd1edbb"
            ]
          },
          "metadata": {}
        },
        {
          "output_type": "display_data",
          "data": {
            "text/plain": [
              "<IPython.core.display.Javascript object>"
            ],
            "application/javascript": [
              "window[\"dc8459c4-968c-11ed-a061-0242ac1c0002\"] = google.colab.output.getActiveOutputArea();\n",
              "//# sourceURL=js_1fb605829c"
            ]
          },
          "metadata": {}
        },
        {
          "output_type": "display_data",
          "data": {
            "text/plain": [
              "<IPython.core.display.Javascript object>"
            ],
            "application/javascript": [
              "window[\"dc84b004-968c-11ed-a061-0242ac1c0002\"] = document.querySelector(\"#id2-0-2\");\n",
              "//# sourceURL=js_cfe42dc865"
            ]
          },
          "metadata": {}
        },
        {
          "output_type": "display_data",
          "data": {
            "text/plain": [
              "<IPython.core.display.Javascript object>"
            ],
            "application/javascript": [
              "window[\"dc84ee3e-968c-11ed-a061-0242ac1c0002\"] = google.colab.output.setActiveOutputArea(window[\"dc84b004-968c-11ed-a061-0242ac1c0002\"]);\n",
              "//# sourceURL=js_94ac0a973d"
            ]
          },
          "metadata": {}
        },
        {
          "output_type": "display_data",
          "data": {
            "text/plain": [
              "<IPython.core.display.Javascript object>"
            ],
            "application/javascript": [
              "window[\"dc85f7f2-968c-11ed-a061-0242ac1c0002\"] = google.colab.output.setActiveOutputArea(window[\"dc8459c4-968c-11ed-a061-0242ac1c0002\"]);\n",
              "//# sourceURL=js_2d9a44f655"
            ]
          },
          "metadata": {}
        },
        {
          "output_type": "display_data",
          "data": {
            "text/plain": [
              "<IPython.core.display.Javascript object>"
            ],
            "application/javascript": [
              "window[\"dc87d1d0-968c-11ed-a061-0242ac1c0002\"] = google.colab.output.getActiveOutputArea();\n",
              "//# sourceURL=js_b5b3f52e95"
            ]
          },
          "metadata": {}
        },
        {
          "output_type": "display_data",
          "data": {
            "text/plain": [
              "<IPython.core.display.Javascript object>"
            ],
            "application/javascript": [
              "window[\"dc881fe6-968c-11ed-a061-0242ac1c0002\"] = document.querySelector(\"#id2-0-3\");\n",
              "//# sourceURL=js_9290eb2864"
            ]
          },
          "metadata": {}
        },
        {
          "output_type": "display_data",
          "data": {
            "text/plain": [
              "<IPython.core.display.Javascript object>"
            ],
            "application/javascript": [
              "window[\"dc886e9c-968c-11ed-a061-0242ac1c0002\"] = google.colab.output.setActiveOutputArea(window[\"dc881fe6-968c-11ed-a061-0242ac1c0002\"]);\n",
              "//# sourceURL=js_3e3de4bb43"
            ]
          },
          "metadata": {}
        },
        {
          "output_type": "display_data",
          "data": {
            "text/plain": [
              "<IPython.core.display.Javascript object>"
            ],
            "application/javascript": [
              "window[\"dc897418-968c-11ed-a061-0242ac1c0002\"] = google.colab.output.setActiveOutputArea(window[\"dc87d1d0-968c-11ed-a061-0242ac1c0002\"]);\n",
              "//# sourceURL=js_33b6b5b7b3"
            ]
          },
          "metadata": {}
        },
        {
          "output_type": "display_data",
          "data": {
            "text/plain": [
              "<IPython.core.display.Javascript object>"
            ],
            "application/javascript": [
              "window[\"dc8b06fc-968c-11ed-a061-0242ac1c0002\"] = google.colab.output.getActiveOutputArea();\n",
              "//# sourceURL=js_06fb5f5407"
            ]
          },
          "metadata": {}
        },
        {
          "output_type": "display_data",
          "data": {
            "text/plain": [
              "<IPython.core.display.Javascript object>"
            ],
            "application/javascript": [
              "window[\"dc8b4748-968c-11ed-a061-0242ac1c0002\"] = document.querySelector(\"#id2-1-0\");\n",
              "//# sourceURL=js_ed96d38a85"
            ]
          },
          "metadata": {}
        },
        {
          "output_type": "display_data",
          "data": {
            "text/plain": [
              "<IPython.core.display.Javascript object>"
            ],
            "application/javascript": [
              "window[\"dc8b85be-968c-11ed-a061-0242ac1c0002\"] = google.colab.output.setActiveOutputArea(window[\"dc8b4748-968c-11ed-a061-0242ac1c0002\"]);\n",
              "//# sourceURL=js_7037d63fb8"
            ]
          },
          "metadata": {}
        },
        {
          "output_type": "display_data",
          "data": {
            "text/plain": [
              "<IPython.core.display.Javascript object>"
            ],
            "application/javascript": [
              "window[\"dc8c5e6c-968c-11ed-a061-0242ac1c0002\"] = google.colab.output.setActiveOutputArea(window[\"dc8b06fc-968c-11ed-a061-0242ac1c0002\"]);\n",
              "//# sourceURL=js_024c2bff06"
            ]
          },
          "metadata": {}
        },
        {
          "output_type": "display_data",
          "data": {
            "text/plain": [
              "<IPython.core.display.Javascript object>"
            ],
            "application/javascript": [
              "window[\"dc8de2d2-968c-11ed-a061-0242ac1c0002\"] = google.colab.output.getActiveOutputArea();\n",
              "//# sourceURL=js_b6f7c74868"
            ]
          },
          "metadata": {}
        },
        {
          "output_type": "display_data",
          "data": {
            "text/plain": [
              "<IPython.core.display.Javascript object>"
            ],
            "application/javascript": [
              "window[\"dc8e2418-968c-11ed-a061-0242ac1c0002\"] = document.querySelector(\"#id2-1-1\");\n",
              "//# sourceURL=js_c2bff53453"
            ]
          },
          "metadata": {}
        },
        {
          "output_type": "display_data",
          "data": {
            "text/plain": [
              "<IPython.core.display.Javascript object>"
            ],
            "application/javascript": [
              "window[\"dc8e6770-968c-11ed-a061-0242ac1c0002\"] = google.colab.output.setActiveOutputArea(window[\"dc8e2418-968c-11ed-a061-0242ac1c0002\"]);\n",
              "//# sourceURL=js_e9b2e0462a"
            ]
          },
          "metadata": {}
        },
        {
          "output_type": "display_data",
          "data": {
            "text/plain": [
              "Button(description='trying', style=ButtonStyle())"
            ],
            "application/vnd.jupyter.widget-view+json": {
              "version_major": 2,
              "version_minor": 0,
              "model_id": "8a7f88be4b494ff68bca83e59e114c88"
            }
          },
          "metadata": {}
        },
        {
          "output_type": "display_data",
          "data": {
            "text/plain": [
              "<IPython.core.display.Javascript object>"
            ],
            "application/javascript": [
              "window[\"dc8f771e-968c-11ed-a061-0242ac1c0002\"] = google.colab.output.setActiveOutputArea(window[\"dc8de2d2-968c-11ed-a061-0242ac1c0002\"]);\n",
              "//# sourceURL=js_f3a7f1976c"
            ]
          },
          "metadata": {}
        },
        {
          "output_type": "display_data",
          "data": {
            "text/plain": [
              "<IPython.core.display.Javascript object>"
            ],
            "application/javascript": [
              "window[\"dc9140a8-968c-11ed-a061-0242ac1c0002\"] = google.colab.output.getActiveOutputArea();\n",
              "//# sourceURL=js_2637f0c01d"
            ]
          },
          "metadata": {}
        },
        {
          "output_type": "display_data",
          "data": {
            "text/plain": [
              "<IPython.core.display.Javascript object>"
            ],
            "application/javascript": [
              "window[\"dc918b62-968c-11ed-a061-0242ac1c0002\"] = document.querySelector(\"#id2-1-2\");\n",
              "//# sourceURL=js_0cebd4a5d5"
            ]
          },
          "metadata": {}
        },
        {
          "output_type": "display_data",
          "data": {
            "text/plain": [
              "<IPython.core.display.Javascript object>"
            ],
            "application/javascript": [
              "window[\"dc91d478-968c-11ed-a061-0242ac1c0002\"] = google.colab.output.setActiveOutputArea(window[\"dc918b62-968c-11ed-a061-0242ac1c0002\"]);\n",
              "//# sourceURL=js_4a8d01e212"
            ]
          },
          "metadata": {}
        },
        {
          "output_type": "display_data",
          "data": {
            "text/plain": [
              "Button(description='need', style=ButtonStyle())"
            ],
            "application/vnd.jupyter.widget-view+json": {
              "version_major": 2,
              "version_minor": 0,
              "model_id": "06f2a7e4f3b2494b916aabac01fe4393"
            }
          },
          "metadata": {}
        },
        {
          "output_type": "display_data",
          "data": {
            "text/plain": [
              "<IPython.core.display.Javascript object>"
            ],
            "application/javascript": [
              "window[\"dc92dc88-968c-11ed-a061-0242ac1c0002\"] = google.colab.output.setActiveOutputArea(window[\"dc9140a8-968c-11ed-a061-0242ac1c0002\"]);\n",
              "//# sourceURL=js_96e32e14e0"
            ]
          },
          "metadata": {}
        },
        {
          "output_type": "display_data",
          "data": {
            "text/plain": [
              "<IPython.core.display.Javascript object>"
            ],
            "application/javascript": [
              "window[\"dc94540a-968c-11ed-a061-0242ac1c0002\"] = google.colab.output.getActiveOutputArea();\n",
              "//# sourceURL=js_7af3471acb"
            ]
          },
          "metadata": {}
        },
        {
          "output_type": "display_data",
          "data": {
            "text/plain": [
              "<IPython.core.display.Javascript object>"
            ],
            "application/javascript": [
              "window[\"dc9492b2-968c-11ed-a061-0242ac1c0002\"] = document.querySelector(\"#id2-1-3\");\n",
              "//# sourceURL=js_1ba25bf256"
            ]
          },
          "metadata": {}
        },
        {
          "output_type": "display_data",
          "data": {
            "text/plain": [
              "<IPython.core.display.Javascript object>"
            ],
            "application/javascript": [
              "window[\"dc94cf2a-968c-11ed-a061-0242ac1c0002\"] = google.colab.output.setActiveOutputArea(window[\"dc9492b2-968c-11ed-a061-0242ac1c0002\"]);\n",
              "//# sourceURL=js_6e8c1d96b7"
            ]
          },
          "metadata": {}
        },
        {
          "output_type": "display_data",
          "data": {
            "text/plain": [
              "Button(description='taken', style=ButtonStyle())"
            ],
            "application/vnd.jupyter.widget-view+json": {
              "version_major": 2,
              "version_minor": 0,
              "model_id": "6094f0b81dab410e8643a4b84345a5e3"
            }
          },
          "metadata": {}
        },
        {
          "output_type": "display_data",
          "data": {
            "text/plain": [
              "<IPython.core.display.Javascript object>"
            ],
            "application/javascript": [
              "window[\"dc95e090-968c-11ed-a061-0242ac1c0002\"] = google.colab.output.setActiveOutputArea(window[\"dc94540a-968c-11ed-a061-0242ac1c0002\"]);\n",
              "//# sourceURL=js_b695579ace"
            ]
          },
          "metadata": {}
        },
        {
          "output_type": "display_data",
          "data": {
            "text/plain": [
              "<IPython.core.display.Javascript object>"
            ],
            "application/javascript": [
              "window[\"df92c16e-968c-11ed-a061-0242ac1c0002\"] = google.colab.output.getActiveOutputArea();\n",
              "//# sourceURL=js_d0bb20b4ff"
            ]
          },
          "metadata": {}
        },
        {
          "output_type": "display_data",
          "data": {
            "text/plain": [
              "<IPython.core.display.Javascript object>"
            ],
            "application/javascript": [
              "window[\"df92f68e-968c-11ed-a061-0242ac1c0002\"] = document.querySelector(\"#id2-0-0\");\n",
              "//# sourceURL=js_06e98a9108"
            ]
          },
          "metadata": {}
        },
        {
          "output_type": "display_data",
          "data": {
            "text/plain": [
              "<IPython.core.display.Javascript object>"
            ],
            "application/javascript": [
              "window[\"df9349ae-968c-11ed-a061-0242ac1c0002\"] = google.colab.output.setActiveOutputArea(window[\"df92f68e-968c-11ed-a061-0242ac1c0002\"]);\n",
              "//# sourceURL=js_df01ab3477"
            ]
          },
          "metadata": {}
        },
        {
          "output_type": "display_data",
          "data": {
            "text/plain": [
              "<IPython.core.display.Javascript object>"
            ],
            "application/javascript": [
              "window[\"df944f48-968c-11ed-a061-0242ac1c0002\"] = google.colab.output.setActiveOutputArea(window[\"df92c16e-968c-11ed-a061-0242ac1c0002\"]);\n",
              "//# sourceURL=js_fff2789535"
            ]
          },
          "metadata": {}
        },
        {
          "output_type": "display_data",
          "data": {
            "text/plain": [
              "<IPython.core.display.Javascript object>"
            ],
            "application/javascript": [
              "window[\"df961134-968c-11ed-a061-0242ac1c0002\"] = google.colab.output.getActiveOutputArea();\n",
              "//# sourceURL=js_b4594a3174"
            ]
          },
          "metadata": {}
        },
        {
          "output_type": "display_data",
          "data": {
            "text/plain": [
              "<IPython.core.display.Javascript object>"
            ],
            "application/javascript": [
              "window[\"df966f58-968c-11ed-a061-0242ac1c0002\"] = document.querySelector(\"#id2-0-1\");\n",
              "//# sourceURL=js_eaf9a6f83e"
            ]
          },
          "metadata": {}
        },
        {
          "output_type": "display_data",
          "data": {
            "text/plain": [
              "<IPython.core.display.Javascript object>"
            ],
            "application/javascript": [
              "window[\"df96c0ac-968c-11ed-a061-0242ac1c0002\"] = google.colab.output.setActiveOutputArea(window[\"df966f58-968c-11ed-a061-0242ac1c0002\"]);\n",
              "//# sourceURL=js_d87152e6b2"
            ]
          },
          "metadata": {}
        },
        {
          "output_type": "display_data",
          "data": {
            "text/plain": [
              "<IPython.core.display.Javascript object>"
            ],
            "application/javascript": [
              "window[\"df97c7cc-968c-11ed-a061-0242ac1c0002\"] = google.colab.output.setActiveOutputArea(window[\"df961134-968c-11ed-a061-0242ac1c0002\"]);\n",
              "//# sourceURL=js_297b0e7010"
            ]
          },
          "metadata": {}
        },
        {
          "output_type": "display_data",
          "data": {
            "text/plain": [
              "<IPython.core.display.Javascript object>"
            ],
            "application/javascript": [
              "window[\"df9978ec-968c-11ed-a061-0242ac1c0002\"] = google.colab.output.getActiveOutputArea();\n",
              "//# sourceURL=js_8fe88589cf"
            ]
          },
          "metadata": {}
        },
        {
          "output_type": "display_data",
          "data": {
            "text/plain": [
              "<IPython.core.display.Javascript object>"
            ],
            "application/javascript": [
              "window[\"df99c018-968c-11ed-a061-0242ac1c0002\"] = document.querySelector(\"#id2-0-2\");\n",
              "//# sourceURL=js_3b4ca43e4f"
            ]
          },
          "metadata": {}
        },
        {
          "output_type": "display_data",
          "data": {
            "text/plain": [
              "<IPython.core.display.Javascript object>"
            ],
            "application/javascript": [
              "window[\"df9a0190-968c-11ed-a061-0242ac1c0002\"] = google.colab.output.setActiveOutputArea(window[\"df99c018-968c-11ed-a061-0242ac1c0002\"]);\n",
              "//# sourceURL=js_cc4896f881"
            ]
          },
          "metadata": {}
        },
        {
          "output_type": "display_data",
          "data": {
            "text/plain": [
              "<IPython.core.display.Javascript object>"
            ],
            "application/javascript": [
              "window[\"df9afc80-968c-11ed-a061-0242ac1c0002\"] = google.colab.output.setActiveOutputArea(window[\"df9978ec-968c-11ed-a061-0242ac1c0002\"]);\n",
              "//# sourceURL=js_3e7de31dc0"
            ]
          },
          "metadata": {}
        },
        {
          "output_type": "display_data",
          "data": {
            "text/plain": [
              "<IPython.core.display.Javascript object>"
            ],
            "application/javascript": [
              "window[\"dfa119d0-968c-11ed-a061-0242ac1c0002\"] = google.colab.output.getActiveOutputArea();\n",
              "//# sourceURL=js_abcb46f797"
            ]
          },
          "metadata": {}
        },
        {
          "output_type": "display_data",
          "data": {
            "text/plain": [
              "<IPython.core.display.Javascript object>"
            ],
            "application/javascript": [
              "window[\"dfa18f5a-968c-11ed-a061-0242ac1c0002\"] = document.querySelector(\"#id2-0-3\");\n",
              "//# sourceURL=js_0a5fde574f"
            ]
          },
          "metadata": {}
        },
        {
          "output_type": "display_data",
          "data": {
            "text/plain": [
              "<IPython.core.display.Javascript object>"
            ],
            "application/javascript": [
              "window[\"dfa1e572-968c-11ed-a061-0242ac1c0002\"] = google.colab.output.setActiveOutputArea(window[\"dfa18f5a-968c-11ed-a061-0242ac1c0002\"]);\n",
              "//# sourceURL=js_7263a156c0"
            ]
          },
          "metadata": {}
        },
        {
          "output_type": "display_data",
          "data": {
            "text/plain": [
              "<IPython.core.display.Javascript object>"
            ],
            "application/javascript": [
              "window[\"dfa2eeb8-968c-11ed-a061-0242ac1c0002\"] = google.colab.output.setActiveOutputArea(window[\"dfa119d0-968c-11ed-a061-0242ac1c0002\"]);\n",
              "//# sourceURL=js_3629b33b6c"
            ]
          },
          "metadata": {}
        },
        {
          "output_type": "display_data",
          "data": {
            "text/plain": [
              "<IPython.core.display.Javascript object>"
            ],
            "application/javascript": [
              "window[\"dfa4dbce-968c-11ed-a061-0242ac1c0002\"] = google.colab.output.getActiveOutputArea();\n",
              "//# sourceURL=js_b71f40f2a8"
            ]
          },
          "metadata": {}
        },
        {
          "output_type": "display_data",
          "data": {
            "text/plain": [
              "<IPython.core.display.Javascript object>"
            ],
            "application/javascript": [
              "window[\"dfa63f5a-968c-11ed-a061-0242ac1c0002\"] = document.querySelector(\"#id2-1-0\");\n",
              "//# sourceURL=js_416abd6ea1"
            ]
          },
          "metadata": {}
        },
        {
          "output_type": "display_data",
          "data": {
            "text/plain": [
              "<IPython.core.display.Javascript object>"
            ],
            "application/javascript": [
              "window[\"dfa6a512-968c-11ed-a061-0242ac1c0002\"] = google.colab.output.setActiveOutputArea(window[\"dfa63f5a-968c-11ed-a061-0242ac1c0002\"]);\n",
              "//# sourceURL=js_60b979595a"
            ]
          },
          "metadata": {}
        },
        {
          "output_type": "stream",
          "name": "stdout",
          "text": [
            "Once upon a did need\n"
          ]
        },
        {
          "output_type": "display_data",
          "data": {
            "text/plain": [
              "<IPython.core.display.Javascript object>"
            ],
            "application/javascript": [
              "window[\"dfa7ba88-968c-11ed-a061-0242ac1c0002\"] = google.colab.output.setActiveOutputArea(window[\"dfa4dbce-968c-11ed-a061-0242ac1c0002\"]);\n",
              "//# sourceURL=js_401f682732"
            ]
          },
          "metadata": {}
        },
        {
          "output_type": "display_data",
          "data": {
            "text/plain": [
              "<IPython.core.display.Javascript object>"
            ],
            "application/javascript": [
              "window[\"dfa93d40-968c-11ed-a061-0242ac1c0002\"] = google.colab.output.getActiveOutputArea();\n",
              "//# sourceURL=js_dbbbcb6e19"
            ]
          },
          "metadata": {}
        },
        {
          "output_type": "display_data",
          "data": {
            "text/plain": [
              "<IPython.core.display.Javascript object>"
            ],
            "application/javascript": [
              "window[\"dfa97a44-968c-11ed-a061-0242ac1c0002\"] = document.querySelector(\"#id2-1-1\");\n",
              "//# sourceURL=js_177c631c9c"
            ]
          },
          "metadata": {}
        },
        {
          "output_type": "display_data",
          "data": {
            "text/plain": [
              "<IPython.core.display.Javascript object>"
            ],
            "application/javascript": [
              "window[\"dfa9ba4a-968c-11ed-a061-0242ac1c0002\"] = google.colab.output.setActiveOutputArea(window[\"dfa97a44-968c-11ed-a061-0242ac1c0002\"]);\n",
              "//# sourceURL=js_4cab3bbb8d"
            ]
          },
          "metadata": {}
        },
        {
          "output_type": "display_data",
          "data": {
            "text/plain": [
              "<IPython.core.display.Javascript object>"
            ],
            "application/javascript": [
              "window[\"dfac1c04-968c-11ed-a061-0242ac1c0002\"] = google.colab.output.setActiveOutputArea(window[\"dfa93d40-968c-11ed-a061-0242ac1c0002\"]);\n",
              "//# sourceURL=js_c6d76649ee"
            ]
          },
          "metadata": {}
        },
        {
          "output_type": "display_data",
          "data": {
            "text/plain": [
              "<IPython.core.display.Javascript object>"
            ],
            "application/javascript": [
              "window[\"dfb001ca-968c-11ed-a061-0242ac1c0002\"] = google.colab.output.getActiveOutputArea();\n",
              "//# sourceURL=js_a2f00f2802"
            ]
          },
          "metadata": {}
        },
        {
          "output_type": "display_data",
          "data": {
            "text/plain": [
              "<IPython.core.display.Javascript object>"
            ],
            "application/javascript": [
              "window[\"dfb0718c-968c-11ed-a061-0242ac1c0002\"] = document.querySelector(\"#id2-1-2\");\n",
              "//# sourceURL=js_936014cc4c"
            ]
          },
          "metadata": {}
        },
        {
          "output_type": "display_data",
          "data": {
            "text/plain": [
              "<IPython.core.display.Javascript object>"
            ],
            "application/javascript": [
              "window[\"dfb0e306-968c-11ed-a061-0242ac1c0002\"] = google.colab.output.setActiveOutputArea(window[\"dfb0718c-968c-11ed-a061-0242ac1c0002\"]);\n",
              "//# sourceURL=js_9cc71e3cac"
            ]
          },
          "metadata": {}
        },
        {
          "output_type": "display_data",
          "data": {
            "text/plain": [
              "<IPython.core.display.Javascript object>"
            ],
            "application/javascript": [
              "window[\"dfb2eeda-968c-11ed-a061-0242ac1c0002\"] = google.colab.output.setActiveOutputArea(window[\"dfb001ca-968c-11ed-a061-0242ac1c0002\"]);\n",
              "//# sourceURL=js_fb71afd363"
            ]
          },
          "metadata": {}
        },
        {
          "output_type": "display_data",
          "data": {
            "text/plain": [
              "<IPython.core.display.Javascript object>"
            ],
            "application/javascript": [
              "window[\"dfb5ea7c-968c-11ed-a061-0242ac1c0002\"] = google.colab.output.getActiveOutputArea();\n",
              "//# sourceURL=js_71c20edef1"
            ]
          },
          "metadata": {}
        },
        {
          "output_type": "display_data",
          "data": {
            "text/plain": [
              "<IPython.core.display.Javascript object>"
            ],
            "application/javascript": [
              "window[\"dfb65142-968c-11ed-a061-0242ac1c0002\"] = document.querySelector(\"#id2-1-3\");\n",
              "//# sourceURL=js_79c530e4a4"
            ]
          },
          "metadata": {}
        },
        {
          "output_type": "display_data",
          "data": {
            "text/plain": [
              "<IPython.core.display.Javascript object>"
            ],
            "application/javascript": [
              "window[\"dfb68892-968c-11ed-a061-0242ac1c0002\"] = google.colab.output.setActiveOutputArea(window[\"dfb65142-968c-11ed-a061-0242ac1c0002\"]);\n",
              "//# sourceURL=js_166ddfbd0e"
            ]
          },
          "metadata": {}
        },
        {
          "output_type": "display_data",
          "data": {
            "text/plain": [
              "<IPython.core.display.Javascript object>"
            ],
            "application/javascript": [
              "window[\"dfb796a6-968c-11ed-a061-0242ac1c0002\"] = google.colab.output.setActiveOutputArea(window[\"dfb5ea7c-968c-11ed-a061-0242ac1c0002\"]);\n",
              "//# sourceURL=js_43366f82e1"
            ]
          },
          "metadata": {}
        },
        {
          "output_type": "stream",
          "name": "stdout",
          "text": [
            "1/1 [==============================] - 0s 16ms/step\n"
          ]
        },
        {
          "output_type": "display_data",
          "data": {
            "text/plain": [
              "<IPython.core.display.Javascript object>"
            ],
            "application/javascript": [
              "window[\"dfc13f4e-968c-11ed-a061-0242ac1c0002\"] = google.colab.output.getActiveOutputArea();\n",
              "//# sourceURL=js_c39895c115"
            ]
          },
          "metadata": {}
        },
        {
          "output_type": "display_data",
          "data": {
            "text/plain": [
              "<IPython.core.display.Javascript object>"
            ],
            "application/javascript": [
              "window[\"dfc17e8c-968c-11ed-a061-0242ac1c0002\"] = document.querySelector(\"#id2-0-0\");\n",
              "//# sourceURL=js_e8dc6e315b"
            ]
          },
          "metadata": {}
        },
        {
          "output_type": "display_data",
          "data": {
            "text/plain": [
              "<IPython.core.display.Javascript object>"
            ],
            "application/javascript": [
              "window[\"dfc1b64a-968c-11ed-a061-0242ac1c0002\"] = google.colab.output.setActiveOutputArea(window[\"dfc17e8c-968c-11ed-a061-0242ac1c0002\"]);\n",
              "//# sourceURL=js_86e96544f5"
            ]
          },
          "metadata": {}
        },
        {
          "output_type": "display_data",
          "data": {
            "text/plain": [
              "<IPython.core.display.Javascript object>"
            ],
            "application/javascript": [
              "window[\"dfc28e8a-968c-11ed-a061-0242ac1c0002\"] = google.colab.output.setActiveOutputArea(window[\"dfc13f4e-968c-11ed-a061-0242ac1c0002\"]);\n",
              "//# sourceURL=js_94d5fa70b3"
            ]
          },
          "metadata": {}
        },
        {
          "output_type": "display_data",
          "data": {
            "text/plain": [
              "<IPython.core.display.Javascript object>"
            ],
            "application/javascript": [
              "window[\"dfc40364-968c-11ed-a061-0242ac1c0002\"] = google.colab.output.getActiveOutputArea();\n",
              "//# sourceURL=js_00f901c496"
            ]
          },
          "metadata": {}
        },
        {
          "output_type": "display_data",
          "data": {
            "text/plain": [
              "<IPython.core.display.Javascript object>"
            ],
            "application/javascript": [
              "window[\"dfc44446-968c-11ed-a061-0242ac1c0002\"] = document.querySelector(\"#id2-0-1\");\n",
              "//# sourceURL=js_44c5756f1a"
            ]
          },
          "metadata": {}
        },
        {
          "output_type": "display_data",
          "data": {
            "text/plain": [
              "<IPython.core.display.Javascript object>"
            ],
            "application/javascript": [
              "window[\"dfc47f38-968c-11ed-a061-0242ac1c0002\"] = google.colab.output.setActiveOutputArea(window[\"dfc44446-968c-11ed-a061-0242ac1c0002\"]);\n",
              "//# sourceURL=js_9499392f9a"
            ]
          },
          "metadata": {}
        },
        {
          "output_type": "display_data",
          "data": {
            "text/plain": [
              "<IPython.core.display.Javascript object>"
            ],
            "application/javascript": [
              "window[\"dfc5520a-968c-11ed-a061-0242ac1c0002\"] = google.colab.output.setActiveOutputArea(window[\"dfc40364-968c-11ed-a061-0242ac1c0002\"]);\n",
              "//# sourceURL=js_a40359d8b0"
            ]
          },
          "metadata": {}
        },
        {
          "output_type": "display_data",
          "data": {
            "text/plain": [
              "<IPython.core.display.Javascript object>"
            ],
            "application/javascript": [
              "window[\"dfc6c856-968c-11ed-a061-0242ac1c0002\"] = google.colab.output.getActiveOutputArea();\n",
              "//# sourceURL=js_751aa1c70b"
            ]
          },
          "metadata": {}
        },
        {
          "output_type": "display_data",
          "data": {
            "text/plain": [
              "<IPython.core.display.Javascript object>"
            ],
            "application/javascript": [
              "window[\"dfc70226-968c-11ed-a061-0242ac1c0002\"] = document.querySelector(\"#id2-0-2\");\n",
              "//# sourceURL=js_313f512f82"
            ]
          },
          "metadata": {}
        },
        {
          "output_type": "display_data",
          "data": {
            "text/plain": [
              "<IPython.core.display.Javascript object>"
            ],
            "application/javascript": [
              "window[\"dfc73bd8-968c-11ed-a061-0242ac1c0002\"] = google.colab.output.setActiveOutputArea(window[\"dfc70226-968c-11ed-a061-0242ac1c0002\"]);\n",
              "//# sourceURL=js_774dbcbf02"
            ]
          },
          "metadata": {}
        },
        {
          "output_type": "display_data",
          "data": {
            "text/plain": [
              "<IPython.core.display.Javascript object>"
            ],
            "application/javascript": [
              "window[\"dfc81f08-968c-11ed-a061-0242ac1c0002\"] = google.colab.output.setActiveOutputArea(window[\"dfc6c856-968c-11ed-a061-0242ac1c0002\"]);\n",
              "//# sourceURL=js_28c204b6f4"
            ]
          },
          "metadata": {}
        },
        {
          "output_type": "display_data",
          "data": {
            "text/plain": [
              "<IPython.core.display.Javascript object>"
            ],
            "application/javascript": [
              "window[\"dfc98bb8-968c-11ed-a061-0242ac1c0002\"] = google.colab.output.getActiveOutputArea();\n",
              "//# sourceURL=js_454087eef0"
            ]
          },
          "metadata": {}
        },
        {
          "output_type": "display_data",
          "data": {
            "text/plain": [
              "<IPython.core.display.Javascript object>"
            ],
            "application/javascript": [
              "window[\"dfc9bebc-968c-11ed-a061-0242ac1c0002\"] = document.querySelector(\"#id2-0-3\");\n",
              "//# sourceURL=js_763b5e19bc"
            ]
          },
          "metadata": {}
        },
        {
          "output_type": "display_data",
          "data": {
            "text/plain": [
              "<IPython.core.display.Javascript object>"
            ],
            "application/javascript": [
              "window[\"dfc9fa58-968c-11ed-a061-0242ac1c0002\"] = google.colab.output.setActiveOutputArea(window[\"dfc9bebc-968c-11ed-a061-0242ac1c0002\"]);\n",
              "//# sourceURL=js_11a44ed8ae"
            ]
          },
          "metadata": {}
        },
        {
          "output_type": "display_data",
          "data": {
            "text/plain": [
              "<IPython.core.display.Javascript object>"
            ],
            "application/javascript": [
              "window[\"dfcac9f6-968c-11ed-a061-0242ac1c0002\"] = google.colab.output.setActiveOutputArea(window[\"dfc98bb8-968c-11ed-a061-0242ac1c0002\"]);\n",
              "//# sourceURL=js_cfdb5bf241"
            ]
          },
          "metadata": {}
        },
        {
          "output_type": "display_data",
          "data": {
            "text/plain": [
              "<IPython.core.display.Javascript object>"
            ],
            "application/javascript": [
              "window[\"dfcc5492-968c-11ed-a061-0242ac1c0002\"] = google.colab.output.getActiveOutputArea();\n",
              "//# sourceURL=js_3a0f637f25"
            ]
          },
          "metadata": {}
        },
        {
          "output_type": "display_data",
          "data": {
            "text/plain": [
              "<IPython.core.display.Javascript object>"
            ],
            "application/javascript": [
              "window[\"dfcc91aa-968c-11ed-a061-0242ac1c0002\"] = document.querySelector(\"#id2-1-0\");\n",
              "//# sourceURL=js_a4987c92ca"
            ]
          },
          "metadata": {}
        },
        {
          "output_type": "display_data",
          "data": {
            "text/plain": [
              "<IPython.core.display.Javascript object>"
            ],
            "application/javascript": [
              "window[\"dfcccb2a-968c-11ed-a061-0242ac1c0002\"] = google.colab.output.setActiveOutputArea(window[\"dfcc91aa-968c-11ed-a061-0242ac1c0002\"]);\n",
              "//# sourceURL=js_e1a93e11bb"
            ]
          },
          "metadata": {}
        },
        {
          "output_type": "display_data",
          "data": {
            "text/plain": [
              "<IPython.core.display.Javascript object>"
            ],
            "application/javascript": [
              "window[\"dfcda1c6-968c-11ed-a061-0242ac1c0002\"] = google.colab.output.setActiveOutputArea(window[\"dfcc5492-968c-11ed-a061-0242ac1c0002\"]);\n",
              "//# sourceURL=js_40f66dab1f"
            ]
          },
          "metadata": {}
        },
        {
          "output_type": "display_data",
          "data": {
            "text/plain": [
              "<IPython.core.display.Javascript object>"
            ],
            "application/javascript": [
              "window[\"dfcf15f6-968c-11ed-a061-0242ac1c0002\"] = google.colab.output.getActiveOutputArea();\n",
              "//# sourceURL=js_78efa354be"
            ]
          },
          "metadata": {}
        },
        {
          "output_type": "display_data",
          "data": {
            "text/plain": [
              "<IPython.core.display.Javascript object>"
            ],
            "application/javascript": [
              "window[\"dfcf5502-968c-11ed-a061-0242ac1c0002\"] = document.querySelector(\"#id2-1-1\");\n",
              "//# sourceURL=js_81e88eaec0"
            ]
          },
          "metadata": {}
        },
        {
          "output_type": "display_data",
          "data": {
            "text/plain": [
              "<IPython.core.display.Javascript object>"
            ],
            "application/javascript": [
              "window[\"dfcf8eb4-968c-11ed-a061-0242ac1c0002\"] = google.colab.output.setActiveOutputArea(window[\"dfcf5502-968c-11ed-a061-0242ac1c0002\"]);\n",
              "//# sourceURL=js_11c12c90bb"
            ]
          },
          "metadata": {}
        },
        {
          "output_type": "display_data",
          "data": {
            "text/plain": [
              "<IPython.core.display.Javascript object>"
            ],
            "application/javascript": [
              "window[\"dfd0722a-968c-11ed-a061-0242ac1c0002\"] = google.colab.output.setActiveOutputArea(window[\"dfcf15f6-968c-11ed-a061-0242ac1c0002\"]);\n",
              "//# sourceURL=js_dd01992822"
            ]
          },
          "metadata": {}
        },
        {
          "output_type": "display_data",
          "data": {
            "text/plain": [
              "<IPython.core.display.Javascript object>"
            ],
            "application/javascript": [
              "window[\"dfd1e754-968c-11ed-a061-0242ac1c0002\"] = google.colab.output.getActiveOutputArea();\n",
              "//# sourceURL=js_d2fde8b0bc"
            ]
          },
          "metadata": {}
        },
        {
          "output_type": "display_data",
          "data": {
            "text/plain": [
              "<IPython.core.display.Javascript object>"
            ],
            "application/javascript": [
              "window[\"dfd223e0-968c-11ed-a061-0242ac1c0002\"] = document.querySelector(\"#id2-1-2\");\n",
              "//# sourceURL=js_30c86ff51b"
            ]
          },
          "metadata": {}
        },
        {
          "output_type": "display_data",
          "data": {
            "text/plain": [
              "<IPython.core.display.Javascript object>"
            ],
            "application/javascript": [
              "window[\"dfd262e2-968c-11ed-a061-0242ac1c0002\"] = google.colab.output.setActiveOutputArea(window[\"dfd223e0-968c-11ed-a061-0242ac1c0002\"]);\n",
              "//# sourceURL=js_2ba65cc685"
            ]
          },
          "metadata": {}
        },
        {
          "output_type": "display_data",
          "data": {
            "text/plain": [
              "<IPython.core.display.Javascript object>"
            ],
            "application/javascript": [
              "window[\"dfd38c12-968c-11ed-a061-0242ac1c0002\"] = google.colab.output.setActiveOutputArea(window[\"dfd1e754-968c-11ed-a061-0242ac1c0002\"]);\n",
              "//# sourceURL=js_6f852da39b"
            ]
          },
          "metadata": {}
        },
        {
          "output_type": "display_data",
          "data": {
            "text/plain": [
              "<IPython.core.display.Javascript object>"
            ],
            "application/javascript": [
              "window[\"dfd4fc8c-968c-11ed-a061-0242ac1c0002\"] = google.colab.output.getActiveOutputArea();\n",
              "//# sourceURL=js_0be637c3dd"
            ]
          },
          "metadata": {}
        },
        {
          "output_type": "display_data",
          "data": {
            "text/plain": [
              "<IPython.core.display.Javascript object>"
            ],
            "application/javascript": [
              "window[\"dfd538fa-968c-11ed-a061-0242ac1c0002\"] = document.querySelector(\"#id2-1-3\");\n",
              "//# sourceURL=js_8bba8d102b"
            ]
          },
          "metadata": {}
        },
        {
          "output_type": "display_data",
          "data": {
            "text/plain": [
              "<IPython.core.display.Javascript object>"
            ],
            "application/javascript": [
              "window[\"dfd57464-968c-11ed-a061-0242ac1c0002\"] = google.colab.output.setActiveOutputArea(window[\"dfd538fa-968c-11ed-a061-0242ac1c0002\"]);\n",
              "//# sourceURL=js_8e966b6ae1"
            ]
          },
          "metadata": {}
        },
        {
          "output_type": "display_data",
          "data": {
            "text/plain": [
              "<IPython.core.display.Javascript object>"
            ],
            "application/javascript": [
              "window[\"dfd65b7c-968c-11ed-a061-0242ac1c0002\"] = google.colab.output.setActiveOutputArea(window[\"dfd4fc8c-968c-11ed-a061-0242ac1c0002\"]);\n",
              "//# sourceURL=js_2fc1ed4f36"
            ]
          },
          "metadata": {}
        },
        {
          "output_type": "display_data",
          "data": {
            "text/plain": [
              "<IPython.core.display.Javascript object>"
            ],
            "application/javascript": [
              "window[\"dfd97352-968c-11ed-a061-0242ac1c0002\"] = google.colab.output.getActiveOutputArea();\n",
              "//# sourceURL=js_8652739623"
            ]
          },
          "metadata": {}
        },
        {
          "output_type": "display_data",
          "data": {
            "text/plain": [
              "<IPython.core.display.Javascript object>"
            ],
            "application/javascript": [
              "window[\"dfd9b66e-968c-11ed-a061-0242ac1c0002\"] = document.querySelector(\"#id2-0-0\");\n",
              "//# sourceURL=js_1249a9065a"
            ]
          },
          "metadata": {}
        },
        {
          "output_type": "display_data",
          "data": {
            "text/plain": [
              "<IPython.core.display.Javascript object>"
            ],
            "application/javascript": [
              "window[\"dfd9f3c2-968c-11ed-a061-0242ac1c0002\"] = google.colab.output.setActiveOutputArea(window[\"dfd9b66e-968c-11ed-a061-0242ac1c0002\"]);\n",
              "//# sourceURL=js_cb25bb15c0"
            ]
          },
          "metadata": {}
        },
        {
          "output_type": "display_data",
          "data": {
            "text/plain": [
              "<IPython.core.display.Javascript object>"
            ],
            "application/javascript": [
              "window[\"dfdad06c-968c-11ed-a061-0242ac1c0002\"] = google.colab.output.setActiveOutputArea(window[\"dfd97352-968c-11ed-a061-0242ac1c0002\"]);\n",
              "//# sourceURL=js_b15f0245be"
            ]
          },
          "metadata": {}
        },
        {
          "output_type": "display_data",
          "data": {
            "text/plain": [
              "<IPython.core.display.Javascript object>"
            ],
            "application/javascript": [
              "window[\"dfdc509a-968c-11ed-a061-0242ac1c0002\"] = google.colab.output.getActiveOutputArea();\n",
              "//# sourceURL=js_6a80982bd5"
            ]
          },
          "metadata": {}
        },
        {
          "output_type": "display_data",
          "data": {
            "text/plain": [
              "<IPython.core.display.Javascript object>"
            ],
            "application/javascript": [
              "window[\"dfdca018-968c-11ed-a061-0242ac1c0002\"] = document.querySelector(\"#id2-0-1\");\n",
              "//# sourceURL=js_f01b26ca89"
            ]
          },
          "metadata": {}
        },
        {
          "output_type": "display_data",
          "data": {
            "text/plain": [
              "<IPython.core.display.Javascript object>"
            ],
            "application/javascript": [
              "window[\"dfdcd9a2-968c-11ed-a061-0242ac1c0002\"] = google.colab.output.setActiveOutputArea(window[\"dfdca018-968c-11ed-a061-0242ac1c0002\"]);\n",
              "//# sourceURL=js_010037a3fc"
            ]
          },
          "metadata": {}
        },
        {
          "output_type": "display_data",
          "data": {
            "text/plain": [
              "<IPython.core.display.Javascript object>"
            ],
            "application/javascript": [
              "window[\"dfddb606-968c-11ed-a061-0242ac1c0002\"] = google.colab.output.setActiveOutputArea(window[\"dfdc509a-968c-11ed-a061-0242ac1c0002\"]);\n",
              "//# sourceURL=js_4d1d1ea170"
            ]
          },
          "metadata": {}
        },
        {
          "output_type": "display_data",
          "data": {
            "text/plain": [
              "<IPython.core.display.Javascript object>"
            ],
            "application/javascript": [
              "window[\"dfdf2856-968c-11ed-a061-0242ac1c0002\"] = google.colab.output.getActiveOutputArea();\n",
              "//# sourceURL=js_a388e901ab"
            ]
          },
          "metadata": {}
        },
        {
          "output_type": "display_data",
          "data": {
            "text/plain": [
              "<IPython.core.display.Javascript object>"
            ],
            "application/javascript": [
              "window[\"dfdf615e-968c-11ed-a061-0242ac1c0002\"] = document.querySelector(\"#id2-0-2\");\n",
              "//# sourceURL=js_f1465e281b"
            ]
          },
          "metadata": {}
        },
        {
          "output_type": "display_data",
          "data": {
            "text/plain": [
              "<IPython.core.display.Javascript object>"
            ],
            "application/javascript": [
              "window[\"dfdfa16e-968c-11ed-a061-0242ac1c0002\"] = google.colab.output.setActiveOutputArea(window[\"dfdf615e-968c-11ed-a061-0242ac1c0002\"]);\n",
              "//# sourceURL=js_3ae6988c23"
            ]
          },
          "metadata": {}
        },
        {
          "output_type": "display_data",
          "data": {
            "text/plain": [
              "<IPython.core.display.Javascript object>"
            ],
            "application/javascript": [
              "window[\"dfe07b02-968c-11ed-a061-0242ac1c0002\"] = google.colab.output.setActiveOutputArea(window[\"dfdf2856-968c-11ed-a061-0242ac1c0002\"]);\n",
              "//# sourceURL=js_80dcf1f5fb"
            ]
          },
          "metadata": {}
        },
        {
          "output_type": "display_data",
          "data": {
            "text/plain": [
              "<IPython.core.display.Javascript object>"
            ],
            "application/javascript": [
              "window[\"dfe1ea78-968c-11ed-a061-0242ac1c0002\"] = google.colab.output.getActiveOutputArea();\n",
              "//# sourceURL=js_92f94b60ea"
            ]
          },
          "metadata": {}
        },
        {
          "output_type": "display_data",
          "data": {
            "text/plain": [
              "<IPython.core.display.Javascript object>"
            ],
            "application/javascript": [
              "window[\"dfe22678-968c-11ed-a061-0242ac1c0002\"] = document.querySelector(\"#id2-0-3\");\n",
              "//# sourceURL=js_7c254c10cd"
            ]
          },
          "metadata": {}
        },
        {
          "output_type": "display_data",
          "data": {
            "text/plain": [
              "<IPython.core.display.Javascript object>"
            ],
            "application/javascript": [
              "window[\"dfe263c2-968c-11ed-a061-0242ac1c0002\"] = google.colab.output.setActiveOutputArea(window[\"dfe22678-968c-11ed-a061-0242ac1c0002\"]);\n",
              "//# sourceURL=js_a7036dc5d1"
            ]
          },
          "metadata": {}
        },
        {
          "output_type": "display_data",
          "data": {
            "text/plain": [
              "<IPython.core.display.Javascript object>"
            ],
            "application/javascript": [
              "window[\"dfe344a4-968c-11ed-a061-0242ac1c0002\"] = google.colab.output.setActiveOutputArea(window[\"dfe1ea78-968c-11ed-a061-0242ac1c0002\"]);\n",
              "//# sourceURL=js_6cf6792cbc"
            ]
          },
          "metadata": {}
        },
        {
          "output_type": "display_data",
          "data": {
            "text/plain": [
              "<IPython.core.display.Javascript object>"
            ],
            "application/javascript": [
              "window[\"dfe5280a-968c-11ed-a061-0242ac1c0002\"] = google.colab.output.getActiveOutputArea();\n",
              "//# sourceURL=js_a75428019e"
            ]
          },
          "metadata": {}
        },
        {
          "output_type": "display_data",
          "data": {
            "text/plain": [
              "<IPython.core.display.Javascript object>"
            ],
            "application/javascript": [
              "window[\"dfe5e326-968c-11ed-a061-0242ac1c0002\"] = document.querySelector(\"#id2-1-0\");\n",
              "//# sourceURL=js_5e3efca2ff"
            ]
          },
          "metadata": {}
        },
        {
          "output_type": "display_data",
          "data": {
            "text/plain": [
              "<IPython.core.display.Javascript object>"
            ],
            "application/javascript": [
              "window[\"dfe620f2-968c-11ed-a061-0242ac1c0002\"] = google.colab.output.setActiveOutputArea(window[\"dfe5e326-968c-11ed-a061-0242ac1c0002\"]);\n",
              "//# sourceURL=js_4ac1b3fa91"
            ]
          },
          "metadata": {}
        },
        {
          "output_type": "display_data",
          "data": {
            "text/plain": [
              "<IPython.core.display.Javascript object>"
            ],
            "application/javascript": [
              "window[\"dfe76de0-968c-11ed-a061-0242ac1c0002\"] = google.colab.output.setActiveOutputArea(window[\"dfe5280a-968c-11ed-a061-0242ac1c0002\"]);\n",
              "//# sourceURL=js_ae35a8bc4f"
            ]
          },
          "metadata": {}
        },
        {
          "output_type": "display_data",
          "data": {
            "text/plain": [
              "<IPython.core.display.Javascript object>"
            ],
            "application/javascript": [
              "window[\"dfe8dce8-968c-11ed-a061-0242ac1c0002\"] = google.colab.output.getActiveOutputArea();\n",
              "//# sourceURL=js_15ac4538db"
            ]
          },
          "metadata": {}
        },
        {
          "output_type": "display_data",
          "data": {
            "text/plain": [
              "<IPython.core.display.Javascript object>"
            ],
            "application/javascript": [
              "window[\"dfe91a46-968c-11ed-a061-0242ac1c0002\"] = document.querySelector(\"#id2-1-1\");\n",
              "//# sourceURL=js_a5fa51543f"
            ]
          },
          "metadata": {}
        },
        {
          "output_type": "display_data",
          "data": {
            "text/plain": [
              "<IPython.core.display.Javascript object>"
            ],
            "application/javascript": [
              "window[\"dfe954ca-968c-11ed-a061-0242ac1c0002\"] = google.colab.output.setActiveOutputArea(window[\"dfe91a46-968c-11ed-a061-0242ac1c0002\"]);\n",
              "//# sourceURL=js_728e43a0ef"
            ]
          },
          "metadata": {}
        },
        {
          "output_type": "display_data",
          "data": {
            "text/plain": [
              "Button(description=\"he's\", style=ButtonStyle())"
            ],
            "application/vnd.jupyter.widget-view+json": {
              "version_major": 2,
              "version_minor": 0,
              "model_id": "beca9ebab2294df1b4b6d247891e4ecb"
            }
          },
          "metadata": {}
        },
        {
          "output_type": "display_data",
          "data": {
            "text/plain": [
              "<IPython.core.display.Javascript object>"
            ],
            "application/javascript": [
              "window[\"dfea560e-968c-11ed-a061-0242ac1c0002\"] = google.colab.output.setActiveOutputArea(window[\"dfe8dce8-968c-11ed-a061-0242ac1c0002\"]);\n",
              "//# sourceURL=js_9f47afb488"
            ]
          },
          "metadata": {}
        },
        {
          "output_type": "display_data",
          "data": {
            "text/plain": [
              "<IPython.core.display.Javascript object>"
            ],
            "application/javascript": [
              "window[\"dfebb3c8-968c-11ed-a061-0242ac1c0002\"] = google.colab.output.getActiveOutputArea();\n",
              "//# sourceURL=js_c468a0875d"
            ]
          },
          "metadata": {}
        },
        {
          "output_type": "display_data",
          "data": {
            "text/plain": [
              "<IPython.core.display.Javascript object>"
            ],
            "application/javascript": [
              "window[\"dfebed20-968c-11ed-a061-0242ac1c0002\"] = document.querySelector(\"#id2-1-2\");\n",
              "//# sourceURL=js_7718e5c122"
            ]
          },
          "metadata": {}
        },
        {
          "output_type": "display_data",
          "data": {
            "text/plain": [
              "<IPython.core.display.Javascript object>"
            ],
            "application/javascript": [
              "window[\"dfec2948-968c-11ed-a061-0242ac1c0002\"] = google.colab.output.setActiveOutputArea(window[\"dfebed20-968c-11ed-a061-0242ac1c0002\"]);\n",
              "//# sourceURL=js_267b5c7441"
            ]
          },
          "metadata": {}
        },
        {
          "output_type": "display_data",
          "data": {
            "text/plain": [
              "Button(description='guitar', style=ButtonStyle())"
            ],
            "application/vnd.jupyter.widget-view+json": {
              "version_major": 2,
              "version_minor": 0,
              "model_id": "fb47766b9dca4785876e325e7759a349"
            }
          },
          "metadata": {}
        },
        {
          "output_type": "display_data",
          "data": {
            "text/plain": [
              "<IPython.core.display.Javascript object>"
            ],
            "application/javascript": [
              "window[\"dfed2b22-968c-11ed-a061-0242ac1c0002\"] = google.colab.output.setActiveOutputArea(window[\"dfebb3c8-968c-11ed-a061-0242ac1c0002\"]);\n",
              "//# sourceURL=js_25b7baa1dd"
            ]
          },
          "metadata": {}
        },
        {
          "output_type": "display_data",
          "data": {
            "text/plain": [
              "<IPython.core.display.Javascript object>"
            ],
            "application/javascript": [
              "window[\"dfeec0ae-968c-11ed-a061-0242ac1c0002\"] = google.colab.output.getActiveOutputArea();\n",
              "//# sourceURL=js_068dada5b7"
            ]
          },
          "metadata": {}
        },
        {
          "output_type": "display_data",
          "data": {
            "text/plain": [
              "<IPython.core.display.Javascript object>"
            ],
            "application/javascript": [
              "window[\"dfef17c0-968c-11ed-a061-0242ac1c0002\"] = document.querySelector(\"#id2-1-3\");\n",
              "//# sourceURL=js_5d0084b805"
            ]
          },
          "metadata": {}
        },
        {
          "output_type": "display_data",
          "data": {
            "text/plain": [
              "<IPython.core.display.Javascript object>"
            ],
            "application/javascript": [
              "window[\"dfef510e-968c-11ed-a061-0242ac1c0002\"] = google.colab.output.setActiveOutputArea(window[\"dfef17c0-968c-11ed-a061-0242ac1c0002\"]);\n",
              "//# sourceURL=js_5dbac59421"
            ]
          },
          "metadata": {}
        },
        {
          "output_type": "display_data",
          "data": {
            "text/plain": [
              "Button(description='teardrops', style=ButtonStyle())"
            ],
            "application/vnd.jupyter.widget-view+json": {
              "version_major": 2,
              "version_minor": 0,
              "model_id": "81527367db1842cfa6305107bd1ce03a"
            }
          },
          "metadata": {}
        },
        {
          "output_type": "display_data",
          "data": {
            "text/plain": [
              "<IPython.core.display.Javascript object>"
            ],
            "application/javascript": [
              "window[\"dff057b6-968c-11ed-a061-0242ac1c0002\"] = google.colab.output.setActiveOutputArea(window[\"dfeec0ae-968c-11ed-a061-0242ac1c0002\"]);\n",
              "//# sourceURL=js_7604cb2bbb"
            ]
          },
          "metadata": {}
        },
        {
          "output_type": "display_data",
          "data": {
            "text/plain": [
              "<IPython.core.display.Javascript object>"
            ],
            "application/javascript": [
              "window[\"5d95cc40-9693-11ed-a061-0242ac1c0002\"] = google.colab.output.getActiveOutputArea();\n",
              "//# sourceURL=js_e8bd16fbbe"
            ]
          },
          "metadata": {}
        },
        {
          "output_type": "display_data",
          "data": {
            "text/plain": [
              "<IPython.core.display.Javascript object>"
            ],
            "application/javascript": [
              "window[\"5d961ec0-9693-11ed-a061-0242ac1c0002\"] = document.querySelector(\"#id2-0-0\");\n",
              "//# sourceURL=js_cafca05104"
            ]
          },
          "metadata": {}
        },
        {
          "output_type": "display_data",
          "data": {
            "text/plain": [
              "<IPython.core.display.Javascript object>"
            ],
            "application/javascript": [
              "window[\"5d965d4a-9693-11ed-a061-0242ac1c0002\"] = google.colab.output.setActiveOutputArea(window[\"5d961ec0-9693-11ed-a061-0242ac1c0002\"]);\n",
              "//# sourceURL=js_cb20617dcf"
            ]
          },
          "metadata": {}
        },
        {
          "output_type": "display_data",
          "data": {
            "text/plain": [
              "<IPython.core.display.Javascript object>"
            ],
            "application/javascript": [
              "window[\"5d977004-9693-11ed-a061-0242ac1c0002\"] = google.colab.output.setActiveOutputArea(window[\"5d95cc40-9693-11ed-a061-0242ac1c0002\"]);\n",
              "//# sourceURL=js_31dd318fc7"
            ]
          },
          "metadata": {}
        },
        {
          "output_type": "display_data",
          "data": {
            "text/plain": [
              "<IPython.core.display.Javascript object>"
            ],
            "application/javascript": [
              "window[\"5d9900c2-9693-11ed-a061-0242ac1c0002\"] = google.colab.output.getActiveOutputArea();\n",
              "//# sourceURL=js_fe9c029f41"
            ]
          },
          "metadata": {}
        },
        {
          "output_type": "display_data",
          "data": {
            "text/plain": [
              "<IPython.core.display.Javascript object>"
            ],
            "application/javascript": [
              "window[\"5d994320-9693-11ed-a061-0242ac1c0002\"] = document.querySelector(\"#id2-0-1\");\n",
              "//# sourceURL=js_5eeb012679"
            ]
          },
          "metadata": {}
        },
        {
          "output_type": "display_data",
          "data": {
            "text/plain": [
              "<IPython.core.display.Javascript object>"
            ],
            "application/javascript": [
              "window[\"5d999bf4-9693-11ed-a061-0242ac1c0002\"] = google.colab.output.setActiveOutputArea(window[\"5d994320-9693-11ed-a061-0242ac1c0002\"]);\n",
              "//# sourceURL=js_a3eeeef9be"
            ]
          },
          "metadata": {}
        },
        {
          "output_type": "display_data",
          "data": {
            "text/plain": [
              "<IPython.core.display.Javascript object>"
            ],
            "application/javascript": [
              "window[\"5d9ab444-9693-11ed-a061-0242ac1c0002\"] = google.colab.output.setActiveOutputArea(window[\"5d9900c2-9693-11ed-a061-0242ac1c0002\"]);\n",
              "//# sourceURL=js_c81cb861bf"
            ]
          },
          "metadata": {}
        },
        {
          "output_type": "display_data",
          "data": {
            "text/plain": [
              "<IPython.core.display.Javascript object>"
            ],
            "application/javascript": [
              "window[\"5d9fb368-9693-11ed-a061-0242ac1c0002\"] = google.colab.output.getActiveOutputArea();\n",
              "//# sourceURL=js_ff16c898ca"
            ]
          },
          "metadata": {}
        },
        {
          "output_type": "display_data",
          "data": {
            "text/plain": [
              "<IPython.core.display.Javascript object>"
            ],
            "application/javascript": [
              "window[\"5d9ff422-9693-11ed-a061-0242ac1c0002\"] = document.querySelector(\"#id2-0-2\");\n",
              "//# sourceURL=js_48c4f972c0"
            ]
          },
          "metadata": {}
        },
        {
          "output_type": "display_data",
          "data": {
            "text/plain": [
              "<IPython.core.display.Javascript object>"
            ],
            "application/javascript": [
              "window[\"5da04076-9693-11ed-a061-0242ac1c0002\"] = google.colab.output.setActiveOutputArea(window[\"5d9ff422-9693-11ed-a061-0242ac1c0002\"]);\n",
              "//# sourceURL=js_0039c57b76"
            ]
          },
          "metadata": {}
        },
        {
          "output_type": "display_data",
          "data": {
            "text/plain": [
              "<IPython.core.display.Javascript object>"
            ],
            "application/javascript": [
              "window[\"5da12824-9693-11ed-a061-0242ac1c0002\"] = google.colab.output.setActiveOutputArea(window[\"5d9fb368-9693-11ed-a061-0242ac1c0002\"]);\n",
              "//# sourceURL=js_c8da3a4b27"
            ]
          },
          "metadata": {}
        },
        {
          "output_type": "display_data",
          "data": {
            "text/plain": [
              "<IPython.core.display.Javascript object>"
            ],
            "application/javascript": [
              "window[\"5da2bec8-9693-11ed-a061-0242ac1c0002\"] = google.colab.output.getActiveOutputArea();\n",
              "//# sourceURL=js_5594516c4c"
            ]
          },
          "metadata": {}
        },
        {
          "output_type": "display_data",
          "data": {
            "text/plain": [
              "<IPython.core.display.Javascript object>"
            ],
            "application/javascript": [
              "window[\"5da2fd48-9693-11ed-a061-0242ac1c0002\"] = document.querySelector(\"#id2-0-3\");\n",
              "//# sourceURL=js_38e585a44a"
            ]
          },
          "metadata": {}
        },
        {
          "output_type": "display_data",
          "data": {
            "text/plain": [
              "<IPython.core.display.Javascript object>"
            ],
            "application/javascript": [
              "window[\"5da34000-9693-11ed-a061-0242ac1c0002\"] = google.colab.output.setActiveOutputArea(window[\"5da2fd48-9693-11ed-a061-0242ac1c0002\"]);\n",
              "//# sourceURL=js_e9b46418bb"
            ]
          },
          "metadata": {}
        },
        {
          "output_type": "display_data",
          "data": {
            "text/plain": [
              "<IPython.core.display.Javascript object>"
            ],
            "application/javascript": [
              "window[\"5da42da8-9693-11ed-a061-0242ac1c0002\"] = google.colab.output.setActiveOutputArea(window[\"5da2bec8-9693-11ed-a061-0242ac1c0002\"]);\n",
              "//# sourceURL=js_30b3640000"
            ]
          },
          "metadata": {}
        },
        {
          "output_type": "display_data",
          "data": {
            "text/plain": [
              "<IPython.core.display.Javascript object>"
            ],
            "application/javascript": [
              "window[\"5da9879e-9693-11ed-a061-0242ac1c0002\"] = google.colab.output.getActiveOutputArea();\n",
              "//# sourceURL=js_0a5a00501e"
            ]
          },
          "metadata": {}
        },
        {
          "output_type": "display_data",
          "data": {
            "text/plain": [
              "<IPython.core.display.Javascript object>"
            ],
            "application/javascript": [
              "window[\"5da9e298-9693-11ed-a061-0242ac1c0002\"] = document.querySelector(\"#id2-1-0\");\n",
              "//# sourceURL=js_71daf87fd0"
            ]
          },
          "metadata": {}
        },
        {
          "output_type": "display_data",
          "data": {
            "text/plain": [
              "<IPython.core.display.Javascript object>"
            ],
            "application/javascript": [
              "window[\"5daa3a7c-9693-11ed-a061-0242ac1c0002\"] = google.colab.output.setActiveOutputArea(window[\"5da9e298-9693-11ed-a061-0242ac1c0002\"]);\n",
              "//# sourceURL=js_82fa298df1"
            ]
          },
          "metadata": {}
        },
        {
          "output_type": "stream",
          "name": "stdout",
          "text": [
            "Once upon a did need guitar\n"
          ]
        },
        {
          "output_type": "display_data",
          "data": {
            "text/plain": [
              "<IPython.core.display.Javascript object>"
            ],
            "application/javascript": [
              "window[\"5dab9d5e-9693-11ed-a061-0242ac1c0002\"] = google.colab.output.setActiveOutputArea(window[\"5da9879e-9693-11ed-a061-0242ac1c0002\"]);\n",
              "//# sourceURL=js_527266b8fd"
            ]
          },
          "metadata": {}
        },
        {
          "output_type": "display_data",
          "data": {
            "text/plain": [
              "<IPython.core.display.Javascript object>"
            ],
            "application/javascript": [
              "window[\"5dad8f1a-9693-11ed-a061-0242ac1c0002\"] = google.colab.output.getActiveOutputArea();\n",
              "//# sourceURL=js_b5cbbc8ba5"
            ]
          },
          "metadata": {}
        },
        {
          "output_type": "display_data",
          "data": {
            "text/plain": [
              "<IPython.core.display.Javascript object>"
            ],
            "application/javascript": [
              "window[\"5dade1e0-9693-11ed-a061-0242ac1c0002\"] = document.querySelector(\"#id2-1-1\");\n",
              "//# sourceURL=js_06093c6d29"
            ]
          },
          "metadata": {}
        },
        {
          "output_type": "display_data",
          "data": {
            "text/plain": [
              "<IPython.core.display.Javascript object>"
            ],
            "application/javascript": [
              "window[\"5dae2d30-9693-11ed-a061-0242ac1c0002\"] = google.colab.output.setActiveOutputArea(window[\"5dade1e0-9693-11ed-a061-0242ac1c0002\"]);\n",
              "//# sourceURL=js_7d83011a17"
            ]
          },
          "metadata": {}
        },
        {
          "output_type": "display_data",
          "data": {
            "text/plain": [
              "<IPython.core.display.Javascript object>"
            ],
            "application/javascript": [
              "window[\"5daf131c-9693-11ed-a061-0242ac1c0002\"] = google.colab.output.setActiveOutputArea(window[\"5dad8f1a-9693-11ed-a061-0242ac1c0002\"]);\n",
              "//# sourceURL=js_659d1314e8"
            ]
          },
          "metadata": {}
        },
        {
          "output_type": "display_data",
          "data": {
            "text/plain": [
              "<IPython.core.display.Javascript object>"
            ],
            "application/javascript": [
              "window[\"5db2f536-9693-11ed-a061-0242ac1c0002\"] = google.colab.output.getActiveOutputArea();\n",
              "//# sourceURL=js_0d757f7211"
            ]
          },
          "metadata": {}
        },
        {
          "output_type": "display_data",
          "data": {
            "text/plain": [
              "<IPython.core.display.Javascript object>"
            ],
            "application/javascript": [
              "window[\"5db38424-9693-11ed-a061-0242ac1c0002\"] = document.querySelector(\"#id2-1-2\");\n",
              "//# sourceURL=js_435312d2be"
            ]
          },
          "metadata": {}
        },
        {
          "output_type": "display_data",
          "data": {
            "text/plain": [
              "<IPython.core.display.Javascript object>"
            ],
            "application/javascript": [
              "window[\"5db3f594-9693-11ed-a061-0242ac1c0002\"] = google.colab.output.setActiveOutputArea(window[\"5db38424-9693-11ed-a061-0242ac1c0002\"]);\n",
              "//# sourceURL=js_e431b41779"
            ]
          },
          "metadata": {}
        },
        {
          "output_type": "display_data",
          "data": {
            "text/plain": [
              "<IPython.core.display.Javascript object>"
            ],
            "application/javascript": [
              "window[\"5db612c0-9693-11ed-a061-0242ac1c0002\"] = google.colab.output.setActiveOutputArea(window[\"5db2f536-9693-11ed-a061-0242ac1c0002\"]);\n",
              "//# sourceURL=js_692fc66c19"
            ]
          },
          "metadata": {}
        },
        {
          "output_type": "display_data",
          "data": {
            "text/plain": [
              "<IPython.core.display.Javascript object>"
            ],
            "application/javascript": [
              "window[\"5db99a62-9693-11ed-a061-0242ac1c0002\"] = google.colab.output.getActiveOutputArea();\n",
              "//# sourceURL=js_5264ff7137"
            ]
          },
          "metadata": {}
        },
        {
          "output_type": "display_data",
          "data": {
            "text/plain": [
              "<IPython.core.display.Javascript object>"
            ],
            "application/javascript": [
              "window[\"5dba4c28-9693-11ed-a061-0242ac1c0002\"] = document.querySelector(\"#id2-1-3\");\n",
              "//# sourceURL=js_de6da1f5f3"
            ]
          },
          "metadata": {}
        },
        {
          "output_type": "display_data",
          "data": {
            "text/plain": [
              "<IPython.core.display.Javascript object>"
            ],
            "application/javascript": [
              "window[\"5dbb659a-9693-11ed-a061-0242ac1c0002\"] = google.colab.output.setActiveOutputArea(window[\"5dba4c28-9693-11ed-a061-0242ac1c0002\"]);\n",
              "//# sourceURL=js_3742f7ecd1"
            ]
          },
          "metadata": {}
        },
        {
          "output_type": "display_data",
          "data": {
            "text/plain": [
              "<IPython.core.display.Javascript object>"
            ],
            "application/javascript": [
              "window[\"5dbe7d0c-9693-11ed-a061-0242ac1c0002\"] = google.colab.output.setActiveOutputArea(window[\"5db99a62-9693-11ed-a061-0242ac1c0002\"]);\n",
              "//# sourceURL=js_79c6dd84c9"
            ]
          },
          "metadata": {}
        },
        {
          "output_type": "stream",
          "name": "stdout",
          "text": [
            "1/1 [==============================] - 0s 20ms/step\n"
          ]
        },
        {
          "output_type": "display_data",
          "data": {
            "text/plain": [
              "<IPython.core.display.Javascript object>"
            ],
            "application/javascript": [
              "window[\"5dca017c-9693-11ed-a061-0242ac1c0002\"] = google.colab.output.getActiveOutputArea();\n",
              "//# sourceURL=js_35142c5162"
            ]
          },
          "metadata": {}
        },
        {
          "output_type": "display_data",
          "data": {
            "text/plain": [
              "<IPython.core.display.Javascript object>"
            ],
            "application/javascript": [
              "window[\"5dca5f32-9693-11ed-a061-0242ac1c0002\"] = document.querySelector(\"#id2-0-0\");\n",
              "//# sourceURL=js_2044212c09"
            ]
          },
          "metadata": {}
        },
        {
          "output_type": "display_data",
          "data": {
            "text/plain": [
              "<IPython.core.display.Javascript object>"
            ],
            "application/javascript": [
              "window[\"5dcad03e-9693-11ed-a061-0242ac1c0002\"] = google.colab.output.setActiveOutputArea(window[\"5dca5f32-9693-11ed-a061-0242ac1c0002\"]);\n",
              "//# sourceURL=js_1d687b3eba"
            ]
          },
          "metadata": {}
        },
        {
          "output_type": "display_data",
          "data": {
            "text/plain": [
              "<IPython.core.display.Javascript object>"
            ],
            "application/javascript": [
              "window[\"5dcc694e-9693-11ed-a061-0242ac1c0002\"] = google.colab.output.setActiveOutputArea(window[\"5dca017c-9693-11ed-a061-0242ac1c0002\"]);\n",
              "//# sourceURL=js_dd78842fbc"
            ]
          },
          "metadata": {}
        },
        {
          "output_type": "display_data",
          "data": {
            "text/plain": [
              "<IPython.core.display.Javascript object>"
            ],
            "application/javascript": [
              "window[\"5dcf119e-9693-11ed-a061-0242ac1c0002\"] = google.colab.output.getActiveOutputArea();\n",
              "//# sourceURL=js_3ca9d91e21"
            ]
          },
          "metadata": {}
        },
        {
          "output_type": "display_data",
          "data": {
            "text/plain": [
              "<IPython.core.display.Javascript object>"
            ],
            "application/javascript": [
              "window[\"5dcf73dc-9693-11ed-a061-0242ac1c0002\"] = document.querySelector(\"#id2-0-1\");\n",
              "//# sourceURL=js_7d3dfc5fba"
            ]
          },
          "metadata": {}
        },
        {
          "output_type": "display_data",
          "data": {
            "text/plain": [
              "<IPython.core.display.Javascript object>"
            ],
            "application/javascript": [
              "window[\"5dcfe948-9693-11ed-a061-0242ac1c0002\"] = google.colab.output.setActiveOutputArea(window[\"5dcf73dc-9693-11ed-a061-0242ac1c0002\"]);\n",
              "//# sourceURL=js_eeea022b39"
            ]
          },
          "metadata": {}
        },
        {
          "output_type": "display_data",
          "data": {
            "text/plain": [
              "<IPython.core.display.Javascript object>"
            ],
            "application/javascript": [
              "window[\"5dd14072-9693-11ed-a061-0242ac1c0002\"] = google.colab.output.setActiveOutputArea(window[\"5dcf119e-9693-11ed-a061-0242ac1c0002\"]);\n",
              "//# sourceURL=js_ace9539c05"
            ]
          },
          "metadata": {}
        },
        {
          "output_type": "display_data",
          "data": {
            "text/plain": [
              "<IPython.core.display.Javascript object>"
            ],
            "application/javascript": [
              "window[\"5dd4ec2c-9693-11ed-a061-0242ac1c0002\"] = google.colab.output.getActiveOutputArea();\n",
              "//# sourceURL=js_13e9f26478"
            ]
          },
          "metadata": {}
        },
        {
          "output_type": "display_data",
          "data": {
            "text/plain": [
              "<IPython.core.display.Javascript object>"
            ],
            "application/javascript": [
              "window[\"5dd5519e-9693-11ed-a061-0242ac1c0002\"] = document.querySelector(\"#id2-0-2\");\n",
              "//# sourceURL=js_0dbba36a91"
            ]
          },
          "metadata": {}
        },
        {
          "output_type": "display_data",
          "data": {
            "text/plain": [
              "<IPython.core.display.Javascript object>"
            ],
            "application/javascript": [
              "window[\"5dd5a48c-9693-11ed-a061-0242ac1c0002\"] = google.colab.output.setActiveOutputArea(window[\"5dd5519e-9693-11ed-a061-0242ac1c0002\"]);\n",
              "//# sourceURL=js_0e8600dae0"
            ]
          },
          "metadata": {}
        },
        {
          "output_type": "display_data",
          "data": {
            "text/plain": [
              "<IPython.core.display.Javascript object>"
            ],
            "application/javascript": [
              "window[\"5dd6b200-9693-11ed-a061-0242ac1c0002\"] = google.colab.output.setActiveOutputArea(window[\"5dd4ec2c-9693-11ed-a061-0242ac1c0002\"]);\n",
              "//# sourceURL=js_1a682e4db3"
            ]
          },
          "metadata": {}
        },
        {
          "output_type": "display_data",
          "data": {
            "text/plain": [
              "<IPython.core.display.Javascript object>"
            ],
            "application/javascript": [
              "window[\"5dda3268-9693-11ed-a061-0242ac1c0002\"] = google.colab.output.getActiveOutputArea();\n",
              "//# sourceURL=js_8c5e630e1a"
            ]
          },
          "metadata": {}
        },
        {
          "output_type": "display_data",
          "data": {
            "text/plain": [
              "<IPython.core.display.Javascript object>"
            ],
            "application/javascript": [
              "window[\"5dda8768-9693-11ed-a061-0242ac1c0002\"] = document.querySelector(\"#id2-0-3\");\n",
              "//# sourceURL=js_a91ad182ee"
            ]
          },
          "metadata": {}
        },
        {
          "output_type": "display_data",
          "data": {
            "text/plain": [
              "<IPython.core.display.Javascript object>"
            ],
            "application/javascript": [
              "window[\"5ddadeb6-9693-11ed-a061-0242ac1c0002\"] = google.colab.output.setActiveOutputArea(window[\"5dda8768-9693-11ed-a061-0242ac1c0002\"]);\n",
              "//# sourceURL=js_b35010a7e4"
            ]
          },
          "metadata": {}
        },
        {
          "output_type": "display_data",
          "data": {
            "text/plain": [
              "<IPython.core.display.Javascript object>"
            ],
            "application/javascript": [
              "window[\"5ddc73f2-9693-11ed-a061-0242ac1c0002\"] = google.colab.output.setActiveOutputArea(window[\"5dda3268-9693-11ed-a061-0242ac1c0002\"]);\n",
              "//# sourceURL=js_a9c0cee159"
            ]
          },
          "metadata": {}
        },
        {
          "output_type": "display_data",
          "data": {
            "text/plain": [
              "<IPython.core.display.Javascript object>"
            ],
            "application/javascript": [
              "window[\"5ddea500-9693-11ed-a061-0242ac1c0002\"] = google.colab.output.getActiveOutputArea();\n",
              "//# sourceURL=js_11ad203245"
            ]
          },
          "metadata": {}
        },
        {
          "output_type": "display_data",
          "data": {
            "text/plain": [
              "<IPython.core.display.Javascript object>"
            ],
            "application/javascript": [
              "window[\"5ddf11d4-9693-11ed-a061-0242ac1c0002\"] = document.querySelector(\"#id2-1-0\");\n",
              "//# sourceURL=js_c3415c7bc0"
            ]
          },
          "metadata": {}
        },
        {
          "output_type": "display_data",
          "data": {
            "text/plain": [
              "<IPython.core.display.Javascript object>"
            ],
            "application/javascript": [
              "window[\"5ddf509a-9693-11ed-a061-0242ac1c0002\"] = google.colab.output.setActiveOutputArea(window[\"5ddf11d4-9693-11ed-a061-0242ac1c0002\"]);\n",
              "//# sourceURL=js_d3e1ee1243"
            ]
          },
          "metadata": {}
        },
        {
          "output_type": "display_data",
          "data": {
            "text/plain": [
              "<IPython.core.display.Javascript object>"
            ],
            "application/javascript": [
              "window[\"5de04f2c-9693-11ed-a061-0242ac1c0002\"] = google.colab.output.setActiveOutputArea(window[\"5ddea500-9693-11ed-a061-0242ac1c0002\"]);\n",
              "//# sourceURL=js_c8dfb591c4"
            ]
          },
          "metadata": {}
        },
        {
          "output_type": "display_data",
          "data": {
            "text/plain": [
              "<IPython.core.display.Javascript object>"
            ],
            "application/javascript": [
              "window[\"5de1c244-9693-11ed-a061-0242ac1c0002\"] = google.colab.output.getActiveOutputArea();\n",
              "//# sourceURL=js_34b570b5c8"
            ]
          },
          "metadata": {}
        },
        {
          "output_type": "display_data",
          "data": {
            "text/plain": [
              "<IPython.core.display.Javascript object>"
            ],
            "application/javascript": [
              "window[\"5de1fe9e-9693-11ed-a061-0242ac1c0002\"] = document.querySelector(\"#id2-1-1\");\n",
              "//# sourceURL=js_85ae799774"
            ]
          },
          "metadata": {}
        },
        {
          "output_type": "display_data",
          "data": {
            "text/plain": [
              "<IPython.core.display.Javascript object>"
            ],
            "application/javascript": [
              "window[\"5de25844-9693-11ed-a061-0242ac1c0002\"] = google.colab.output.setActiveOutputArea(window[\"5de1fe9e-9693-11ed-a061-0242ac1c0002\"]);\n",
              "//# sourceURL=js_5708e4e8d5"
            ]
          },
          "metadata": {}
        },
        {
          "output_type": "display_data",
          "data": {
            "text/plain": [
              "<IPython.core.display.Javascript object>"
            ],
            "application/javascript": [
              "window[\"5de370bc-9693-11ed-a061-0242ac1c0002\"] = google.colab.output.setActiveOutputArea(window[\"5de1c244-9693-11ed-a061-0242ac1c0002\"]);\n",
              "//# sourceURL=js_f85a96758a"
            ]
          },
          "metadata": {}
        },
        {
          "output_type": "display_data",
          "data": {
            "text/plain": [
              "<IPython.core.display.Javascript object>"
            ],
            "application/javascript": [
              "window[\"5de50e18-9693-11ed-a061-0242ac1c0002\"] = google.colab.output.getActiveOutputArea();\n",
              "//# sourceURL=js_53d9d13e21"
            ]
          },
          "metadata": {}
        },
        {
          "output_type": "display_data",
          "data": {
            "text/plain": [
              "<IPython.core.display.Javascript object>"
            ],
            "application/javascript": [
              "window[\"5de55116-9693-11ed-a061-0242ac1c0002\"] = document.querySelector(\"#id2-1-2\");\n",
              "//# sourceURL=js_117199f339"
            ]
          },
          "metadata": {}
        },
        {
          "output_type": "display_data",
          "data": {
            "text/plain": [
              "<IPython.core.display.Javascript object>"
            ],
            "application/javascript": [
              "window[\"5de592fc-9693-11ed-a061-0242ac1c0002\"] = google.colab.output.setActiveOutputArea(window[\"5de55116-9693-11ed-a061-0242ac1c0002\"]);\n",
              "//# sourceURL=js_18933d8ea9"
            ]
          },
          "metadata": {}
        },
        {
          "output_type": "display_data",
          "data": {
            "text/plain": [
              "<IPython.core.display.Javascript object>"
            ],
            "application/javascript": [
              "window[\"5de69f76-9693-11ed-a061-0242ac1c0002\"] = google.colab.output.setActiveOutputArea(window[\"5de50e18-9693-11ed-a061-0242ac1c0002\"]);\n",
              "//# sourceURL=js_b22d0e8b81"
            ]
          },
          "metadata": {}
        },
        {
          "output_type": "display_data",
          "data": {
            "text/plain": [
              "<IPython.core.display.Javascript object>"
            ],
            "application/javascript": [
              "window[\"5de88584-9693-11ed-a061-0242ac1c0002\"] = google.colab.output.getActiveOutputArea();\n",
              "//# sourceURL=js_13b236ec8e"
            ]
          },
          "metadata": {}
        },
        {
          "output_type": "display_data",
          "data": {
            "text/plain": [
              "<IPython.core.display.Javascript object>"
            ],
            "application/javascript": [
              "window[\"5de8cfe4-9693-11ed-a061-0242ac1c0002\"] = document.querySelector(\"#id2-1-3\");\n",
              "//# sourceURL=js_ba07473b97"
            ]
          },
          "metadata": {}
        },
        {
          "output_type": "display_data",
          "data": {
            "text/plain": [
              "<IPython.core.display.Javascript object>"
            ],
            "application/javascript": [
              "window[\"5de911ac-9693-11ed-a061-0242ac1c0002\"] = google.colab.output.setActiveOutputArea(window[\"5de8cfe4-9693-11ed-a061-0242ac1c0002\"]);\n",
              "//# sourceURL=js_df569cb2cf"
            ]
          },
          "metadata": {}
        },
        {
          "output_type": "display_data",
          "data": {
            "text/plain": [
              "<IPython.core.display.Javascript object>"
            ],
            "application/javascript": [
              "window[\"5dea1b1a-9693-11ed-a061-0242ac1c0002\"] = google.colab.output.setActiveOutputArea(window[\"5de88584-9693-11ed-a061-0242ac1c0002\"]);\n",
              "//# sourceURL=js_24738cdb44"
            ]
          },
          "metadata": {}
        },
        {
          "output_type": "display_data",
          "data": {
            "text/plain": [
              "<IPython.core.display.Javascript object>"
            ],
            "application/javascript": [
              "window[\"5dedb130-9693-11ed-a061-0242ac1c0002\"] = google.colab.output.getActiveOutputArea();\n",
              "//# sourceURL=js_3f3dfe6946"
            ]
          },
          "metadata": {}
        },
        {
          "output_type": "display_data",
          "data": {
            "text/plain": [
              "<IPython.core.display.Javascript object>"
            ],
            "application/javascript": [
              "window[\"5dedff00-9693-11ed-a061-0242ac1c0002\"] = document.querySelector(\"#id2-0-0\");\n",
              "//# sourceURL=js_6b7ddf3e71"
            ]
          },
          "metadata": {}
        },
        {
          "output_type": "display_data",
          "data": {
            "text/plain": [
              "<IPython.core.display.Javascript object>"
            ],
            "application/javascript": [
              "window[\"5dee3b6e-9693-11ed-a061-0242ac1c0002\"] = google.colab.output.setActiveOutputArea(window[\"5dedff00-9693-11ed-a061-0242ac1c0002\"]);\n",
              "//# sourceURL=js_7f6a38cd61"
            ]
          },
          "metadata": {}
        },
        {
          "output_type": "display_data",
          "data": {
            "text/plain": [
              "<IPython.core.display.Javascript object>"
            ],
            "application/javascript": [
              "window[\"5def459a-9693-11ed-a061-0242ac1c0002\"] = google.colab.output.setActiveOutputArea(window[\"5dedb130-9693-11ed-a061-0242ac1c0002\"]);\n",
              "//# sourceURL=js_b0eeaf65bf"
            ]
          },
          "metadata": {}
        },
        {
          "output_type": "display_data",
          "data": {
            "text/plain": [
              "<IPython.core.display.Javascript object>"
            ],
            "application/javascript": [
              "window[\"5df0fb38-9693-11ed-a061-0242ac1c0002\"] = google.colab.output.getActiveOutputArea();\n",
              "//# sourceURL=js_8234c18a19"
            ]
          },
          "metadata": {}
        },
        {
          "output_type": "display_data",
          "data": {
            "text/plain": [
              "<IPython.core.display.Javascript object>"
            ],
            "application/javascript": [
              "window[\"5df13dfa-9693-11ed-a061-0242ac1c0002\"] = document.querySelector(\"#id2-0-1\");\n",
              "//# sourceURL=js_8ef07bf4c7"
            ]
          },
          "metadata": {}
        },
        {
          "output_type": "display_data",
          "data": {
            "text/plain": [
              "<IPython.core.display.Javascript object>"
            ],
            "application/javascript": [
              "window[\"5df185c6-9693-11ed-a061-0242ac1c0002\"] = google.colab.output.setActiveOutputArea(window[\"5df13dfa-9693-11ed-a061-0242ac1c0002\"]);\n",
              "//# sourceURL=js_b9097d277e"
            ]
          },
          "metadata": {}
        },
        {
          "output_type": "display_data",
          "data": {
            "text/plain": [
              "<IPython.core.display.Javascript object>"
            ],
            "application/javascript": [
              "window[\"5df2744a-9693-11ed-a061-0242ac1c0002\"] = google.colab.output.setActiveOutputArea(window[\"5df0fb38-9693-11ed-a061-0242ac1c0002\"]);\n",
              "//# sourceURL=js_2c77d7670d"
            ]
          },
          "metadata": {}
        },
        {
          "output_type": "display_data",
          "data": {
            "text/plain": [
              "<IPython.core.display.Javascript object>"
            ],
            "application/javascript": [
              "window[\"5df40742-9693-11ed-a061-0242ac1c0002\"] = google.colab.output.getActiveOutputArea();\n",
              "//# sourceURL=js_65010058e6"
            ]
          },
          "metadata": {}
        },
        {
          "output_type": "display_data",
          "data": {
            "text/plain": [
              "<IPython.core.display.Javascript object>"
            ],
            "application/javascript": [
              "window[\"5df44e82-9693-11ed-a061-0242ac1c0002\"] = document.querySelector(\"#id2-0-2\");\n",
              "//# sourceURL=js_b9d56f0368"
            ]
          },
          "metadata": {}
        },
        {
          "output_type": "display_data",
          "data": {
            "text/plain": [
              "<IPython.core.display.Javascript object>"
            ],
            "application/javascript": [
              "window[\"5df4a1ac-9693-11ed-a061-0242ac1c0002\"] = google.colab.output.setActiveOutputArea(window[\"5df44e82-9693-11ed-a061-0242ac1c0002\"]);\n",
              "//# sourceURL=js_865a5806e0"
            ]
          },
          "metadata": {}
        },
        {
          "output_type": "display_data",
          "data": {
            "text/plain": [
              "<IPython.core.display.Javascript object>"
            ],
            "application/javascript": [
              "window[\"5df5ac82-9693-11ed-a061-0242ac1c0002\"] = google.colab.output.setActiveOutputArea(window[\"5df40742-9693-11ed-a061-0242ac1c0002\"]);\n",
              "//# sourceURL=js_dad33aba6c"
            ]
          },
          "metadata": {}
        },
        {
          "output_type": "display_data",
          "data": {
            "text/plain": [
              "<IPython.core.display.Javascript object>"
            ],
            "application/javascript": [
              "window[\"5df743f8-9693-11ed-a061-0242ac1c0002\"] = google.colab.output.getActiveOutputArea();\n",
              "//# sourceURL=js_49c798218a"
            ]
          },
          "metadata": {}
        },
        {
          "output_type": "display_data",
          "data": {
            "text/plain": [
              "<IPython.core.display.Javascript object>"
            ],
            "application/javascript": [
              "window[\"5df78584-9693-11ed-a061-0242ac1c0002\"] = document.querySelector(\"#id2-0-3\");\n",
              "//# sourceURL=js_a870656872"
            ]
          },
          "metadata": {}
        },
        {
          "output_type": "display_data",
          "data": {
            "text/plain": [
              "<IPython.core.display.Javascript object>"
            ],
            "application/javascript": [
              "window[\"5df7cdc8-9693-11ed-a061-0242ac1c0002\"] = google.colab.output.setActiveOutputArea(window[\"5df78584-9693-11ed-a061-0242ac1c0002\"]);\n",
              "//# sourceURL=js_40c8aa16df"
            ]
          },
          "metadata": {}
        },
        {
          "output_type": "display_data",
          "data": {
            "text/plain": [
              "<IPython.core.display.Javascript object>"
            ],
            "application/javascript": [
              "window[\"5df8b7ec-9693-11ed-a061-0242ac1c0002\"] = google.colab.output.setActiveOutputArea(window[\"5df743f8-9693-11ed-a061-0242ac1c0002\"]);\n",
              "//# sourceURL=js_9ec7be6697"
            ]
          },
          "metadata": {}
        },
        {
          "output_type": "display_data",
          "data": {
            "text/plain": [
              "<IPython.core.display.Javascript object>"
            ],
            "application/javascript": [
              "window[\"5dfb123a-9693-11ed-a061-0242ac1c0002\"] = google.colab.output.getActiveOutputArea();\n",
              "//# sourceURL=js_ac274e08a6"
            ]
          },
          "metadata": {}
        },
        {
          "output_type": "display_data",
          "data": {
            "text/plain": [
              "<IPython.core.display.Javascript object>"
            ],
            "application/javascript": [
              "window[\"5dfb5c36-9693-11ed-a061-0242ac1c0002\"] = document.querySelector(\"#id2-1-0\");\n",
              "//# sourceURL=js_93079c5ead"
            ]
          },
          "metadata": {}
        },
        {
          "output_type": "display_data",
          "data": {
            "text/plain": [
              "<IPython.core.display.Javascript object>"
            ],
            "application/javascript": [
              "window[\"5dfb9be2-9693-11ed-a061-0242ac1c0002\"] = google.colab.output.setActiveOutputArea(window[\"5dfb5c36-9693-11ed-a061-0242ac1c0002\"]);\n",
              "//# sourceURL=js_3f6852c618"
            ]
          },
          "metadata": {}
        },
        {
          "output_type": "display_data",
          "data": {
            "text/plain": [
              "<IPython.core.display.Javascript object>"
            ],
            "application/javascript": [
              "window[\"5dfc8afc-9693-11ed-a061-0242ac1c0002\"] = google.colab.output.setActiveOutputArea(window[\"5dfb123a-9693-11ed-a061-0242ac1c0002\"]);\n",
              "//# sourceURL=js_a139acdf1c"
            ]
          },
          "metadata": {}
        },
        {
          "output_type": "display_data",
          "data": {
            "text/plain": [
              "<IPython.core.display.Javascript object>"
            ],
            "application/javascript": [
              "window[\"5dfe23ee-9693-11ed-a061-0242ac1c0002\"] = google.colab.output.getActiveOutputArea();\n",
              "//# sourceURL=js_1f499328de"
            ]
          },
          "metadata": {}
        },
        {
          "output_type": "display_data",
          "data": {
            "text/plain": [
              "<IPython.core.display.Javascript object>"
            ],
            "application/javascript": [
              "window[\"5dfe6d90-9693-11ed-a061-0242ac1c0002\"] = document.querySelector(\"#id2-1-1\");\n",
              "//# sourceURL=js_464b8febb7"
            ]
          },
          "metadata": {}
        },
        {
          "output_type": "display_data",
          "data": {
            "text/plain": [
              "<IPython.core.display.Javascript object>"
            ],
            "application/javascript": [
              "window[\"5dfeb110-9693-11ed-a061-0242ac1c0002\"] = google.colab.output.setActiveOutputArea(window[\"5dfe6d90-9693-11ed-a061-0242ac1c0002\"]);\n",
              "//# sourceURL=js_568fccc4e1"
            ]
          },
          "metadata": {}
        },
        {
          "output_type": "display_data",
          "data": {
            "text/plain": [
              "Button(description=\"she'd\", style=ButtonStyle())"
            ],
            "application/vnd.jupyter.widget-view+json": {
              "version_major": 2,
              "version_minor": 0,
              "model_id": "065d38f606724af2b22699c563a0b460"
            }
          },
          "metadata": {}
        },
        {
          "output_type": "display_data",
          "data": {
            "text/plain": [
              "<IPython.core.display.Javascript object>"
            ],
            "application/javascript": [
              "window[\"5dffd3ba-9693-11ed-a061-0242ac1c0002\"] = google.colab.output.setActiveOutputArea(window[\"5dfe23ee-9693-11ed-a061-0242ac1c0002\"]);\n",
              "//# sourceURL=js_da39d2145b"
            ]
          },
          "metadata": {}
        },
        {
          "output_type": "display_data",
          "data": {
            "text/plain": [
              "<IPython.core.display.Javascript object>"
            ],
            "application/javascript": [
              "window[\"5e0167b6-9693-11ed-a061-0242ac1c0002\"] = google.colab.output.getActiveOutputArea();\n",
              "//# sourceURL=js_6ed53f08a9"
            ]
          },
          "metadata": {}
        },
        {
          "output_type": "display_data",
          "data": {
            "text/plain": [
              "<IPython.core.display.Javascript object>"
            ],
            "application/javascript": [
              "window[\"5e01b310-9693-11ed-a061-0242ac1c0002\"] = document.querySelector(\"#id2-1-2\");\n",
              "//# sourceURL=js_4be890d4c6"
            ]
          },
          "metadata": {}
        },
        {
          "output_type": "display_data",
          "data": {
            "text/plain": [
              "<IPython.core.display.Javascript object>"
            ],
            "application/javascript": [
              "window[\"5e01eb8c-9693-11ed-a061-0242ac1c0002\"] = google.colab.output.setActiveOutputArea(window[\"5e01b310-9693-11ed-a061-0242ac1c0002\"]);\n",
              "//# sourceURL=js_7a979f3bfa"
            ]
          },
          "metadata": {}
        },
        {
          "output_type": "display_data",
          "data": {
            "text/plain": [
              "Button(description='wish', style=ButtonStyle())"
            ],
            "application/vnd.jupyter.widget-view+json": {
              "version_major": 2,
              "version_minor": 0,
              "model_id": "1ebaab9664fb4479bd6e5d2c7ffab4d4"
            }
          },
          "metadata": {}
        },
        {
          "output_type": "display_data",
          "data": {
            "text/plain": [
              "<IPython.core.display.Javascript object>"
            ],
            "application/javascript": [
              "window[\"5e035832-9693-11ed-a061-0242ac1c0002\"] = google.colab.output.setActiveOutputArea(window[\"5e0167b6-9693-11ed-a061-0242ac1c0002\"]);\n",
              "//# sourceURL=js_5361355ca3"
            ]
          },
          "metadata": {}
        },
        {
          "output_type": "display_data",
          "data": {
            "text/plain": [
              "<IPython.core.display.Javascript object>"
            ],
            "application/javascript": [
              "window[\"5e04fe3a-9693-11ed-a061-0242ac1c0002\"] = google.colab.output.getActiveOutputArea();\n",
              "//# sourceURL=js_33eac25c90"
            ]
          },
          "metadata": {}
        },
        {
          "output_type": "display_data",
          "data": {
            "text/plain": [
              "<IPython.core.display.Javascript object>"
            ],
            "application/javascript": [
              "window[\"5e054782-9693-11ed-a061-0242ac1c0002\"] = document.querySelector(\"#id2-1-3\");\n",
              "//# sourceURL=js_132b202373"
            ]
          },
          "metadata": {}
        },
        {
          "output_type": "display_data",
          "data": {
            "text/plain": [
              "<IPython.core.display.Javascript object>"
            ],
            "application/javascript": [
              "window[\"5e058a08-9693-11ed-a061-0242ac1c0002\"] = google.colab.output.setActiveOutputArea(window[\"5e054782-9693-11ed-a061-0242ac1c0002\"]);\n",
              "//# sourceURL=js_2dc1b95606"
            ]
          },
          "metadata": {}
        },
        {
          "output_type": "display_data",
          "data": {
            "text/plain": [
              "Button(description='flawless', style=ButtonStyle())"
            ],
            "application/vnd.jupyter.widget-view+json": {
              "version_major": 2,
              "version_minor": 0,
              "model_id": "80d4c7a5040544e792155a878224855d"
            }
          },
          "metadata": {}
        },
        {
          "output_type": "display_data",
          "data": {
            "text/plain": [
              "<IPython.core.display.Javascript object>"
            ],
            "application/javascript": [
              "window[\"5e06b46e-9693-11ed-a061-0242ac1c0002\"] = google.colab.output.setActiveOutputArea(window[\"5e04fe3a-9693-11ed-a061-0242ac1c0002\"]);\n",
              "//# sourceURL=js_c79be48a86"
            ]
          },
          "metadata": {}
        },
        {
          "output_type": "display_data",
          "data": {
            "text/plain": [
              "<IPython.core.display.Javascript object>"
            ],
            "application/javascript": [
              "window[\"608ede1e-9693-11ed-a061-0242ac1c0002\"] = google.colab.output.getActiveOutputArea();\n",
              "//# sourceURL=js_e59609e1bb"
            ]
          },
          "metadata": {}
        },
        {
          "output_type": "display_data",
          "data": {
            "text/plain": [
              "<IPython.core.display.Javascript object>"
            ],
            "application/javascript": [
              "window[\"608f17e4-9693-11ed-a061-0242ac1c0002\"] = document.querySelector(\"#id2-0-0\");\n",
              "//# sourceURL=js_0edd8588da"
            ]
          },
          "metadata": {}
        },
        {
          "output_type": "display_data",
          "data": {
            "text/plain": [
              "<IPython.core.display.Javascript object>"
            ],
            "application/javascript": [
              "window[\"608f4e4e-9693-11ed-a061-0242ac1c0002\"] = google.colab.output.setActiveOutputArea(window[\"608f17e4-9693-11ed-a061-0242ac1c0002\"]);\n",
              "//# sourceURL=js_1d9eaf10ac"
            ]
          },
          "metadata": {}
        },
        {
          "output_type": "display_data",
          "data": {
            "text/plain": [
              "<IPython.core.display.Javascript object>"
            ],
            "application/javascript": [
              "window[\"6090556e-9693-11ed-a061-0242ac1c0002\"] = google.colab.output.setActiveOutputArea(window[\"608ede1e-9693-11ed-a061-0242ac1c0002\"]);\n",
              "//# sourceURL=js_9034a38b24"
            ]
          },
          "metadata": {}
        },
        {
          "output_type": "display_data",
          "data": {
            "text/plain": [
              "<IPython.core.display.Javascript object>"
            ],
            "application/javascript": [
              "window[\"6091d8e4-9693-11ed-a061-0242ac1c0002\"] = google.colab.output.getActiveOutputArea();\n",
              "//# sourceURL=js_57b73a47c2"
            ]
          },
          "metadata": {}
        },
        {
          "output_type": "display_data",
          "data": {
            "text/plain": [
              "<IPython.core.display.Javascript object>"
            ],
            "application/javascript": [
              "window[\"60922236-9693-11ed-a061-0242ac1c0002\"] = document.querySelector(\"#id2-0-1\");\n",
              "//# sourceURL=js_4f6d3a7ad1"
            ]
          },
          "metadata": {}
        },
        {
          "output_type": "display_data",
          "data": {
            "text/plain": [
              "<IPython.core.display.Javascript object>"
            ],
            "application/javascript": [
              "window[\"60926aac-9693-11ed-a061-0242ac1c0002\"] = google.colab.output.setActiveOutputArea(window[\"60922236-9693-11ed-a061-0242ac1c0002\"]);\n",
              "//# sourceURL=js_618b52d738"
            ]
          },
          "metadata": {}
        },
        {
          "output_type": "display_data",
          "data": {
            "text/plain": [
              "<IPython.core.display.Javascript object>"
            ],
            "application/javascript": [
              "window[\"6093580e-9693-11ed-a061-0242ac1c0002\"] = google.colab.output.setActiveOutputArea(window[\"6091d8e4-9693-11ed-a061-0242ac1c0002\"]);\n",
              "//# sourceURL=js_a5cd0f1bb1"
            ]
          },
          "metadata": {}
        },
        {
          "output_type": "display_data",
          "data": {
            "text/plain": [
              "<IPython.core.display.Javascript object>"
            ],
            "application/javascript": [
              "window[\"6098e436-9693-11ed-a061-0242ac1c0002\"] = google.colab.output.getActiveOutputArea();\n",
              "//# sourceURL=js_428fb0a2ab"
            ]
          },
          "metadata": {}
        },
        {
          "output_type": "display_data",
          "data": {
            "text/plain": [
              "<IPython.core.display.Javascript object>"
            ],
            "application/javascript": [
              "window[\"6099471e-9693-11ed-a061-0242ac1c0002\"] = document.querySelector(\"#id2-0-2\");\n",
              "//# sourceURL=js_77889f7ea1"
            ]
          },
          "metadata": {}
        },
        {
          "output_type": "display_data",
          "data": {
            "text/plain": [
              "<IPython.core.display.Javascript object>"
            ],
            "application/javascript": [
              "window[\"6099a9de-9693-11ed-a061-0242ac1c0002\"] = google.colab.output.setActiveOutputArea(window[\"6099471e-9693-11ed-a061-0242ac1c0002\"]);\n",
              "//# sourceURL=js_ff645ea9b9"
            ]
          },
          "metadata": {}
        },
        {
          "output_type": "display_data",
          "data": {
            "text/plain": [
              "<IPython.core.display.Javascript object>"
            ],
            "application/javascript": [
              "window[\"609b8d26-9693-11ed-a061-0242ac1c0002\"] = google.colab.output.setActiveOutputArea(window[\"6098e436-9693-11ed-a061-0242ac1c0002\"]);\n",
              "//# sourceURL=js_b774d91ba9"
            ]
          },
          "metadata": {}
        },
        {
          "output_type": "display_data",
          "data": {
            "text/plain": [
              "<IPython.core.display.Javascript object>"
            ],
            "application/javascript": [
              "window[\"609e55ce-9693-11ed-a061-0242ac1c0002\"] = google.colab.output.getActiveOutputArea();\n",
              "//# sourceURL=js_7be514bf02"
            ]
          },
          "metadata": {}
        },
        {
          "output_type": "display_data",
          "data": {
            "text/plain": [
              "<IPython.core.display.Javascript object>"
            ],
            "application/javascript": [
              "window[\"609ebe38-9693-11ed-a061-0242ac1c0002\"] = document.querySelector(\"#id2-0-3\");\n",
              "//# sourceURL=js_d09b4800af"
            ]
          },
          "metadata": {}
        },
        {
          "output_type": "display_data",
          "data": {
            "text/plain": [
              "<IPython.core.display.Javascript object>"
            ],
            "application/javascript": [
              "window[\"609fbba8-9693-11ed-a061-0242ac1c0002\"] = google.colab.output.setActiveOutputArea(window[\"609ebe38-9693-11ed-a061-0242ac1c0002\"]);\n",
              "//# sourceURL=js_7e36d8dc4f"
            ]
          },
          "metadata": {}
        },
        {
          "output_type": "display_data",
          "data": {
            "text/plain": [
              "<IPython.core.display.Javascript object>"
            ],
            "application/javascript": [
              "window[\"60a1648a-9693-11ed-a061-0242ac1c0002\"] = google.colab.output.setActiveOutputArea(window[\"609e55ce-9693-11ed-a061-0242ac1c0002\"]);\n",
              "//# sourceURL=js_31855b5e9f"
            ]
          },
          "metadata": {}
        },
        {
          "output_type": "display_data",
          "data": {
            "text/plain": [
              "<IPython.core.display.Javascript object>"
            ],
            "application/javascript": [
              "window[\"60a3e624-9693-11ed-a061-0242ac1c0002\"] = google.colab.output.getActiveOutputArea();\n",
              "//# sourceURL=js_021a3a15ca"
            ]
          },
          "metadata": {}
        },
        {
          "output_type": "display_data",
          "data": {
            "text/plain": [
              "<IPython.core.display.Javascript object>"
            ],
            "application/javascript": [
              "window[\"60a4594c-9693-11ed-a061-0242ac1c0002\"] = document.querySelector(\"#id2-1-0\");\n",
              "//# sourceURL=js_b56040a52b"
            ]
          },
          "metadata": {}
        },
        {
          "output_type": "display_data",
          "data": {
            "text/plain": [
              "<IPython.core.display.Javascript object>"
            ],
            "application/javascript": [
              "window[\"60a4a10e-9693-11ed-a061-0242ac1c0002\"] = google.colab.output.setActiveOutputArea(window[\"60a4594c-9693-11ed-a061-0242ac1c0002\"]);\n",
              "//# sourceURL=js_f0ed53a16a"
            ]
          },
          "metadata": {}
        },
        {
          "output_type": "stream",
          "name": "stdout",
          "text": [
            "Once upon a did need guitar she'd\n"
          ]
        },
        {
          "output_type": "display_data",
          "data": {
            "text/plain": [
              "<IPython.core.display.Javascript object>"
            ],
            "application/javascript": [
              "window[\"60a60e18-9693-11ed-a061-0242ac1c0002\"] = google.colab.output.setActiveOutputArea(window[\"60a3e624-9693-11ed-a061-0242ac1c0002\"]);\n",
              "//# sourceURL=js_97159e1796"
            ]
          },
          "metadata": {}
        },
        {
          "output_type": "display_data",
          "data": {
            "text/plain": [
              "<IPython.core.display.Javascript object>"
            ],
            "application/javascript": [
              "window[\"60a7c5e6-9693-11ed-a061-0242ac1c0002\"] = google.colab.output.getActiveOutputArea();\n",
              "//# sourceURL=js_5caeee0906"
            ]
          },
          "metadata": {}
        },
        {
          "output_type": "display_data",
          "data": {
            "text/plain": [
              "<IPython.core.display.Javascript object>"
            ],
            "application/javascript": [
              "window[\"60a80f9c-9693-11ed-a061-0242ac1c0002\"] = document.querySelector(\"#id2-1-1\");\n",
              "//# sourceURL=js_510d46ad9d"
            ]
          },
          "metadata": {}
        },
        {
          "output_type": "display_data",
          "data": {
            "text/plain": [
              "<IPython.core.display.Javascript object>"
            ],
            "application/javascript": [
              "window[\"60a85d26-9693-11ed-a061-0242ac1c0002\"] = google.colab.output.setActiveOutputArea(window[\"60a80f9c-9693-11ed-a061-0242ac1c0002\"]);\n",
              "//# sourceURL=js_9d8d59fa23"
            ]
          },
          "metadata": {}
        },
        {
          "output_type": "display_data",
          "data": {
            "text/plain": [
              "<IPython.core.display.Javascript object>"
            ],
            "application/javascript": [
              "window[\"60a956d6-9693-11ed-a061-0242ac1c0002\"] = google.colab.output.setActiveOutputArea(window[\"60a7c5e6-9693-11ed-a061-0242ac1c0002\"]);\n",
              "//# sourceURL=js_41fac9d3a2"
            ]
          },
          "metadata": {}
        },
        {
          "output_type": "display_data",
          "data": {
            "text/plain": [
              "<IPython.core.display.Javascript object>"
            ],
            "application/javascript": [
              "window[\"60ad9926-9693-11ed-a061-0242ac1c0002\"] = google.colab.output.getActiveOutputArea();\n",
              "//# sourceURL=js_c029397b84"
            ]
          },
          "metadata": {}
        },
        {
          "output_type": "display_data",
          "data": {
            "text/plain": [
              "<IPython.core.display.Javascript object>"
            ],
            "application/javascript": [
              "window[\"60ade070-9693-11ed-a061-0242ac1c0002\"] = document.querySelector(\"#id2-1-2\");\n",
              "//# sourceURL=js_098dedce43"
            ]
          },
          "metadata": {}
        },
        {
          "output_type": "display_data",
          "data": {
            "text/plain": [
              "<IPython.core.display.Javascript object>"
            ],
            "application/javascript": [
              "window[\"60ae2580-9693-11ed-a061-0242ac1c0002\"] = google.colab.output.setActiveOutputArea(window[\"60ade070-9693-11ed-a061-0242ac1c0002\"]);\n",
              "//# sourceURL=js_14bde11e31"
            ]
          },
          "metadata": {}
        },
        {
          "output_type": "display_data",
          "data": {
            "text/plain": [
              "<IPython.core.display.Javascript object>"
            ],
            "application/javascript": [
              "window[\"60af13b4-9693-11ed-a061-0242ac1c0002\"] = google.colab.output.setActiveOutputArea(window[\"60ad9926-9693-11ed-a061-0242ac1c0002\"]);\n",
              "//# sourceURL=js_3607c25a2e"
            ]
          },
          "metadata": {}
        },
        {
          "output_type": "display_data",
          "data": {
            "text/plain": [
              "<IPython.core.display.Javascript object>"
            ],
            "application/javascript": [
              "window[\"60b2b672-9693-11ed-a061-0242ac1c0002\"] = google.colab.output.getActiveOutputArea();\n",
              "//# sourceURL=js_e96ed59664"
            ]
          },
          "metadata": {}
        },
        {
          "output_type": "display_data",
          "data": {
            "text/plain": [
              "<IPython.core.display.Javascript object>"
            ],
            "application/javascript": [
              "window[\"60b31068-9693-11ed-a061-0242ac1c0002\"] = document.querySelector(\"#id2-1-3\");\n",
              "//# sourceURL=js_0fc4e775c0"
            ]
          },
          "metadata": {}
        },
        {
          "output_type": "display_data",
          "data": {
            "text/plain": [
              "<IPython.core.display.Javascript object>"
            ],
            "application/javascript": [
              "window[\"60b357a8-9693-11ed-a061-0242ac1c0002\"] = google.colab.output.setActiveOutputArea(window[\"60b31068-9693-11ed-a061-0242ac1c0002\"]);\n",
              "//# sourceURL=js_493c04755f"
            ]
          },
          "metadata": {}
        },
        {
          "output_type": "display_data",
          "data": {
            "text/plain": [
              "<IPython.core.display.Javascript object>"
            ],
            "application/javascript": [
              "window[\"60b4216a-9693-11ed-a061-0242ac1c0002\"] = google.colab.output.setActiveOutputArea(window[\"60b2b672-9693-11ed-a061-0242ac1c0002\"]);\n",
              "//# sourceURL=js_8ca696f736"
            ]
          },
          "metadata": {}
        },
        {
          "output_type": "stream",
          "name": "stdout",
          "text": [
            "1/1 [==============================] - 0s 16ms/step\n"
          ]
        },
        {
          "output_type": "display_data",
          "data": {
            "text/plain": [
              "<IPython.core.display.Javascript object>"
            ],
            "application/javascript": [
              "window[\"60bed114-9693-11ed-a061-0242ac1c0002\"] = google.colab.output.getActiveOutputArea();\n",
              "//# sourceURL=js_0045cdf382"
            ]
          },
          "metadata": {}
        },
        {
          "output_type": "display_data",
          "data": {
            "text/plain": [
              "<IPython.core.display.Javascript object>"
            ],
            "application/javascript": [
              "window[\"60bf13fe-9693-11ed-a061-0242ac1c0002\"] = document.querySelector(\"#id2-0-0\");\n",
              "//# sourceURL=js_806fb46f77"
            ]
          },
          "metadata": {}
        },
        {
          "output_type": "display_data",
          "data": {
            "text/plain": [
              "<IPython.core.display.Javascript object>"
            ],
            "application/javascript": [
              "window[\"60bfb232-9693-11ed-a061-0242ac1c0002\"] = google.colab.output.setActiveOutputArea(window[\"60bf13fe-9693-11ed-a061-0242ac1c0002\"]);\n",
              "//# sourceURL=js_539184920d"
            ]
          },
          "metadata": {}
        },
        {
          "output_type": "display_data",
          "data": {
            "text/plain": [
              "<IPython.core.display.Javascript object>"
            ],
            "application/javascript": [
              "window[\"60c0bd4e-9693-11ed-a061-0242ac1c0002\"] = google.colab.output.setActiveOutputArea(window[\"60bed114-9693-11ed-a061-0242ac1c0002\"]);\n",
              "//# sourceURL=js_1dfad68a49"
            ]
          },
          "metadata": {}
        },
        {
          "output_type": "display_data",
          "data": {
            "text/plain": [
              "<IPython.core.display.Javascript object>"
            ],
            "application/javascript": [
              "window[\"60c24920-9693-11ed-a061-0242ac1c0002\"] = google.colab.output.getActiveOutputArea();\n",
              "//# sourceURL=js_0db854fb4b"
            ]
          },
          "metadata": {}
        },
        {
          "output_type": "display_data",
          "data": {
            "text/plain": [
              "<IPython.core.display.Javascript object>"
            ],
            "application/javascript": [
              "window[\"60c28642-9693-11ed-a061-0242ac1c0002\"] = document.querySelector(\"#id2-0-1\");\n",
              "//# sourceURL=js_2e279e07b9"
            ]
          },
          "metadata": {}
        },
        {
          "output_type": "display_data",
          "data": {
            "text/plain": [
              "<IPython.core.display.Javascript object>"
            ],
            "application/javascript": [
              "window[\"60c2c260-9693-11ed-a061-0242ac1c0002\"] = google.colab.output.setActiveOutputArea(window[\"60c28642-9693-11ed-a061-0242ac1c0002\"]);\n",
              "//# sourceURL=js_71436ef073"
            ]
          },
          "metadata": {}
        },
        {
          "output_type": "display_data",
          "data": {
            "text/plain": [
              "<IPython.core.display.Javascript object>"
            ],
            "application/javascript": [
              "window[\"60c3c5de-9693-11ed-a061-0242ac1c0002\"] = google.colab.output.setActiveOutputArea(window[\"60c24920-9693-11ed-a061-0242ac1c0002\"]);\n",
              "//# sourceURL=js_e5171c3489"
            ]
          },
          "metadata": {}
        },
        {
          "output_type": "display_data",
          "data": {
            "text/plain": [
              "<IPython.core.display.Javascript object>"
            ],
            "application/javascript": [
              "window[\"60c5700a-9693-11ed-a061-0242ac1c0002\"] = google.colab.output.getActiveOutputArea();\n",
              "//# sourceURL=js_b7d80d1511"
            ]
          },
          "metadata": {}
        },
        {
          "output_type": "display_data",
          "data": {
            "text/plain": [
              "<IPython.core.display.Javascript object>"
            ],
            "application/javascript": [
              "window[\"60c5af34-9693-11ed-a061-0242ac1c0002\"] = document.querySelector(\"#id2-0-2\");\n",
              "//# sourceURL=js_6a9115d1e9"
            ]
          },
          "metadata": {}
        },
        {
          "output_type": "display_data",
          "data": {
            "text/plain": [
              "<IPython.core.display.Javascript object>"
            ],
            "application/javascript": [
              "window[\"60c62784-9693-11ed-a061-0242ac1c0002\"] = google.colab.output.setActiveOutputArea(window[\"60c5af34-9693-11ed-a061-0242ac1c0002\"]);\n",
              "//# sourceURL=js_4b612e6204"
            ]
          },
          "metadata": {}
        },
        {
          "output_type": "display_data",
          "data": {
            "text/plain": [
              "<IPython.core.display.Javascript object>"
            ],
            "application/javascript": [
              "window[\"60c72d00-9693-11ed-a061-0242ac1c0002\"] = google.colab.output.setActiveOutputArea(window[\"60c5700a-9693-11ed-a061-0242ac1c0002\"]);\n",
              "//# sourceURL=js_46dd82c0a6"
            ]
          },
          "metadata": {}
        },
        {
          "output_type": "display_data",
          "data": {
            "text/plain": [
              "<IPython.core.display.Javascript object>"
            ],
            "application/javascript": [
              "window[\"60c8c160-9693-11ed-a061-0242ac1c0002\"] = google.colab.output.getActiveOutputArea();\n",
              "//# sourceURL=js_9e7f91c4eb"
            ]
          },
          "metadata": {}
        },
        {
          "output_type": "display_data",
          "data": {
            "text/plain": [
              "<IPython.core.display.Javascript object>"
            ],
            "application/javascript": [
              "window[\"60c94644-9693-11ed-a061-0242ac1c0002\"] = document.querySelector(\"#id2-0-3\");\n",
              "//# sourceURL=js_4f5f7a594e"
            ]
          },
          "metadata": {}
        },
        {
          "output_type": "display_data",
          "data": {
            "text/plain": [
              "<IPython.core.display.Javascript object>"
            ],
            "application/javascript": [
              "window[\"60c98a50-9693-11ed-a061-0242ac1c0002\"] = google.colab.output.setActiveOutputArea(window[\"60c94644-9693-11ed-a061-0242ac1c0002\"]);\n",
              "//# sourceURL=js_c036e1c1da"
            ]
          },
          "metadata": {}
        },
        {
          "output_type": "display_data",
          "data": {
            "text/plain": [
              "<IPython.core.display.Javascript object>"
            ],
            "application/javascript": [
              "window[\"60ca74ba-9693-11ed-a061-0242ac1c0002\"] = google.colab.output.setActiveOutputArea(window[\"60c8c160-9693-11ed-a061-0242ac1c0002\"]);\n",
              "//# sourceURL=js_21e3d5801d"
            ]
          },
          "metadata": {}
        },
        {
          "output_type": "display_data",
          "data": {
            "text/plain": [
              "<IPython.core.display.Javascript object>"
            ],
            "application/javascript": [
              "window[\"60cd3b00-9693-11ed-a061-0242ac1c0002\"] = google.colab.output.getActiveOutputArea();\n",
              "//# sourceURL=js_9db9f2820c"
            ]
          },
          "metadata": {}
        },
        {
          "output_type": "display_data",
          "data": {
            "text/plain": [
              "<IPython.core.display.Javascript object>"
            ],
            "application/javascript": [
              "window[\"60cd81dc-9693-11ed-a061-0242ac1c0002\"] = document.querySelector(\"#id2-1-0\");\n",
              "//# sourceURL=js_137aa4d768"
            ]
          },
          "metadata": {}
        },
        {
          "output_type": "display_data",
          "data": {
            "text/plain": [
              "<IPython.core.display.Javascript object>"
            ],
            "application/javascript": [
              "window[\"60cdc3d6-9693-11ed-a061-0242ac1c0002\"] = google.colab.output.setActiveOutputArea(window[\"60cd81dc-9693-11ed-a061-0242ac1c0002\"]);\n",
              "//# sourceURL=js_d45670d2c0"
            ]
          },
          "metadata": {}
        },
        {
          "output_type": "display_data",
          "data": {
            "text/plain": [
              "<IPython.core.display.Javascript object>"
            ],
            "application/javascript": [
              "window[\"60ce8366-9693-11ed-a061-0242ac1c0002\"] = google.colab.output.setActiveOutputArea(window[\"60cd3b00-9693-11ed-a061-0242ac1c0002\"]);\n",
              "//# sourceURL=js_4b50acea3c"
            ]
          },
          "metadata": {}
        },
        {
          "output_type": "display_data",
          "data": {
            "text/plain": [
              "<IPython.core.display.Javascript object>"
            ],
            "application/javascript": [
              "window[\"60d05db2-9693-11ed-a061-0242ac1c0002\"] = google.colab.output.getActiveOutputArea();\n",
              "//# sourceURL=js_9786afc4ce"
            ]
          },
          "metadata": {}
        },
        {
          "output_type": "display_data",
          "data": {
            "text/plain": [
              "<IPython.core.display.Javascript object>"
            ],
            "application/javascript": [
              "window[\"60d0a164-9693-11ed-a061-0242ac1c0002\"] = document.querySelector(\"#id2-1-1\");\n",
              "//# sourceURL=js_6bba126b38"
            ]
          },
          "metadata": {}
        },
        {
          "output_type": "display_data",
          "data": {
            "text/plain": [
              "<IPython.core.display.Javascript object>"
            ],
            "application/javascript": [
              "window[\"60d0de36-9693-11ed-a061-0242ac1c0002\"] = google.colab.output.setActiveOutputArea(window[\"60d0a164-9693-11ed-a061-0242ac1c0002\"]);\n",
              "//# sourceURL=js_20fb82badd"
            ]
          },
          "metadata": {}
        },
        {
          "output_type": "display_data",
          "data": {
            "text/plain": [
              "<IPython.core.display.Javascript object>"
            ],
            "application/javascript": [
              "window[\"60d1c9d6-9693-11ed-a061-0242ac1c0002\"] = google.colab.output.setActiveOutputArea(window[\"60d05db2-9693-11ed-a061-0242ac1c0002\"]);\n",
              "//# sourceURL=js_e2745345c8"
            ]
          },
          "metadata": {}
        },
        {
          "output_type": "display_data",
          "data": {
            "text/plain": [
              "<IPython.core.display.Javascript object>"
            ],
            "application/javascript": [
              "window[\"60d344be-9693-11ed-a061-0242ac1c0002\"] = google.colab.output.getActiveOutputArea();\n",
              "//# sourceURL=js_0d1427e66b"
            ]
          },
          "metadata": {}
        },
        {
          "output_type": "display_data",
          "data": {
            "text/plain": [
              "<IPython.core.display.Javascript object>"
            ],
            "application/javascript": [
              "window[\"60d386cc-9693-11ed-a061-0242ac1c0002\"] = document.querySelector(\"#id2-1-2\");\n",
              "//# sourceURL=js_30739ef630"
            ]
          },
          "metadata": {}
        },
        {
          "output_type": "display_data",
          "data": {
            "text/plain": [
              "<IPython.core.display.Javascript object>"
            ],
            "application/javascript": [
              "window[\"60d3c3a8-9693-11ed-a061-0242ac1c0002\"] = google.colab.output.setActiveOutputArea(window[\"60d386cc-9693-11ed-a061-0242ac1c0002\"]);\n",
              "//# sourceURL=js_e580e40c46"
            ]
          },
          "metadata": {}
        },
        {
          "output_type": "display_data",
          "data": {
            "text/plain": [
              "<IPython.core.display.Javascript object>"
            ],
            "application/javascript": [
              "window[\"60d4af98-9693-11ed-a061-0242ac1c0002\"] = google.colab.output.setActiveOutputArea(window[\"60d344be-9693-11ed-a061-0242ac1c0002\"]);\n",
              "//# sourceURL=js_9bdb0e70eb"
            ]
          },
          "metadata": {}
        },
        {
          "output_type": "display_data",
          "data": {
            "text/plain": [
              "<IPython.core.display.Javascript object>"
            ],
            "application/javascript": [
              "window[\"60d696aa-9693-11ed-a061-0242ac1c0002\"] = google.colab.output.getActiveOutputArea();\n",
              "//# sourceURL=js_62c4428d87"
            ]
          },
          "metadata": {}
        },
        {
          "output_type": "display_data",
          "data": {
            "text/plain": [
              "<IPython.core.display.Javascript object>"
            ],
            "application/javascript": [
              "window[\"60d6e1e6-9693-11ed-a061-0242ac1c0002\"] = document.querySelector(\"#id2-1-3\");\n",
              "//# sourceURL=js_e3b540f98e"
            ]
          },
          "metadata": {}
        },
        {
          "output_type": "display_data",
          "data": {
            "text/plain": [
              "<IPython.core.display.Javascript object>"
            ],
            "application/javascript": [
              "window[\"60d72926-9693-11ed-a061-0242ac1c0002\"] = google.colab.output.setActiveOutputArea(window[\"60d6e1e6-9693-11ed-a061-0242ac1c0002\"]);\n",
              "//# sourceURL=js_ee3d02c1d5"
            ]
          },
          "metadata": {}
        },
        {
          "output_type": "display_data",
          "data": {
            "text/plain": [
              "<IPython.core.display.Javascript object>"
            ],
            "application/javascript": [
              "window[\"60d82c90-9693-11ed-a061-0242ac1c0002\"] = google.colab.output.setActiveOutputArea(window[\"60d696aa-9693-11ed-a061-0242ac1c0002\"]);\n",
              "//# sourceURL=js_490fd8b4d0"
            ]
          },
          "metadata": {}
        },
        {
          "output_type": "display_data",
          "data": {
            "text/plain": [
              "<IPython.core.display.Javascript object>"
            ],
            "application/javascript": [
              "window[\"60db9ace-9693-11ed-a061-0242ac1c0002\"] = google.colab.output.getActiveOutputArea();\n",
              "//# sourceURL=js_ae1b3f6379"
            ]
          },
          "metadata": {}
        },
        {
          "output_type": "display_data",
          "data": {
            "text/plain": [
              "<IPython.core.display.Javascript object>"
            ],
            "application/javascript": [
              "window[\"60dc4474-9693-11ed-a061-0242ac1c0002\"] = document.querySelector(\"#id2-0-0\");\n",
              "//# sourceURL=js_d0e2db57a2"
            ]
          },
          "metadata": {}
        },
        {
          "output_type": "display_data",
          "data": {
            "text/plain": [
              "<IPython.core.display.Javascript object>"
            ],
            "application/javascript": [
              "window[\"60dc8d26-9693-11ed-a061-0242ac1c0002\"] = google.colab.output.setActiveOutputArea(window[\"60dc4474-9693-11ed-a061-0242ac1c0002\"]);\n",
              "//# sourceURL=js_0a30af42cd"
            ]
          },
          "metadata": {}
        },
        {
          "output_type": "display_data",
          "data": {
            "text/plain": [
              "<IPython.core.display.Javascript object>"
            ],
            "application/javascript": [
              "window[\"60dd6386-9693-11ed-a061-0242ac1c0002\"] = google.colab.output.setActiveOutputArea(window[\"60db9ace-9693-11ed-a061-0242ac1c0002\"]);\n",
              "//# sourceURL=js_0c4589e196"
            ]
          },
          "metadata": {}
        },
        {
          "output_type": "display_data",
          "data": {
            "text/plain": [
              "<IPython.core.display.Javascript object>"
            ],
            "application/javascript": [
              "window[\"60dee4cc-9693-11ed-a061-0242ac1c0002\"] = google.colab.output.getActiveOutputArea();\n",
              "//# sourceURL=js_636897f206"
            ]
          },
          "metadata": {}
        },
        {
          "output_type": "display_data",
          "data": {
            "text/plain": [
              "<IPython.core.display.Javascript object>"
            ],
            "application/javascript": [
              "window[\"60df2496-9693-11ed-a061-0242ac1c0002\"] = document.querySelector(\"#id2-0-1\");\n",
              "//# sourceURL=js_a78e50653e"
            ]
          },
          "metadata": {}
        },
        {
          "output_type": "display_data",
          "data": {
            "text/plain": [
              "<IPython.core.display.Javascript object>"
            ],
            "application/javascript": [
              "window[\"60df5fce-9693-11ed-a061-0242ac1c0002\"] = google.colab.output.setActiveOutputArea(window[\"60df2496-9693-11ed-a061-0242ac1c0002\"]);\n",
              "//# sourceURL=js_43ad4bde2f"
            ]
          },
          "metadata": {}
        },
        {
          "output_type": "display_data",
          "data": {
            "text/plain": [
              "<IPython.core.display.Javascript object>"
            ],
            "application/javascript": [
              "window[\"60e03322-9693-11ed-a061-0242ac1c0002\"] = google.colab.output.setActiveOutputArea(window[\"60dee4cc-9693-11ed-a061-0242ac1c0002\"]);\n",
              "//# sourceURL=js_e3634ae65a"
            ]
          },
          "metadata": {}
        },
        {
          "output_type": "display_data",
          "data": {
            "text/plain": [
              "<IPython.core.display.Javascript object>"
            ],
            "application/javascript": [
              "window[\"60e1a270-9693-11ed-a061-0242ac1c0002\"] = google.colab.output.getActiveOutputArea();\n",
              "//# sourceURL=js_dc5006f297"
            ]
          },
          "metadata": {}
        },
        {
          "output_type": "display_data",
          "data": {
            "text/plain": [
              "<IPython.core.display.Javascript object>"
            ],
            "application/javascript": [
              "window[\"60e1e1c2-9693-11ed-a061-0242ac1c0002\"] = document.querySelector(\"#id2-0-2\");\n",
              "//# sourceURL=js_fef4990d57"
            ]
          },
          "metadata": {}
        },
        {
          "output_type": "display_data",
          "data": {
            "text/plain": [
              "<IPython.core.display.Javascript object>"
            ],
            "application/javascript": [
              "window[\"60e21cb4-9693-11ed-a061-0242ac1c0002\"] = google.colab.output.setActiveOutputArea(window[\"60e1e1c2-9693-11ed-a061-0242ac1c0002\"]);\n",
              "//# sourceURL=js_16d6160d13"
            ]
          },
          "metadata": {}
        },
        {
          "output_type": "display_data",
          "data": {
            "text/plain": [
              "<IPython.core.display.Javascript object>"
            ],
            "application/javascript": [
              "window[\"60e2f120-9693-11ed-a061-0242ac1c0002\"] = google.colab.output.setActiveOutputArea(window[\"60e1a270-9693-11ed-a061-0242ac1c0002\"]);\n",
              "//# sourceURL=js_3a083c6910"
            ]
          },
          "metadata": {}
        },
        {
          "output_type": "display_data",
          "data": {
            "text/plain": [
              "<IPython.core.display.Javascript object>"
            ],
            "application/javascript": [
              "window[\"60e459c0-9693-11ed-a061-0242ac1c0002\"] = google.colab.output.getActiveOutputArea();\n",
              "//# sourceURL=js_5e255c038a"
            ]
          },
          "metadata": {}
        },
        {
          "output_type": "display_data",
          "data": {
            "text/plain": [
              "<IPython.core.display.Javascript object>"
            ],
            "application/javascript": [
              "window[\"60e49ac0-9693-11ed-a061-0242ac1c0002\"] = document.querySelector(\"#id2-0-3\");\n",
              "//# sourceURL=js_b702b6f6a4"
            ]
          },
          "metadata": {}
        },
        {
          "output_type": "display_data",
          "data": {
            "text/plain": [
              "<IPython.core.display.Javascript object>"
            ],
            "application/javascript": [
              "window[\"60e4d760-9693-11ed-a061-0242ac1c0002\"] = google.colab.output.setActiveOutputArea(window[\"60e49ac0-9693-11ed-a061-0242ac1c0002\"]);\n",
              "//# sourceURL=js_131e707c90"
            ]
          },
          "metadata": {}
        },
        {
          "output_type": "display_data",
          "data": {
            "text/plain": [
              "<IPython.core.display.Javascript object>"
            ],
            "application/javascript": [
              "window[\"60e5b36a-9693-11ed-a061-0242ac1c0002\"] = google.colab.output.setActiveOutputArea(window[\"60e459c0-9693-11ed-a061-0242ac1c0002\"]);\n",
              "//# sourceURL=js_c35ca95c7c"
            ]
          },
          "metadata": {}
        },
        {
          "output_type": "display_data",
          "data": {
            "text/plain": [
              "<IPython.core.display.Javascript object>"
            ],
            "application/javascript": [
              "window[\"60e720ce-9693-11ed-a061-0242ac1c0002\"] = google.colab.output.getActiveOutputArea();\n",
              "//# sourceURL=js_db4f7a0a1b"
            ]
          },
          "metadata": {}
        },
        {
          "output_type": "display_data",
          "data": {
            "text/plain": [
              "<IPython.core.display.Javascript object>"
            ],
            "application/javascript": [
              "window[\"60e761ce-9693-11ed-a061-0242ac1c0002\"] = document.querySelector(\"#id2-1-0\");\n",
              "//# sourceURL=js_55fbad3627"
            ]
          },
          "metadata": {}
        },
        {
          "output_type": "display_data",
          "data": {
            "text/plain": [
              "<IPython.core.display.Javascript object>"
            ],
            "application/javascript": [
              "window[\"60e79eb4-9693-11ed-a061-0242ac1c0002\"] = google.colab.output.setActiveOutputArea(window[\"60e761ce-9693-11ed-a061-0242ac1c0002\"]);\n",
              "//# sourceURL=js_ad29b494ef"
            ]
          },
          "metadata": {}
        },
        {
          "output_type": "display_data",
          "data": {
            "text/plain": [
              "<IPython.core.display.Javascript object>"
            ],
            "application/javascript": [
              "window[\"60e8723a-9693-11ed-a061-0242ac1c0002\"] = google.colab.output.setActiveOutputArea(window[\"60e720ce-9693-11ed-a061-0242ac1c0002\"]);\n",
              "//# sourceURL=js_892912e9d5"
            ]
          },
          "metadata": {}
        },
        {
          "output_type": "display_data",
          "data": {
            "text/plain": [
              "<IPython.core.display.Javascript object>"
            ],
            "application/javascript": [
              "window[\"60e9e34a-9693-11ed-a061-0242ac1c0002\"] = google.colab.output.getActiveOutputArea();\n",
              "//# sourceURL=js_0fa1bbefe3"
            ]
          },
          "metadata": {}
        },
        {
          "output_type": "display_data",
          "data": {
            "text/plain": [
              "<IPython.core.display.Javascript object>"
            ],
            "application/javascript": [
              "window[\"60ea24f4-9693-11ed-a061-0242ac1c0002\"] = document.querySelector(\"#id2-1-1\");\n",
              "//# sourceURL=js_fe8d2a388a"
            ]
          },
          "metadata": {}
        },
        {
          "output_type": "display_data",
          "data": {
            "text/plain": [
              "<IPython.core.display.Javascript object>"
            ],
            "application/javascript": [
              "window[\"60ea6306-9693-11ed-a061-0242ac1c0002\"] = google.colab.output.setActiveOutputArea(window[\"60ea24f4-9693-11ed-a061-0242ac1c0002\"]);\n",
              "//# sourceURL=js_1a84a64a85"
            ]
          },
          "metadata": {}
        },
        {
          "output_type": "display_data",
          "data": {
            "text/plain": [
              "Button(description='walks', style=ButtonStyle())"
            ],
            "application/vnd.jupyter.widget-view+json": {
              "version_major": 2,
              "version_minor": 0,
              "model_id": "93e0dc2d84b546f1ae811cf688123ba5"
            }
          },
          "metadata": {}
        },
        {
          "output_type": "display_data",
          "data": {
            "text/plain": [
              "<IPython.core.display.Javascript object>"
            ],
            "application/javascript": [
              "window[\"60eb6ff8-9693-11ed-a061-0242ac1c0002\"] = google.colab.output.setActiveOutputArea(window[\"60e9e34a-9693-11ed-a061-0242ac1c0002\"]);\n",
              "//# sourceURL=js_4a5b5406bc"
            ]
          },
          "metadata": {}
        },
        {
          "output_type": "display_data",
          "data": {
            "text/plain": [
              "<IPython.core.display.Javascript object>"
            ],
            "application/javascript": [
              "window[\"60ecc222-9693-11ed-a061-0242ac1c0002\"] = google.colab.output.getActiveOutputArea();\n",
              "//# sourceURL=js_6d7e3dd0df"
            ]
          },
          "metadata": {}
        },
        {
          "output_type": "display_data",
          "data": {
            "text/plain": [
              "<IPython.core.display.Javascript object>"
            ],
            "application/javascript": [
              "window[\"60ecf83c-9693-11ed-a061-0242ac1c0002\"] = document.querySelector(\"#id2-1-2\");\n",
              "//# sourceURL=js_38bbf0b11c"
            ]
          },
          "metadata": {}
        },
        {
          "output_type": "display_data",
          "data": {
            "text/plain": [
              "<IPython.core.display.Javascript object>"
            ],
            "application/javascript": [
              "window[\"60ed2f32-9693-11ed-a061-0242ac1c0002\"] = google.colab.output.setActiveOutputArea(window[\"60ecf83c-9693-11ed-a061-0242ac1c0002\"]);\n",
              "//# sourceURL=js_3f1e30ea91"
            ]
          },
          "metadata": {}
        },
        {
          "output_type": "display_data",
          "data": {
            "text/plain": [
              "Button(description='breathe', style=ButtonStyle())"
            ],
            "application/vnd.jupyter.widget-view+json": {
              "version_major": 2,
              "version_minor": 0,
              "model_id": "a8d4f9aa721c46bb909f5773a93a9c7e"
            }
          },
          "metadata": {}
        },
        {
          "output_type": "display_data",
          "data": {
            "text/plain": [
              "<IPython.core.display.Javascript object>"
            ],
            "application/javascript": [
              "window[\"60ee29d2-9693-11ed-a061-0242ac1c0002\"] = google.colab.output.setActiveOutputArea(window[\"60ecc222-9693-11ed-a061-0242ac1c0002\"]);\n",
              "//# sourceURL=js_c8144c9add"
            ]
          },
          "metadata": {}
        },
        {
          "output_type": "display_data",
          "data": {
            "text/plain": [
              "<IPython.core.display.Javascript object>"
            ],
            "application/javascript": [
              "window[\"60ef970e-9693-11ed-a061-0242ac1c0002\"] = google.colab.output.getActiveOutputArea();\n",
              "//# sourceURL=js_8a3657ce2d"
            ]
          },
          "metadata": {}
        },
        {
          "output_type": "display_data",
          "data": {
            "text/plain": [
              "<IPython.core.display.Javascript object>"
            ],
            "application/javascript": [
              "window[\"60efdfde-9693-11ed-a061-0242ac1c0002\"] = document.querySelector(\"#id2-1-3\");\n",
              "//# sourceURL=js_e0201c1121"
            ]
          },
          "metadata": {}
        },
        {
          "output_type": "display_data",
          "data": {
            "text/plain": [
              "<IPython.core.display.Javascript object>"
            ],
            "application/javascript": [
              "window[\"60f01e2c-9693-11ed-a061-0242ac1c0002\"] = google.colab.output.setActiveOutputArea(window[\"60efdfde-9693-11ed-a061-0242ac1c0002\"]);\n",
              "//# sourceURL=js_795fe383e4"
            ]
          },
          "metadata": {}
        },
        {
          "output_type": "display_data",
          "data": {
            "text/plain": [
              "Button(description='can', style=ButtonStyle())"
            ],
            "application/vnd.jupyter.widget-view+json": {
              "version_major": 2,
              "version_minor": 0,
              "model_id": "9d85842779f646288439a5a28d55320a"
            }
          },
          "metadata": {}
        },
        {
          "output_type": "display_data",
          "data": {
            "text/plain": [
              "<IPython.core.display.Javascript object>"
            ],
            "application/javascript": [
              "window[\"60f1144e-9693-11ed-a061-0242ac1c0002\"] = google.colab.output.setActiveOutputArea(window[\"60ef970e-9693-11ed-a061-0242ac1c0002\"]);\n",
              "//# sourceURL=js_bbf22b6f06"
            ]
          },
          "metadata": {}
        }
      ]
    }
  ]
}